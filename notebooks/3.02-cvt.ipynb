{
 "cells": [
  {
   "cell_type": "markdown",
   "metadata": {},
   "source": [
    "# <div align=\"center\"><b> Convolutional Vision Transformer (CvT)</b></div>"
   ]
  },
  {
   "cell_type": "markdown",
   "metadata": {},
   "source": [
    "<div align=\"right\">\n",
    "\n",
    "<!-- [![Binder](http://mybinder.org/badge.svg)](https://mybinder.org/) -->\n",
    "[![nbviewer](https://img.shields.io/badge/render-nbviewer-orange?logo=Jupyter)](https://nbviewer.org/)\n",
    "[![Open In Colab](https://colab.research.google.com/assets/colab-badge.svg)](https://colab.research.google.com/)\n",
    "\n",
    "</div>"
   ]
  },
  {
   "cell_type": "markdown",
   "metadata": {},
   "source": [
    "* * *"
   ]
  },
  {
   "cell_type": "markdown",
   "metadata": {},
   "source": [
    "<style>\n",
    "/* Limitar la altura de las celdas de salida en html */\n",
    ".jp-OutputArea.jp-Cell-outputArea {\n",
    "    max-height: 500px;\n",
    "}\n",
    "</style>"
   ]
  },
  {
   "cell_type": "markdown",
   "metadata": {},
   "source": [
    "🛻 <em><font color='MediumSeaGreen'>  Instalaciones: </font></em> 🛻\n"
   ]
  },
  {
   "cell_type": "markdown",
   "metadata": {},
   "source": [
    "Este notebook utiliza [Poetry](https://python-poetry.org/) para la gestión de dependencias.\n",
    "Primero instala Poetry siguiendo las instrucciones de su [documentación oficial](https://python-poetry.org/docs/#installation).\n",
    "Luego ejecuta el siguiente comando para instalar las dependencias necesarias y activar el entorno virtual:\n",
    "\n",
    "- Bash:\n",
    "\n",
    "```bash\n",
    "poetry install\n",
    "eval $(poetry env activate)\n",
    "```\n",
    "\n",
    "- PowerShell:\n",
    "\n",
    "```powershell\n",
    "poetry install\n",
    "Invoke-Expression (poetry env activate)\n",
    "```\n",
    "\n",
    "> 📝 <em><font color='Gray'>Nota:</font></em> Para agregar `pytorch` utilizando Poetry, se utiliza el siguiente comando:\n",
    "> ```bash\n",
    "> # Más info: https://github.com/python-poetry/poetry/issues/6409\n",
    "> poetry source add --priority explicit pytorch_gpu https://download.pytorch.org/whl/cu128 # Seleccionar la wheel adecuada para tu GPU\n",
    "> poetry add --source pytorch_gpu torch torchvision \n",
    "> ```"
   ]
  },
  {
   "cell_type": "markdown",
   "metadata": {},
   "source": [
    "✋ <em><font color='DodgerBlue'>Importaciones:</font></em> ✋"
   ]
  },
  {
   "cell_type": "code",
   "execution_count": 58,
   "metadata": {},
   "outputs": [],
   "source": [
    "# Recarga automática de módulos en Jupyter Notebook\n",
    "%reload_ext autoreload\n",
    "%autoreload 2\n",
    "\n",
    "# Recarga automática de módulos en Jupyter Notebook\n",
    "import random\n",
    "from loguru import logger\n",
    "\n",
    "import pandas as pd\n",
    "\n",
    "# PyTorch\n",
    "import torch\n",
    "from torch.utils.data import DataLoader\n",
    "import torchvision.transforms.functional as TF\n",
    "\n",
    "# NumPy y utilidades\n",
    "import numpy as np\n",
    "from functools import partial\n",
    "\n",
    "# Evaluación\n",
    "import evaluate\n",
    "\n",
    "# Modelos y procesamiento de imágenes (Transformers)\n",
    "from transformers import (\n",
    "    AutoFeatureExtractor,\n",
    "    CvtForImageClassification,\n",
    "    DefaultDataCollator,\n",
    "    TrainingArguments,\n",
    "    Trainer,\n",
    "    EarlyStoppingCallback,\n",
    "    # Swinv2ForImageClassification,  # Descomentar si se usa explícitamente\n",
    ")\n",
    "from transformers.integrations import MLflowCallback\n",
    "\n",
    "import pandas as pd\n",
    "\n",
    "from torchvision import transforms\n",
    "\n",
    "from PIL import Image\n",
    "\n",
    "\n",
    "# Módulos propios\n",
    "from vision_transformer.plots import show_image_grid, plot_confusion_matrix, plot_metric\n",
    "from vision_transformer.dataset import load_huggingface_dataset\n",
    "from vision_transformer.utils import MulticlassAccuracy\n",
    "from vision_transformer.config import (\n",
    "    RANDOM_SEED,\n",
    "    MODELS_DIR,\n",
    "    FIGURES_DIR,\n",
    "    MODELS_DIR_CVT_13,\n",
    "    MODELS_DIR_CVT_21,\n",
    "    METRICS_FILENAME,\n",
    "    HISTORY_FILENAME,\n",
    "    PREDICTIONS_FILENAME,\n",
    "    MLFLOW_URL,\n",
    "    DATASET_NAME,\n",
    "    DATASET_VERSION,\n",
    "    MODEL_NAME_CVT_13,\n",
    "    MODEL_NAME_CVT_21,\n",
    "    PREFECT_URL\n",
    ")\n",
    "\n",
    "import mlflow\n",
    "import requests\n",
    "import os"
   ]
  },
  {
   "cell_type": "markdown",
   "metadata": {},
   "source": [
    "🔧 <em><font color='tomato'>Configuraciones:</font></em> 🔧\n"
   ]
  },
  {
   "cell_type": "code",
   "execution_count": null,
   "metadata": {},
   "outputs": [],
   "source": [
    "random.seed(RANDOM_SEED)  # Establece la semilla para la reproducibilidad.\n",
    "TESTING_MODE = False  # Modo de prueba, si es True, se usa un subconjunto pequeño del dataset.\n",
    "\n",
    "BATCH_SIZE = 64\n",
    "\n",
    "# Checkpoints a utilizar\n",
    "MODEL_NAME = MODEL_NAME_CVT_21\n",
    "MODEL_FOLDER = MODELS_DIR_CVT_21\n",
    "CHECKPOINT = \"microsoft/\" + MODEL_NAME\n",
    "\n",
    "# MODEL_NAME = MODEL_NAME_SWINV2_BASE\n",
    "# MODEL_FOLDER = MODELS_DIR_SIWNV2_BASE\n",
    "# CHECKPOINT = \"microsoft/swinv2-base-patch4-window8-256\"\n",
    "\n",
    "# MODEL_NAME = MODEL_NAME_SWINV2_LARGE\n",
    "# MODEL_FOLDER = MODELS_DIR_SIWNV2_LARGE\n",
    "# CHECKPOINT = \"microsoft/swinv2-large-patch4-window12to16-192to256-22kto1k-ft\"\n",
    "\n",
    "# Optimizaciones\n",
    "# # torch.set_float32_matmul_precision('highest') # Optimización: Establece la precisión de las multiplicaciones de matrices de punto flotante de 32 bits en 'más alta'.\n",
    "# torch.set_float32_matmul_precision('high') # Optimización: Establece la precisión de las multiplicaciones de matrices de punto flotante de 32 bits en 'alta'.\n",
    "# # torch.set_float32_matmul_precision('medium') # Optimización: Establece la precisión de las multiplicaciones de matrices de punto flotante de 32 bits en 'media'.\n",
    "# # torch.backends.cudnn.benchmark = True # Optimización: Para redes CNN (pero como se usa una capa convolucional, se establece en True).\n",
    "\n",
    "DEVICE = \"cuda\" if torch.cuda.is_available() else \"cpu\"  # Establece el dispositivo.\n",
    "logger.info(f\"Dispositivo actual: {DEVICE}\")\n",
    "\n",
    "# MLflow: Configuración de la URI de seguimiento\n",
    "try:\n",
    "    response = requests.get(MLFLOW_URL)\n",
    "    response.raise_for_status()  # Verifica si la solicitud fue exitosa.\n",
    "    logger.success(\"Conexión a MLflow establecida correctamente.\")\n",
    "    os.environ[\"MLFLOW_TRACKING_URI\"] = MLFLOW_URL  # Configura la URI de seguimiento de MLflow.\n",
    "    os.environ[\"MLFLOW_EXPERIMENT_NAME\"] = CHECKPOINT.replace(\"/\", \"_\")  # Configura el nombre del experimento de MLflow.\n",
    "    os.environ[\"MLFLOW_TAGS\"] = '{\"model_family\": \"swinv2\"}'\n",
    "except Exception as e:\n",
    "    logger.error(f\"Error al conectar con MLflow. Tienes levantado el servidor de MLflow?\")\n",
    "    raise SystemExit(f\"Error al conectar con MLflow: {e}\")\n",
    "\n",
    "# Prefect: Configuración de Prefect\n",
    "try:\n",
    "    response = requests.get(PREFECT_URL)\n",
    "    response.raise_for_status()  # Verifica si la solicitud fue exitosa.\n",
    "    logger.success(\"Conexión a Prefect establecida correctamente.\")\n",
    "except Exception as e:\n",
    "    logger.error(f\"Error al conectar con Prefect. Tienes levantado el servidor de Prefect?\")\n",
    "    raise SystemExit(f\"Error al conectar con Prefect: {e}\")"
   ]
  },
  {
   "cell_type": "markdown",
   "metadata": {},
   "source": [
    "<div align=\"center\">✨Datos del proyecto:✨</div>\n",
    "\n",
    "<p></p>\n",
    "\n",
    "<div align=\"center\">\n",
    "\n",
    "| Subtitulo       | *Fine-tuning* del modelo swimv2 sobre el dataset EuroSAT                                                                       |\n",
    "| --------------- | -------------------------------------------------------------------------------------------------------------------------------------- |\n",
    "| **Descrpción**  | <small>Análisis exploratorio del proceso de *fine-tuning* del swimv2 sobre el EuroSAT<br/>- *Tarea:* `Clasificación`<br/>- *Modelo*: `CvT`<br/> - *Dataset*: `EuroSAT` </small>|\n",
    "<!-- | **Autor** | <small>[Nombre] ([correo]) </small>                                                                                                 | -->\n",
    "\n",
    "</div>"
   ]
  },
  {
   "cell_type": "markdown",
   "metadata": {},
   "source": [
    "## Tabla de contenidos\n",
    "0. [Pasos previos](#pasos-previos)\n",
    "1. [Carga de datos](#carga-de-datos)\n",
    "2. [Carga del modelo](#carga-del-modelo)\n",
    "3. [Preprocesamiento del dataset](#preprocesamiento)\n",
    "4. [Definicion de las metricas de evaluacion](#metricas)\n",
    "5. [Entrenamiento del modelo](#entrenamiento)\n",
    "6. [Resultados](#resultados)"
   ]
  },
  {
   "cell_type": "markdown",
   "metadata": {},
   "source": [
    "## 0. Pasos previos <a id=\"pasos-previos\"></a>"
   ]
  },
  {
   "cell_type": "markdown",
   "metadata": {},
   "source": [
    "Ejecuta desde la raíz del proyecto para descargar el dataset EuroSAT:\n",
    "\n",
    "```bash\n",
    "python -m vision_transformer.flows.test_flow\n",
    "```"
   ]
  },
  {
   "cell_type": "markdown",
   "metadata": {},
   "source": [
    "## 1. Carga de datos <a name=\"carga-de-datos\"></a>"
   ]
  },
  {
   "cell_type": "code",
   "execution_count": 60,
   "metadata": {},
   "outputs": [
    {
     "name": "stdout",
     "output_type": "stream",
     "text": [
      "\u001b[32m2025-06-17 09:22:07.530\u001b[0m | \u001b[1mINFO    \u001b[0m | \u001b[36mvision_transformer.dataset\u001b[0m:\u001b[36mload_huggingface_dataset\u001b[0m:\u001b[36m441\u001b[0m - \u001b[1mCargando el dataset procesado...\u001b[0m\n",
      "\u001b[32m2025-06-17 09:22:11.386\u001b[0m | \u001b[1mINFO    \u001b[0m | \u001b[36mvision_transformer.dataset\u001b[0m:\u001b[36mload_huggingface_dataset\u001b[0m:\u001b[36m453\u001b[0m - \u001b[1mEl dataset contiene múltiples conjuntos (train, test, val). Cargando todos...\u001b[0m\n"
     ]
    },
    {
     "data": {
      "application/vnd.jupyter.widget-view+json": {
       "model_id": "bd08ca2d824d4154a4ad447fc2525c0e",
       "version_major": 2,
       "version_minor": 0
      },
      "text/plain": [
       "Resolving data files:   0%|          | 0/24300 [00:00<?, ?it/s]"
      ]
     },
     "metadata": {},
     "output_type": "display_data"
    },
    {
     "data": {
      "application/vnd.jupyter.widget-view+json": {
       "model_id": "6b8e3bba7385408e98992281c5f24168",
       "version_major": 2,
       "version_minor": 0
      },
      "text/plain": [
       "Resolving data files:   0%|          | 0/2700 [00:00<?, ?it/s]"
      ]
     },
     "metadata": {},
     "output_type": "display_data"
    }
   ],
   "source": [
    "dataset = load_huggingface_dataset()"
   ]
  },
  {
   "cell_type": "code",
   "execution_count": 61,
   "metadata": {},
   "outputs": [
    {
     "name": "stdout",
     "output_type": "stream",
     "text": [
      "DatasetDict({\n",
      "    train: Dataset({\n",
      "        features: ['image', 'label'],\n",
      "        num_rows: 24300\n",
      "    })\n",
      "    test: Dataset({\n",
      "        features: ['image', 'label'],\n",
      "        num_rows: 2700\n",
      "    })\n",
      "})\n"
     ]
    }
   ],
   "source": [
    "print(dataset)"
   ]
  },
  {
   "cell_type": "code",
   "execution_count": 62,
   "metadata": {},
   "outputs": [
    {
     "name": "stdout",
     "output_type": "stream",
     "text": [
      "Cantidad de clases: 10 \n",
      "\n",
      "- id 0: AnnualCrop\n",
      "- id 1: Forest\n",
      "- id 2: HerbaceousVegetation\n",
      "- id 3: Highway\n",
      "- id 4: Industrial\n",
      "- id 5: Pasture\n",
      "- id 6: PermanentCrop\n",
      "- id 7: Residential\n",
      "- id 8: River\n",
      "- id 9: SeaLake\n"
     ]
    }
   ],
   "source": [
    "# Obtenemos el número de clases y las etiquetas\n",
    "labels = dataset[\"train\"].features[\"label\"].names\n",
    "id2label = {id: label for id, label in enumerate(dataset[\"train\"].features[\"label\"].names)}\n",
    "label2id = {label: id for id, label in id2label.items()}\n",
    "\n",
    "print(\"Cantidad de clases:\", len(id2label), \"\\n\")\n",
    "for k, v in id2label.items():\n",
    "    print(f\"- id {k}: {v}\")"
   ]
  },
  {
   "cell_type": "code",
   "execution_count": 63,
   "metadata": {},
   "outputs": [
    {
     "name": "stdout",
     "output_type": "stream",
     "text": [
      "{'image': <PIL.JpegImagePlugin.JpegImageFile image mode=RGB size=64x64 at 0x1E5F25C5BD0>, 'label': 0}\n"
     ]
    }
   ],
   "source": [
    "# Mostramos como está compuesta una imagen del dataset\n",
    "print(dataset['train'][0])"
   ]
  },
  {
   "cell_type": "code",
   "execution_count": 64,
   "metadata": {},
   "outputs": [],
   "source": [
    "if TESTING_MODE:\n",
    "    logger.warning(\"Modo de prueba activado. Usando un subconjunto pequeño del dataset.\")\n",
    "    # Seleccionamos un subconjunto pequeño del dataset para pruebas\n",
    "    dataset[\"train\"] = dataset[\"train\"].shuffle(seed=RANDOM_SEED).select(range(100))\n",
    "    dataset[\"test\"] = dataset[\"test\"].shuffle(seed=RANDOM_SEED).select(range(80))"
   ]
  },
  {
   "cell_type": "markdown",
   "metadata": {},
   "source": [
    "## 2. Carga del modelo <a name=\"carga-del-modelo\"></a>"
   ]
  },
  {
   "cell_type": "markdown",
   "metadata": {},
   "source": [
    "Para este proyecto se decidio utilizar un modelo [Convolutional Vision Transformer](https://arxiv.org/pdf/2103.15808) desarrollado por Microsoft Research team, el cual es un hibrido que goza de propiedades propias de los modelos ViT y CNN.\n",
    "\n",
    "Este modelo mejora a los ViT en performance y eficiencia introduciendo convoluciones para obtener lo mejor de ambos disenos: atencion global y escalabilidad de los modelos ViT; y sesgo local, equivariancia traslacional y eficiencia computacional de los modelos CNN.\n",
    "\n",
    "Esto se logra introduciendo dos cambios fundamentales con respecto a los modelos ViT estandar:\n",
    "\n",
    "- Convolutional Token Embedding\n",
    "\n",
    "- Convolutional Projection for Attention\n",
    "\n",
    "<br>\n",
    "\n",
    "<div align=\"center\"><img src=\"../resources/cvt-architecture.png\" width=\"600\" alt=\"Figura 1: Arquitectura del Convolutional Vision Transformer - Obtenida de https://github.com/rishigami/Swin-Transformer-TF\"></div>\n",
    "<div align=\"center\"><small><em>Figura 1: Arquitectura del Swin Transformer - Obtenida de https://paperswithcode.com/paper/cvt-introducing-convolutions-to-vision</em></small></div>\n",
    "\n",
    "<br>\n",
    "\n",
    "La utilizacion del modelo va a realizarse a traves de la libreria [transformers](https://huggingface.co/docs/transformers/en/index) de Hugginface. Las versiones del modelo seleccionadas para este proyecto son [microsoft/cvt-13](https://huggingface.co/microsoft/cvt-13) y [microsoft/cvt-21](https://huggingface.co/microsoft/cvt-21).\n",
    "\n",
    "La razon para tomar esta decision es la consideracion de que nuestro dataset cuenta con imagenes en tamano 64x64. Las versiones del modelo seleccionadas fueron entrenadas con imagenes en tamaño 224x224 en lugar del tamaño 384x384 utilizado por la mayoria de los otros modelos de la familia disponibilizados por el equipo de Microsoft Research."
   ]
  },
  {
   "cell_type": "code",
   "execution_count": 65,
   "metadata": {},
   "outputs": [
    {
     "name": "stdout",
     "output_type": "stream",
     "text": [
      "Usando el modelo: microsoft/cvt-21\n"
     ]
    }
   ],
   "source": [
    "print(f\"Usando el modelo: {CHECKPOINT}\")"
   ]
  },
  {
   "cell_type": "code",
   "execution_count": 84,
   "metadata": {},
   "outputs": [
    {
     "name": "stderr",
     "output_type": "stream",
     "text": [
      "Some weights of CvtForImageClassification were not initialized from the model checkpoint at microsoft/cvt-21 and are newly initialized because the shapes did not match:\n",
      "- classifier.weight: found shape torch.Size([1000, 384]) in the checkpoint and torch.Size([10, 384]) in the model instantiated\n",
      "- classifier.bias: found shape torch.Size([1000]) in the checkpoint and torch.Size([10]) in the model instantiated\n",
      "You should probably TRAIN this model on a down-stream task to be able to use it for predictions and inference.\n"
     ]
    },
    {
     "name": "stdout",
     "output_type": "stream",
     "text": [
      " (CvtForImageClassification)\n",
      "cvt (CvtModel)\n",
      "  encoder (CvtEncoder)\n",
      "    stages (ModuleList)\n",
      "      0 (CvtStage)\n",
      "        embedding (CvtEmbeddings)\n",
      "          convolution_embeddings (CvtConvEmbeddings)\n",
      "          dropout (Dropout)\n",
      "        layers (Sequential)\n",
      "          0 (CvtLayer)\n",
      "      1 (CvtStage)\n",
      "        embedding (CvtEmbeddings)\n",
      "          convolution_embeddings (CvtConvEmbeddings)\n",
      "          dropout (Dropout)\n",
      "        layers (Sequential)\n",
      "          0 (CvtLayer)\n",
      "          1 (CvtLayer)\n",
      "          2 (CvtLayer)\n",
      "          3 (CvtLayer)\n",
      "      2 (CvtStage)\n",
      "        embedding (CvtEmbeddings)\n",
      "          convolution_embeddings (CvtConvEmbeddings)\n",
      "          dropout (Dropout)\n",
      "        layers (Sequential)\n",
      "          0 (CvtLayer)\n",
      "          1 (CvtLayer)\n",
      "          2 (CvtLayer)\n",
      "          3 (CvtLayer)\n",
      "          4 (CvtLayer)\n",
      "          5 (CvtLayer)\n",
      "          6 (CvtLayer)\n",
      "          7 (CvtLayer)\n",
      "          8 (CvtLayer)\n",
      "          9 (CvtLayer)\n",
      "          10 (CvtLayer)\n",
      "          11 (CvtLayer)\n",
      "          12 (CvtLayer)\n",
      "          13 (CvtLayer)\n",
      "          14 (CvtLayer)\n",
      "          15 (CvtLayer)\n",
      "layernorm (LayerNorm)\n",
      "classifier (Linear)\n"
     ]
    }
   ],
   "source": [
    "# Cargamos el modelo.\n",
    "model = CvtForImageClassification.from_pretrained(\n",
    "    CHECKPOINT,\n",
    "    num_labels=len(labels),\n",
    "    id2label=id2label,\n",
    "    label2id=label2id,\n",
    "    ignore_mismatched_sizes=True\n",
    ")\n",
    "\n",
    "for name, layer in model.named_modules():\n",
    "    name_parts = str.split(name, \".\")\n",
    "    if len(name_parts) <= 6:\n",
    "        print(f\"{'  ' * (len(name_parts) - 1)}{name_parts[-1]} ({layer.__class__.__name__})\")"
   ]
  },
  {
   "cell_type": "code",
   "execution_count": 42,
   "metadata": {},
   "outputs": [
    {
     "name": "stdout",
     "output_type": "stream",
     "text": [
      "Número de parámetros: 31.24 millones\n"
     ]
    }
   ],
   "source": [
    "torch.cuda.empty_cache()\n",
    "print(\n",
    "    \"Número de parámetros: {:.2f} millones\".format(\n",
    "        sum(p.numel() for p in model.parameters() if p.requires_grad) / 1_000_000\n",
    "    )\n",
    ")"
   ]
  },
  {
   "cell_type": "markdown",
   "metadata": {},
   "source": [
    "> 📝 <em><font color='Gray'>Nota:</font></em> Para realizar feature-extractor, se deben congelar las capas del *backbone*. \n",
    "> Esto se puede hacer con:\n",
    "> ```python\n",
    "> # Congelar todas las capas excepto la última de clasificación (classifier)\n",
    "> for param in model.cvt.parameters(): # Acceder al backbone del modelo\n",
    ">     param.requires_grad = False\n",
    ">     print(f\"Parámetro: {param.shape}, Requiere gradiente: {param.requires_grad}\")\n",
    "> \n",
    "> for param in model.classifier.parameters():  # Acceder a la capa de clasificación\n",
    ">     param.requires_grad = True\n",
    ">     print(f\"Parámetro: {param.shape}, Requiere gradiente: {param.requires_grad}\")\n",
    "> ```"
   ]
  },
  {
   "cell_type": "markdown",
   "metadata": {},
   "source": [
    "## 3. Preprocesamiento del dataset <a name=\"preprocesamiento-del-dataset\"></a>"
   ]
  },
  {
   "cell_type": "markdown",
   "metadata": {},
   "source": [
    "Se utiliza el procesador obtenido de huggingface para preparar nuestro EuroSAT-RGB dataset y transformarlo en un dataset compatible para su ingestion con el modelo seleccionado."
   ]
  },
  {
   "cell_type": "code",
   "execution_count": 43,
   "metadata": {},
   "outputs": [
    {
     "data": {
      "application/vnd.jupyter.widget-view+json": {
       "model_id": "42de5a5b48de4362b06864fcc690ef7f",
       "version_major": 2,
       "version_minor": 0
      },
      "text/plain": [
       "preprocessor_config.json:   0%|          | 0.00/266 [00:00<?, ?B/s]"
      ]
     },
     "metadata": {},
     "output_type": "display_data"
    },
    {
     "name": "stdout",
     "output_type": "stream",
     "text": [
      "ConvNextFeatureExtractor {\n",
      "  \"crop_pct\": 0.875,\n",
      "  \"do_normalize\": true,\n",
      "  \"do_rescale\": true,\n",
      "  \"do_resize\": true,\n",
      "  \"image_mean\": [\n",
      "    0.485,\n",
      "    0.456,\n",
      "    0.406\n",
      "  ],\n",
      "  \"image_processor_type\": \"ConvNextFeatureExtractor\",\n",
      "  \"image_std\": [\n",
      "    0.229,\n",
      "    0.224,\n",
      "    0.225\n",
      "  ],\n",
      "  \"resample\": 3,\n",
      "  \"rescale_factor\": 0.00392156862745098,\n",
      "  \"size\": {\n",
      "    \"shortest_edge\": 224\n",
      "  }\n",
      "}\n",
      "\n"
     ]
    },
    {
     "name": "stderr",
     "output_type": "stream",
     "text": [
      "c:\\Users\\usuario\\AppData\\Local\\pypoetry\\Cache\\virtualenvs\\vision-transformer-XZoWrNJ--py3.11\\Lib\\site-packages\\transformers\\models\\convnext\\feature_extraction_convnext.py:30: FutureWarning:\n",
      "\n",
      "The class ConvNextFeatureExtractor is deprecated and will be removed in version 5 of Transformers. Please use ConvNextImageProcessor instead.\n",
      "\n"
     ]
    }
   ],
   "source": [
    "# Procesador\n",
    "image_processor = AutoFeatureExtractor.from_pretrained(CHECKPOINT)\n",
    "print(image_processor)"
   ]
  },
  {
   "cell_type": "markdown",
   "metadata": {},
   "source": [
    "Transformaciones aplicadas:"
   ]
  },
  {
   "cell_type": "code",
   "execution_count": 44,
   "metadata": {},
   "outputs": [],
   "source": [
    "# Define augmentation pipeline\n",
    "target_size = image_processor.size[\"shortest_edge\"]  # 224\n",
    "mean = image_processor.image_mean\n",
    "std = image_processor.image_std\n",
    "\n",
    "train_transform = transforms.Compose(\n",
    "    [\n",
    "        transforms.RandomApply([transforms.RandomRotation(15)], p=0.8),\n",
    "        transforms.RandomApply(\n",
    "            [\n",
    "                transforms.Resize((72, 72), interpolation=Image.BICUBIC),\n",
    "                transforms.RandomCrop(64, padding=0),\n",
    "            ],\n",
    "            p=0.8,\n",
    "        ),\n",
    "        transforms.RandomHorizontalFlip(),\n",
    "        transforms.RandomApply(\n",
    "            [transforms.ColorJitter(brightness=0.2, contrast=0.2, saturation=0.2, hue=0.1)], p=0.8\n",
    "        ),\n",
    "        transforms.Resize((224, 224), interpolation=Image.BICUBIC),  # required for CvT\n",
    "        transforms.ToTensor(),\n",
    "        transforms.Normalize(mean=mean, std=std),\n",
    "    ]\n",
    ")\n",
    "\n",
    "val_transform = transforms.Compose(\n",
    "    [\n",
    "        transforms.Resize((target_size, target_size), interpolation=Image.BICUBIC),\n",
    "        transforms.ToTensor(),\n",
    "        transforms.Normalize(mean=mean, std=std),\n",
    "    ]\n",
    ")\n",
    "\n",
    "\n",
    "def transform(batch, train=True):\n",
    "    transform_fn = train_transform if train else val_transform\n",
    "    images = [transform_fn(img) for img in batch[\"image\"]]\n",
    "    return {\"pixel_values\": images, \"label\": batch[\"label\"]}"
   ]
  },
  {
   "cell_type": "code",
   "execution_count": 45,
   "metadata": {},
   "outputs": [],
   "source": [
    "random.seed(RANDOM_SEED)\n",
    "\n",
    "random_idx = random.sample(range(len(dataset[\"train\"])), 5)\n",
    "plot_subset = dataset[\"train\"].select(random_idx)\n",
    "\n",
    "raw_plot_subset = plot_subset.with_transform(lambda x: transform(x, train=False))\n",
    "raw_dataloader = DataLoader(raw_plot_subset, batch_size=5, shuffle=False)\n",
    "\n",
    "aug_plot_subset = plot_subset.with_transform(lambda x: transform(x, train=True))\n",
    "aug_dataloader = DataLoader(aug_plot_subset, batch_size=5, shuffle=False)"
   ]
  },
  {
   "cell_type": "code",
   "execution_count": 46,
   "metadata": {},
   "outputs": [
    {
     "data": {
      "image/png": "[encoded data removed]",
      "text/plain": [
       "<Figure size 1500x600 with 10 Axes>"
      ]
     },
     "metadata": {},
     "output_type": "display_data"
    }
   ],
   "source": [
    "# Unnormalizer parameters\n",
    "unnormalize = transforms.Normalize(\n",
    "    mean=[-m/s for m, s in zip(mean, std)],\n",
    "    std=[1/s for s in std]\n",
    ")\n",
    "\n",
    "# Get and unnormalize raw images\n",
    "raw_batch = next(iter(raw_dataloader))\n",
    "raw_images = [TF.to_pil_image(unnormalize(img)) for img in raw_batch[\"pixel_values\"]]\n",
    "\n",
    "# Get and unnormalize augmented images\n",
    "aug_batch = next(iter(aug_dataloader))\n",
    "aug_images = [TF.to_pil_image(unnormalize(img)) for img in aug_batch[\"pixel_values\"]]\n",
    "\n",
    "# Get labels\n",
    "labels = [id2label[int(x)] for x in raw_batch[\"label\"]] * 2\n",
    "\n",
    "# Plot images\n",
    "show_image_grid(\n",
    "    data={\"images\": raw_images + aug_images, \"labels\": labels},\n",
    "    title=\"Imagenes originales (arriba) con su correspondiente aumentada (abajo)\",\n",
    "    num_cols=5\n",
    ")"
   ]
  },
  {
   "cell_type": "code",
   "execution_count": 47,
   "metadata": {},
   "outputs": [
    {
     "name": "stdout",
     "output_type": "stream",
     "text": [
      "{'pixel_values': tensor([[[-2.1179, -2.1179, -2.1179,  ..., -2.1179, -2.1179, -2.1179],\n",
      "         [-2.1179, -2.1179, -2.1179,  ..., -2.1179, -2.1179, -2.1179],\n",
      "         [-2.1179, -2.1179, -2.1179,  ..., -2.1179, -2.1179, -2.1179],\n",
      "         ...,\n",
      "         [-0.3369, -0.3541, -0.3712,  ..., -0.3541, -0.3541, -0.3541],\n",
      "         [-0.3198, -0.3369, -0.3541,  ..., -0.3541, -0.3541, -0.3541],\n",
      "         [-0.3027, -0.3198, -0.3369,  ..., -0.3541, -0.3541, -0.3541]],\n",
      "\n",
      "        [[-2.0357, -2.0357, -2.0357,  ..., -2.0357, -2.0357, -2.0357],\n",
      "         [-2.0357, -2.0357, -2.0357,  ..., -2.0357, -2.0357, -2.0357],\n",
      "         [-2.0357, -2.0357, -2.0357,  ..., -2.0357, -2.0357, -2.0357],\n",
      "         ...,\n",
      "         [-0.4076, -0.4251, -0.4426,  ..., -0.4076, -0.4076, -0.4076],\n",
      "         [-0.3901, -0.4076, -0.4251,  ..., -0.4076, -0.4076, -0.4076],\n",
      "         [-0.3725, -0.3901, -0.4076,  ..., -0.4076, -0.4076, -0.4076]],\n",
      "\n",
      "        [[-1.8044, -1.8044, -1.8044,  ..., -1.8044, -1.8044, -1.8044],\n",
      "         [-1.8044, -1.8044, -1.8044,  ..., -1.8044, -1.8044, -1.8044],\n",
      "         [-1.8044, -1.8044, -1.8044,  ..., -1.8044, -1.8044, -1.8044],\n",
      "         ...,\n",
      "         [ 0.0256,  0.0082, -0.0092,  ...,  0.0082,  0.0082,  0.0082],\n",
      "         [ 0.0431,  0.0256,  0.0082,  ...,  0.0082,  0.0082,  0.0082],\n",
      "         [ 0.0605,  0.0431,  0.0256,  ...,  0.0082,  0.0082,  0.0082]]]), 'label': 0}\n",
      "torch.Size([3, 224, 224])\n"
     ]
    }
   ],
   "source": [
    "# Aplicamos las transformaciones\n",
    "def train_transform_wrapper(example):\n",
    "    return transform(example, train=True)\n",
    "\n",
    "def test_transform_wrapper(example):\n",
    "    return transform(example, train=False)\n",
    "\n",
    "encoded_ds = {\n",
    "    \"train\": dataset[\"train\"].with_transform(train_transform_wrapper),\n",
    "    \"test\": dataset[\"test\"].with_transform(test_transform_wrapper),\n",
    "}\n",
    "\n",
    "# Mostramos un ejemplo de la estructura.\n",
    "print(encoded_ds[\"train\"][0])\n",
    "print(encoded_ds[\"test\"][0][\"pixel_values\"].shape)"
   ]
  },
  {
   "cell_type": "markdown",
   "metadata": {},
   "source": [
    "## 4. Definición de las métricas de evaluación <a name=\"metrics\"></a>"
   ]
  },
  {
   "cell_type": "code",
   "execution_count": 48,
   "metadata": {},
   "outputs": [],
   "source": [
    "clf_metrics = evaluate.combine([\n",
    "    MulticlassAccuracy(),  # Precisión multicategoría.\n",
    "    evaluate.load(\"f1\"), # Puede ser \"micro\", \"macro\" o \"weighted\". En este caso, \"weighted\" toma en cuenta el desbalanceo leve de clases.\n",
    "    evaluate.load(\"precision\"), # \"marco\" para clases desbalanceadas.\n",
    "    evaluate.load(\"recall\")\n",
    "])\n",
    "\n",
    "def compute_metrics(eval_pred):\n",
    "    logits, labels = eval_pred\n",
    "    predictions = np.argmax(logits, axis=-1)\n",
    "    return clf_metrics.compute(predictions=predictions, references=labels, average=\"weighted\")"
   ]
  },
  {
   "cell_type": "markdown",
   "metadata": {},
   "source": [
    "## 5. Entrenamiento del modelo <a name=\"entrenamiento\"></a>"
   ]
  },
  {
   "cell_type": "code",
   "execution_count": 49,
   "metadata": {},
   "outputs": [],
   "source": [
    "training_args = TrainingArguments(\n",
    "    output_dir=MODELS_DIR / MODEL_FOLDER,  \n",
    "    overwrite_output_dir=True,  \n",
    "    eval_strategy=\"epoch\",  \n",
    "    per_device_train_batch_size=BATCH_SIZE, \n",
    "    per_device_eval_batch_size=BATCH_SIZE, \n",
    "    eval_accumulation_steps=1, \n",
    "    learning_rate=5e-5,  \n",
    "    num_train_epochs=10,\n",
    "    fp16=True,  \n",
    "    warmup_ratio=0.1,   \n",
    "    save_strategy=\"best\", \n",
    "    save_total_limit=1, \n",
    "    logging_strategy=\"epoch\",  \n",
    "    seed=RANDOM_SEED,  \n",
    "    remove_unused_columns=False,  \n",
    "    load_best_model_at_end=True,  \n",
    "    metric_for_best_model=\"accuracy\",\n",
    "    greater_is_better=True,\n",
    "    # dataloader_num_workers=4,\n",
    "    report_to=[],\n",
    ")"
   ]
  },
  {
   "cell_type": "markdown",
   "metadata": {},
   "source": [
    "> 📝 <em><font color='Gray'>Nota:</font></em> Si no se estima o tiene una noción de los hiperparámetros, se pueden buscar con:\n",
    "> ```python\n",
    "> def optuna_hp_space(trial):\n",
    ">     return {\n",
    ">         \"learning_rate\": trial.suggest_float(\"learning_rate\", 1e-6, 1e-2, log=True),\n",
    ">         \"per_device_train_batch_size\": trial.suggest_categorical(\"per_device_train_batch_size\", [16, 32, 64]),\n",
    ">         \"eval_accumulation_steps\": trial.suggest_int(\"eval_accumulation_steps\", 1, 8),\n",
    ">         \n",
    ">     }\n",
    "> \n",
    "> def model_init(trial):\n",
    ">     return CvtForImageClassification.from_pretrained(\n",
    ">         CHECKPOINT,\n",
    ">         num_labels=len(labels),\n",
    ">         id2label=id2label,\n",
    ">         label2id=label2id,\n",
    ">         ignore_mismatched_sizes=True,  # Ignora tamaños de pesos que no coinciden (útil si se cambia el número de clases).\n",
    "> )\n",
    "> \n",
    "> trainer = Trainer(\n",
    ">     model=None,   \n",
    ">     args=training_args,\n",
    ">     data_collator=data_collator,   \n",
    ">     train_dataset=encoded_ds['train'], \n",
    ">     eval_dataset=encoded_ds['test'],   \n",
    ">     processing_class=image_processor,\n",
    ">     compute_metrics=compute_metrics,\n",
    ">     model_init=model_init,  # Inicialización del modelo para Optuna.\n",
    ">     callbacks=callback_list, \n",
    "> )\n",
    "> \n",
    "> best_trial = trainer.hyperparameter_search(\n",
    ">     direction=\"minimize\",\n",
    ">     backend=\"optuna\",\n",
    ">     hp_space=optuna_hp_space,\n",
    ">     n_trials=5,\n",
    "> )\n",
    "> ```"
   ]
  },
  {
   "cell_type": "code",
   "execution_count": 50,
   "metadata": {},
   "outputs": [
    {
     "name": "stdout",
     "output_type": "stream",
     "text": [
      "🏃 View run D:\\Documentos\\Data\\2023_CEIA\\CEIA_vpc_III_project\\models\\cvt-13 at: http://localhost:8080/#/experiments/4/runs/4b401134ed5d4571931ca98576a4d92e\n",
      "🧪 View experiment at: http://localhost:8080/#/experiments/4\n"
     ]
    }
   ],
   "source": [
    "data_collator = DefaultDataCollator()\n",
    "\n",
    "callback_list = [EarlyStoppingCallback(early_stopping_patience=2), MLflowCallback()]\n",
    "\n",
    "trainer = Trainer(\n",
    "    model=model,\n",
    "    args=training_args,\n",
    "    data_collator=data_collator,\n",
    "    train_dataset=encoded_ds[\"train\"],\n",
    "    eval_dataset=encoded_ds[\"test\"],\n",
    "    processing_class=image_processor,\n",
    "    compute_metrics=compute_metrics,\n",
    "    callbacks=callback_list\n",
    ")"
   ]
  },
  {
   "cell_type": "code",
   "execution_count": null,
   "metadata": {},
   "outputs": [],
   "source": [
    "with mlflow.start_run():\n",
    "    mlflow.log_param(\"transforms\", str(train_transform))\n",
    "    mlflow.log_param(\"dataset_name\", DATASET_NAME)\n",
    "    mlflow.log_param(\"dataset_version\", DATASET_VERSION)\n",
    "\n",
    "    logger.info(\"Iniciando entrenamiento del modelo...\")\n",
    "    trainer.train()\n",
    "    logger.info(\"Entrenamiento finalizado. Guardando el modelo...\")\n",
    "\n",
    "history = pd.DataFrame(trainer.state.log_history)\n",
    "history.to_csv(MODELS_DIR / MODEL_FOLDER / HISTORY_FILENAME, index=False)\n",
    "history"
   ]
  },
  {
   "cell_type": "code",
   "execution_count": null,
   "metadata": {},
   "outputs": [],
   "source": [
    "# # Save trained model weights\n",
    "# trained_model = trainer.model\n",
    "# torch.save(trained_model.state_dict(), MODELS_DIR / MODEL_FOLDER / \"weights.pt\")\n",
    "\n",
    "# Load trained model weights\n",
    "trainer.model.load_state_dict(torch.load(MODELS_DIR / MODEL_FOLDER / \"weights.pt\"))"
   ]
  },
  {
   "cell_type": "code",
   "execution_count": 53,
   "metadata": {},
   "outputs": [
    {
     "name": "stdout",
     "output_type": "stream",
     "text": [
      "\u001b[32m2025-06-17 08:53:10.790\u001b[0m | \u001b[1mINFO    \u001b[0m | \u001b[36m__main__\u001b[0m:\u001b[36m<module>\u001b[0m:\u001b[36m1\u001b[0m - \u001b[1mEvaluando el modelo...\u001b[0m\n"
     ]
    },
    {
     "data": {
      "text/html": [],
      "text/plain": [
       "<IPython.core.display.HTML object>"
      ]
     },
     "metadata": {},
     "output_type": "display_data"
    },
    {
     "name": "stderr",
     "output_type": "stream",
     "text": [
      "2025/06/17 08:54:08 INFO mlflow.tracking.fluent: Experiment with name 'microsoft_cvt-21' does not exist. Creating a new experiment.\n"
     ]
    },
    {
     "name": "stdout",
     "output_type": "stream",
     "text": [
      "\u001b[32m2025-06-17 08:54:08.947\u001b[0m | \u001b[1mINFO    \u001b[0m | \u001b[36m__main__\u001b[0m:\u001b[36m<module>\u001b[0m:\u001b[36m3\u001b[0m - \u001b[1mEvaluación finalizada. Métricas:\u001b[0m\n"
     ]
    },
    {
     "data": {
      "text/html": [
       "<div>\n",
       "<style scoped>\n",
       "    .dataframe tbody tr th:only-of-type {\n",
       "        vertical-align: middle;\n",
       "    }\n",
       "\n",
       "    .dataframe tbody tr th {\n",
       "        vertical-align: top;\n",
       "    }\n",
       "\n",
       "    .dataframe thead th {\n",
       "        text-align: right;\n",
       "    }\n",
       "</style>\n",
       "<table border=\"1\" class=\"dataframe\">\n",
       "  <thead>\n",
       "    <tr style=\"text-align: right;\">\n",
       "      <th></th>\n",
       "      <th>eval_loss</th>\n",
       "      <th>eval_model_preparation_time</th>\n",
       "      <th>eval_accuracy</th>\n",
       "      <th>eval_f1</th>\n",
       "      <th>eval_precision</th>\n",
       "      <th>eval_recall</th>\n",
       "      <th>eval_runtime</th>\n",
       "      <th>eval_samples_per_second</th>\n",
       "      <th>eval_steps_per_second</th>\n",
       "    </tr>\n",
       "  </thead>\n",
       "  <tbody>\n",
       "    <tr>\n",
       "      <th>0</th>\n",
       "      <td>0.036628</td>\n",
       "      <td>0.0082</td>\n",
       "      <td>0.987407</td>\n",
       "      <td>0.987399</td>\n",
       "      <td>0.987463</td>\n",
       "      <td>0.987407</td>\n",
       "      <td>57.7785</td>\n",
       "      <td>46.73</td>\n",
       "      <td>0.744</td>\n",
       "    </tr>\n",
       "  </tbody>\n",
       "</table>\n",
       "</div>"
      ],
      "text/plain": [
       "   eval_loss  eval_model_preparation_time  eval_accuracy   eval_f1  \\\n",
       "0   0.036628                       0.0082       0.987407  0.987399   \n",
       "\n",
       "   eval_precision  eval_recall  eval_runtime  eval_samples_per_second  \\\n",
       "0        0.987463     0.987407       57.7785                    46.73   \n",
       "\n",
       "   eval_steps_per_second  \n",
       "0                  0.744  "
      ]
     },
     "execution_count": 53,
     "metadata": {},
     "output_type": "execute_result"
    }
   ],
   "source": [
    "logger.info(\"Evaluando el modelo...\")\n",
    "metrics = trainer.evaluate()\n",
    "logger.info(\"Evaluación finalizada. Métricas:\")\n",
    "\n",
    "metrics_df = pd.DataFrame(metrics, index=[0])\n",
    "metrics_df.to_csv(MODELS_DIR / MODEL_FOLDER / METRICS_FILENAME, index=False)\n",
    "metrics_df"
   ]
  },
  {
   "cell_type": "code",
   "execution_count": 54,
   "metadata": {},
   "outputs": [],
   "source": [
    "# Guardamos las predicciones del modelo en el conjunto de test\n",
    "predictions_output = trainer.predict(encoded_ds[\"test\"])\n",
    "\n",
    "# Probabilidades\n",
    "y_probs = predictions_output.predictions\n",
    "\n",
    "# Predicciones finales (argmax)\n",
    "y_pred = np.argmax(y_probs, axis=1)\n",
    "\n",
    "# Etiquetas reales\n",
    "y_true = predictions_output.label_ids\n",
    "\n",
    "results_df = pd.DataFrame(\n",
    "    {\n",
    "        \"y_true\": [id2label[i] for i in y_true],\n",
    "        \"y_pred\": [id2label[i] for i in y_pred],\n",
    "    }\n",
    ")\n",
    "results_df.to_csv(MODEL_FOLDER / PREDICTIONS_FILENAME, index=False)"
   ]
  },
  {
   "cell_type": "markdown",
   "metadata": {},
   "source": [
    "## 6. Resultados <a name=\"resultados\"></a>"
   ]
  },
  {
   "cell_type": "code",
   "execution_count": 55,
   "metadata": {},
   "outputs": [],
   "source": [
    "history = pd.read_csv(MODEL_FOLDER / HISTORY_FILENAME)\n",
    "results_df = pd.read_csv(MODEL_FOLDER / PREDICTIONS_FILENAME)\n",
    "y_true = results_df[\"y_true\"].values\n",
    "y_pred = results_df[\"y_pred\"].values"
   ]
  },
  {
   "cell_type": "code",
   "execution_count": 56,
   "metadata": {},
   "outputs": [
    {
     "data": {
      "application/vnd.plotly.v1+json": {
       "config": {
        "plotlyServerURL": "https://plot.ly"
       },
       "data": [
        {
         "colorscale": [
          [
           0,
           "rgb(247,251,255)"
          ],
          [
           0.125,
           "rgb(222,235,247)"
          ],
          [
           0.25,
           "rgb(198,219,239)"
          ],
          [
           0.375,
           "rgb(158,202,225)"
          ],
          [
           0.5,
           "rgb(107,174,214)"
          ],
          [
           0.625,
           "rgb(66,146,198)"
          ],
          [
           0.75,
           "rgb(33,113,181)"
          ],
          [
           0.875,
           "rgb(8,81,156)"
          ],
          [
           1,
           "rgb(8,48,107)"
          ]
         ],
         "reversescale": false,
         "showscale": true,
         "type": "heatmap",
         "x": [
          "AnnualCrop",
          "Forest",
          "HerbaceousVegetation",
          "Highway",
          "Industrial",
          "Pasture",
          "PermanentCrop",
          "Residential",
          "River",
          "SeaLake"
         ],
         "y": [
          "AnnualCrop",
          "Forest",
          "HerbaceousVegetation",
          "Highway",
          "Industrial",
          "Pasture",
          "PermanentCrop",
          "Residential",
          "River",
          "SeaLake"
         ],
         "z": {
          "bdata": "JwEAAAAAAAAAAAAAAAAAAAAAAAAAAAAABQAAAAAAAAAAAAAAAAAAAAAAAAAsAQAAAAAAAAAAAAAAAAAAAAAAAAAAAAAAAAAAAAAAAAAAAAAAAAAAAgAAACEBAAAAAAAAAAAAAAQAAAAEAAAAAAAAAAEAAAAAAAAAAAAAAAAAAAAAAAAA+QAAAAAAAAAAAAAAAAAAAAEAAAAAAAAAAAAAAAAAAAAAAAAAAAAAAAAAAAD2AAAAAAAAAAAAAAAEAAAAAAAAAAAAAAADAAAAAQAAAAEAAAAAAAAAAAAAAMMAAAAAAAAAAAAAAAAAAAAAAAAAAgAAAAAAAAADAAAAAAAAAAAAAAAAAAAA9QAAAAAAAAAAAAAAAAAAAAAAAAAAAAAAAAAAAAEAAAAAAAAAAAAAAAAAAAArAQAAAAAAAAAAAAAAAAAAAAAAAAAAAAABAAAAAAAAAAAAAAAAAAAAAAAAAPkAAAAAAAAAAQAAAAAAAAAAAAAAAAAAAAAAAAAAAAAAAAAAAAAAAAAAAAAAKwEAAA==",
          "dtype": "i4",
          "shape": "10, 10"
         }
        }
       ],
       "layout": {
        "annotations": [
         {
          "font": {
           "color": "#FFFFFF"
          },
          "showarrow": false,
          "text": "98.3%",
          "x": "AnnualCrop",
          "xref": "x",
          "y": "AnnualCrop",
          "yref": "y"
         },
         {
          "font": {
           "color": "#000000"
          },
          "showarrow": false,
          "text": "0.0%",
          "x": "Forest",
          "xref": "x",
          "y": "AnnualCrop",
          "yref": "y"
         },
         {
          "font": {
           "color": "#000000"
          },
          "showarrow": false,
          "text": "0.0%",
          "x": "HerbaceousVegetation",
          "xref": "x",
          "y": "AnnualCrop",
          "yref": "y"
         },
         {
          "font": {
           "color": "#000000"
          },
          "showarrow": false,
          "text": "0.0%",
          "x": "Highway",
          "xref": "x",
          "y": "AnnualCrop",
          "yref": "y"
         },
         {
          "font": {
           "color": "#000000"
          },
          "showarrow": false,
          "text": "0.0%",
          "x": "Industrial",
          "xref": "x",
          "y": "AnnualCrop",
          "yref": "y"
         },
         {
          "font": {
           "color": "#000000"
          },
          "showarrow": false,
          "text": "0.0%",
          "x": "Pasture",
          "xref": "x",
          "y": "AnnualCrop",
          "yref": "y"
         },
         {
          "font": {
           "color": "#000000"
          },
          "showarrow": false,
          "text": "1.7%",
          "x": "PermanentCrop",
          "xref": "x",
          "y": "AnnualCrop",
          "yref": "y"
         },
         {
          "font": {
           "color": "#000000"
          },
          "showarrow": false,
          "text": "0.0%",
          "x": "Residential",
          "xref": "x",
          "y": "AnnualCrop",
          "yref": "y"
         },
         {
          "font": {
           "color": "#000000"
          },
          "showarrow": false,
          "text": "0.0%",
          "x": "River",
          "xref": "x",
          "y": "AnnualCrop",
          "yref": "y"
         },
         {
          "font": {
           "color": "#000000"
          },
          "showarrow": false,
          "text": "0.0%",
          "x": "SeaLake",
          "xref": "x",
          "y": "AnnualCrop",
          "yref": "y"
         },
         {
          "font": {
           "color": "#000000"
          },
          "showarrow": false,
          "text": "0.0%",
          "x": "AnnualCrop",
          "xref": "x",
          "y": "Forest",
          "yref": "y"
         },
         {
          "font": {
           "color": "#FFFFFF"
          },
          "showarrow": false,
          "text": "100.0%",
          "x": "Forest",
          "xref": "x",
          "y": "Forest",
          "yref": "y"
         },
         {
          "font": {
           "color": "#000000"
          },
          "showarrow": false,
          "text": "0.0%",
          "x": "HerbaceousVegetation",
          "xref": "x",
          "y": "Forest",
          "yref": "y"
         },
         {
          "font": {
           "color": "#000000"
          },
          "showarrow": false,
          "text": "0.0%",
          "x": "Highway",
          "xref": "x",
          "y": "Forest",
          "yref": "y"
         },
         {
          "font": {
           "color": "#000000"
          },
          "showarrow": false,
          "text": "0.0%",
          "x": "Industrial",
          "xref": "x",
          "y": "Forest",
          "yref": "y"
         },
         {
          "font": {
           "color": "#000000"
          },
          "showarrow": false,
          "text": "0.0%",
          "x": "Pasture",
          "xref": "x",
          "y": "Forest",
          "yref": "y"
         },
         {
          "font": {
           "color": "#000000"
          },
          "showarrow": false,
          "text": "0.0%",
          "x": "PermanentCrop",
          "xref": "x",
          "y": "Forest",
          "yref": "y"
         },
         {
          "font": {
           "color": "#000000"
          },
          "showarrow": false,
          "text": "0.0%",
          "x": "Residential",
          "xref": "x",
          "y": "Forest",
          "yref": "y"
         },
         {
          "font": {
           "color": "#000000"
          },
          "showarrow": false,
          "text": "0.0%",
          "x": "River",
          "xref": "x",
          "y": "Forest",
          "yref": "y"
         },
         {
          "font": {
           "color": "#000000"
          },
          "showarrow": false,
          "text": "0.0%",
          "x": "SeaLake",
          "xref": "x",
          "y": "Forest",
          "yref": "y"
         },
         {
          "font": {
           "color": "#000000"
          },
          "showarrow": false,
          "text": "0.0%",
          "x": "AnnualCrop",
          "xref": "x",
          "y": "HerbaceousVegetation",
          "yref": "y"
         },
         {
          "font": {
           "color": "#000000"
          },
          "showarrow": false,
          "text": "0.7%",
          "x": "Forest",
          "xref": "x",
          "y": "HerbaceousVegetation",
          "yref": "y"
         },
         {
          "font": {
           "color": "#FFFFFF"
          },
          "showarrow": false,
          "text": "96.3%",
          "x": "HerbaceousVegetation",
          "xref": "x",
          "y": "HerbaceousVegetation",
          "yref": "y"
         },
         {
          "font": {
           "color": "#000000"
          },
          "showarrow": false,
          "text": "0.0%",
          "x": "Highway",
          "xref": "x",
          "y": "HerbaceousVegetation",
          "yref": "y"
         },
         {
          "font": {
           "color": "#000000"
          },
          "showarrow": false,
          "text": "0.0%",
          "x": "Industrial",
          "xref": "x",
          "y": "HerbaceousVegetation",
          "yref": "y"
         },
         {
          "font": {
           "color": "#000000"
          },
          "showarrow": false,
          "text": "1.3%",
          "x": "Pasture",
          "xref": "x",
          "y": "HerbaceousVegetation",
          "yref": "y"
         },
         {
          "font": {
           "color": "#000000"
          },
          "showarrow": false,
          "text": "1.3%",
          "x": "PermanentCrop",
          "xref": "x",
          "y": "HerbaceousVegetation",
          "yref": "y"
         },
         {
          "font": {
           "color": "#000000"
          },
          "showarrow": false,
          "text": "0.0%",
          "x": "Residential",
          "xref": "x",
          "y": "HerbaceousVegetation",
          "yref": "y"
         },
         {
          "font": {
           "color": "#000000"
          },
          "showarrow": false,
          "text": "0.3%",
          "x": "River",
          "xref": "x",
          "y": "HerbaceousVegetation",
          "yref": "y"
         },
         {
          "font": {
           "color": "#000000"
          },
          "showarrow": false,
          "text": "0.0%",
          "x": "SeaLake",
          "xref": "x",
          "y": "HerbaceousVegetation",
          "yref": "y"
         },
         {
          "font": {
           "color": "#000000"
          },
          "showarrow": false,
          "text": "0.0%",
          "x": "AnnualCrop",
          "xref": "x",
          "y": "Highway",
          "yref": "y"
         },
         {
          "font": {
           "color": "#000000"
          },
          "showarrow": false,
          "text": "0.0%",
          "x": "Forest",
          "xref": "x",
          "y": "Highway",
          "yref": "y"
         },
         {
          "font": {
           "color": "#000000"
          },
          "showarrow": false,
          "text": "0.0%",
          "x": "HerbaceousVegetation",
          "xref": "x",
          "y": "Highway",
          "yref": "y"
         },
         {
          "font": {
           "color": "#FFFFFF"
          },
          "showarrow": false,
          "text": "99.6%",
          "x": "Highway",
          "xref": "x",
          "y": "Highway",
          "yref": "y"
         },
         {
          "font": {
           "color": "#000000"
          },
          "showarrow": false,
          "text": "0.0%",
          "x": "Industrial",
          "xref": "x",
          "y": "Highway",
          "yref": "y"
         },
         {
          "font": {
           "color": "#000000"
          },
          "showarrow": false,
          "text": "0.0%",
          "x": "Pasture",
          "xref": "x",
          "y": "Highway",
          "yref": "y"
         },
         {
          "font": {
           "color": "#000000"
          },
          "showarrow": false,
          "text": "0.0%",
          "x": "PermanentCrop",
          "xref": "x",
          "y": "Highway",
          "yref": "y"
         },
         {
          "font": {
           "color": "#000000"
          },
          "showarrow": false,
          "text": "0.4%",
          "x": "Residential",
          "xref": "x",
          "y": "Highway",
          "yref": "y"
         },
         {
          "font": {
           "color": "#000000"
          },
          "showarrow": false,
          "text": "0.0%",
          "x": "River",
          "xref": "x",
          "y": "Highway",
          "yref": "y"
         },
         {
          "font": {
           "color": "#000000"
          },
          "showarrow": false,
          "text": "0.0%",
          "x": "SeaLake",
          "xref": "x",
          "y": "Highway",
          "yref": "y"
         },
         {
          "font": {
           "color": "#000000"
          },
          "showarrow": false,
          "text": "0.0%",
          "x": "AnnualCrop",
          "xref": "x",
          "y": "Industrial",
          "yref": "y"
         },
         {
          "font": {
           "color": "#000000"
          },
          "showarrow": false,
          "text": "0.0%",
          "x": "Forest",
          "xref": "x",
          "y": "Industrial",
          "yref": "y"
         },
         {
          "font": {
           "color": "#000000"
          },
          "showarrow": false,
          "text": "0.0%",
          "x": "HerbaceousVegetation",
          "xref": "x",
          "y": "Industrial",
          "yref": "y"
         },
         {
          "font": {
           "color": "#000000"
          },
          "showarrow": false,
          "text": "0.0%",
          "x": "Highway",
          "xref": "x",
          "y": "Industrial",
          "yref": "y"
         },
         {
          "font": {
           "color": "#FFFFFF"
          },
          "showarrow": false,
          "text": "98.4%",
          "x": "Industrial",
          "xref": "x",
          "y": "Industrial",
          "yref": "y"
         },
         {
          "font": {
           "color": "#000000"
          },
          "showarrow": false,
          "text": "0.0%",
          "x": "Pasture",
          "xref": "x",
          "y": "Industrial",
          "yref": "y"
         },
         {
          "font": {
           "color": "#000000"
          },
          "showarrow": false,
          "text": "0.0%",
          "x": "PermanentCrop",
          "xref": "x",
          "y": "Industrial",
          "yref": "y"
         },
         {
          "font": {
           "color": "#000000"
          },
          "showarrow": false,
          "text": "1.6%",
          "x": "Residential",
          "xref": "x",
          "y": "Industrial",
          "yref": "y"
         },
         {
          "font": {
           "color": "#000000"
          },
          "showarrow": false,
          "text": "0.0%",
          "x": "River",
          "xref": "x",
          "y": "Industrial",
          "yref": "y"
         },
         {
          "font": {
           "color": "#000000"
          },
          "showarrow": false,
          "text": "0.0%",
          "x": "SeaLake",
          "xref": "x",
          "y": "Industrial",
          "yref": "y"
         },
         {
          "font": {
           "color": "#000000"
          },
          "showarrow": false,
          "text": "1.5%",
          "x": "AnnualCrop",
          "xref": "x",
          "y": "Pasture",
          "yref": "y"
         },
         {
          "font": {
           "color": "#000000"
          },
          "showarrow": false,
          "text": "0.5%",
          "x": "Forest",
          "xref": "x",
          "y": "Pasture",
          "yref": "y"
         },
         {
          "font": {
           "color": "#000000"
          },
          "showarrow": false,
          "text": "0.5%",
          "x": "HerbaceousVegetation",
          "xref": "x",
          "y": "Pasture",
          "yref": "y"
         },
         {
          "font": {
           "color": "#000000"
          },
          "showarrow": false,
          "text": "0.0%",
          "x": "Highway",
          "xref": "x",
          "y": "Pasture",
          "yref": "y"
         },
         {
          "font": {
           "color": "#000000"
          },
          "showarrow": false,
          "text": "0.0%",
          "x": "Industrial",
          "xref": "x",
          "y": "Pasture",
          "yref": "y"
         },
         {
          "font": {
           "color": "#FFFFFF"
          },
          "showarrow": false,
          "text": "97.5%",
          "x": "Pasture",
          "xref": "x",
          "y": "Pasture",
          "yref": "y"
         },
         {
          "font": {
           "color": "#000000"
          },
          "showarrow": false,
          "text": "0.0%",
          "x": "PermanentCrop",
          "xref": "x",
          "y": "Pasture",
          "yref": "y"
         },
         {
          "font": {
           "color": "#000000"
          },
          "showarrow": false,
          "text": "0.0%",
          "x": "Residential",
          "xref": "x",
          "y": "Pasture",
          "yref": "y"
         },
         {
          "font": {
           "color": "#000000"
          },
          "showarrow": false,
          "text": "0.0%",
          "x": "River",
          "xref": "x",
          "y": "Pasture",
          "yref": "y"
         },
         {
          "font": {
           "color": "#000000"
          },
          "showarrow": false,
          "text": "0.0%",
          "x": "SeaLake",
          "xref": "x",
          "y": "Pasture",
          "yref": "y"
         },
         {
          "font": {
           "color": "#000000"
          },
          "showarrow": false,
          "text": "0.8%",
          "x": "AnnualCrop",
          "xref": "x",
          "y": "PermanentCrop",
          "yref": "y"
         },
         {
          "font": {
           "color": "#000000"
          },
          "showarrow": false,
          "text": "0.0%",
          "x": "Forest",
          "xref": "x",
          "y": "PermanentCrop",
          "yref": "y"
         },
         {
          "font": {
           "color": "#000000"
          },
          "showarrow": false,
          "text": "1.2%",
          "x": "HerbaceousVegetation",
          "xref": "x",
          "y": "PermanentCrop",
          "yref": "y"
         },
         {
          "font": {
           "color": "#000000"
          },
          "showarrow": false,
          "text": "0.0%",
          "x": "Highway",
          "xref": "x",
          "y": "PermanentCrop",
          "yref": "y"
         },
         {
          "font": {
           "color": "#000000"
          },
          "showarrow": false,
          "text": "0.0%",
          "x": "Industrial",
          "xref": "x",
          "y": "PermanentCrop",
          "yref": "y"
         },
         {
          "font": {
           "color": "#000000"
          },
          "showarrow": false,
          "text": "0.0%",
          "x": "Pasture",
          "xref": "x",
          "y": "PermanentCrop",
          "yref": "y"
         },
         {
          "font": {
           "color": "#FFFFFF"
          },
          "showarrow": false,
          "text": "98.0%",
          "x": "PermanentCrop",
          "xref": "x",
          "y": "PermanentCrop",
          "yref": "y"
         },
         {
          "font": {
           "color": "#000000"
          },
          "showarrow": false,
          "text": "0.0%",
          "x": "Residential",
          "xref": "x",
          "y": "PermanentCrop",
          "yref": "y"
         },
         {
          "font": {
           "color": "#000000"
          },
          "showarrow": false,
          "text": "0.0%",
          "x": "River",
          "xref": "x",
          "y": "PermanentCrop",
          "yref": "y"
         },
         {
          "font": {
           "color": "#000000"
          },
          "showarrow": false,
          "text": "0.0%",
          "x": "SeaLake",
          "xref": "x",
          "y": "PermanentCrop",
          "yref": "y"
         },
         {
          "font": {
           "color": "#000000"
          },
          "showarrow": false,
          "text": "0.0%",
          "x": "AnnualCrop",
          "xref": "x",
          "y": "Residential",
          "yref": "y"
         },
         {
          "font": {
           "color": "#000000"
          },
          "showarrow": false,
          "text": "0.0%",
          "x": "Forest",
          "xref": "x",
          "y": "Residential",
          "yref": "y"
         },
         {
          "font": {
           "color": "#000000"
          },
          "showarrow": false,
          "text": "0.0%",
          "x": "HerbaceousVegetation",
          "xref": "x",
          "y": "Residential",
          "yref": "y"
         },
         {
          "font": {
           "color": "#000000"
          },
          "showarrow": false,
          "text": "0.3%",
          "x": "Highway",
          "xref": "x",
          "y": "Residential",
          "yref": "y"
         },
         {
          "font": {
           "color": "#000000"
          },
          "showarrow": false,
          "text": "0.0%",
          "x": "Industrial",
          "xref": "x",
          "y": "Residential",
          "yref": "y"
         },
         {
          "font": {
           "color": "#000000"
          },
          "showarrow": false,
          "text": "0.0%",
          "x": "Pasture",
          "xref": "x",
          "y": "Residential",
          "yref": "y"
         },
         {
          "font": {
           "color": "#000000"
          },
          "showarrow": false,
          "text": "0.0%",
          "x": "PermanentCrop",
          "xref": "x",
          "y": "Residential",
          "yref": "y"
         },
         {
          "font": {
           "color": "#FFFFFF"
          },
          "showarrow": false,
          "text": "99.7%",
          "x": "Residential",
          "xref": "x",
          "y": "Residential",
          "yref": "y"
         },
         {
          "font": {
           "color": "#000000"
          },
          "showarrow": false,
          "text": "0.0%",
          "x": "River",
          "xref": "x",
          "y": "Residential",
          "yref": "y"
         },
         {
          "font": {
           "color": "#000000"
          },
          "showarrow": false,
          "text": "0.0%",
          "x": "SeaLake",
          "xref": "x",
          "y": "Residential",
          "yref": "y"
         },
         {
          "font": {
           "color": "#000000"
          },
          "showarrow": false,
          "text": "0.0%",
          "x": "AnnualCrop",
          "xref": "x",
          "y": "River",
          "yref": "y"
         },
         {
          "font": {
           "color": "#000000"
          },
          "showarrow": false,
          "text": "0.0%",
          "x": "Forest",
          "xref": "x",
          "y": "River",
          "yref": "y"
         },
         {
          "font": {
           "color": "#000000"
          },
          "showarrow": false,
          "text": "0.0%",
          "x": "HerbaceousVegetation",
          "xref": "x",
          "y": "River",
          "yref": "y"
         },
         {
          "font": {
           "color": "#000000"
          },
          "showarrow": false,
          "text": "0.4%",
          "x": "Highway",
          "xref": "x",
          "y": "River",
          "yref": "y"
         },
         {
          "font": {
           "color": "#000000"
          },
          "showarrow": false,
          "text": "0.0%",
          "x": "Industrial",
          "xref": "x",
          "y": "River",
          "yref": "y"
         },
         {
          "font": {
           "color": "#000000"
          },
          "showarrow": false,
          "text": "0.0%",
          "x": "Pasture",
          "xref": "x",
          "y": "River",
          "yref": "y"
         },
         {
          "font": {
           "color": "#000000"
          },
          "showarrow": false,
          "text": "0.0%",
          "x": "PermanentCrop",
          "xref": "x",
          "y": "River",
          "yref": "y"
         },
         {
          "font": {
           "color": "#000000"
          },
          "showarrow": false,
          "text": "0.0%",
          "x": "Residential",
          "xref": "x",
          "y": "River",
          "yref": "y"
         },
         {
          "font": {
           "color": "#FFFFFF"
          },
          "showarrow": false,
          "text": "99.6%",
          "x": "River",
          "xref": "x",
          "y": "River",
          "yref": "y"
         },
         {
          "font": {
           "color": "#000000"
          },
          "showarrow": false,
          "text": "0.0%",
          "x": "SeaLake",
          "xref": "x",
          "y": "River",
          "yref": "y"
         },
         {
          "font": {
           "color": "#000000"
          },
          "showarrow": false,
          "text": "0.3%",
          "x": "AnnualCrop",
          "xref": "x",
          "y": "SeaLake",
          "yref": "y"
         },
         {
          "font": {
           "color": "#000000"
          },
          "showarrow": false,
          "text": "0.0%",
          "x": "Forest",
          "xref": "x",
          "y": "SeaLake",
          "yref": "y"
         },
         {
          "font": {
           "color": "#000000"
          },
          "showarrow": false,
          "text": "0.0%",
          "x": "HerbaceousVegetation",
          "xref": "x",
          "y": "SeaLake",
          "yref": "y"
         },
         {
          "font": {
           "color": "#000000"
          },
          "showarrow": false,
          "text": "0.0%",
          "x": "Highway",
          "xref": "x",
          "y": "SeaLake",
          "yref": "y"
         },
         {
          "font": {
           "color": "#000000"
          },
          "showarrow": false,
          "text": "0.0%",
          "x": "Industrial",
          "xref": "x",
          "y": "SeaLake",
          "yref": "y"
         },
         {
          "font": {
           "color": "#000000"
          },
          "showarrow": false,
          "text": "0.0%",
          "x": "Pasture",
          "xref": "x",
          "y": "SeaLake",
          "yref": "y"
         },
         {
          "font": {
           "color": "#000000"
          },
          "showarrow": false,
          "text": "0.0%",
          "x": "PermanentCrop",
          "xref": "x",
          "y": "SeaLake",
          "yref": "y"
         },
         {
          "font": {
           "color": "#000000"
          },
          "showarrow": false,
          "text": "0.0%",
          "x": "Residential",
          "xref": "x",
          "y": "SeaLake",
          "yref": "y"
         },
         {
          "font": {
           "color": "#000000"
          },
          "showarrow": false,
          "text": "0.0%",
          "x": "River",
          "xref": "x",
          "y": "SeaLake",
          "yref": "y"
         },
         {
          "font": {
           "color": "#FFFFFF"
          },
          "showarrow": false,
          "text": "99.7%",
          "x": "SeaLake",
          "xref": "x",
          "y": "SeaLake",
          "yref": "y"
         }
        ],
        "template": {
         "data": {
          "bar": [
           {
            "error_x": {
             "color": "#2a3f5f"
            },
            "error_y": {
             "color": "#2a3f5f"
            },
            "marker": {
             "line": {
              "color": "white",
              "width": 0.5
             },
             "pattern": {
              "fillmode": "overlay",
              "size": 10,
              "solidity": 0.2
             }
            },
            "type": "bar"
           }
          ],
          "barpolar": [
           {
            "marker": {
             "line": {
              "color": "white",
              "width": 0.5
             },
             "pattern": {
              "fillmode": "overlay",
              "size": 10,
              "solidity": 0.2
             }
            },
            "type": "barpolar"
           }
          ],
          "carpet": [
           {
            "aaxis": {
             "endlinecolor": "#2a3f5f",
             "gridcolor": "#C8D4E3",
             "linecolor": "#C8D4E3",
             "minorgridcolor": "#C8D4E3",
             "startlinecolor": "#2a3f5f"
            },
            "baxis": {
             "endlinecolor": "#2a3f5f",
             "gridcolor": "#C8D4E3",
             "linecolor": "#C8D4E3",
             "minorgridcolor": "#C8D4E3",
             "startlinecolor": "#2a3f5f"
            },
            "type": "carpet"
           }
          ],
          "choropleth": [
           {
            "colorbar": {
             "outlinewidth": 0,
             "ticks": ""
            },
            "type": "choropleth"
           }
          ],
          "contour": [
           {
            "colorbar": {
             "outlinewidth": 0,
             "ticks": ""
            },
            "colorscale": [
             [
              0,
              "#0d0887"
             ],
             [
              0.1111111111111111,
              "#46039f"
             ],
             [
              0.2222222222222222,
              "#7201a8"
             ],
             [
              0.3333333333333333,
              "#9c179e"
             ],
             [
              0.4444444444444444,
              "#bd3786"
             ],
             [
              0.5555555555555556,
              "#d8576b"
             ],
             [
              0.6666666666666666,
              "#ed7953"
             ],
             [
              0.7777777777777778,
              "#fb9f3a"
             ],
             [
              0.8888888888888888,
              "#fdca26"
             ],
             [
              1,
              "#f0f921"
             ]
            ],
            "type": "contour"
           }
          ],
          "contourcarpet": [
           {
            "colorbar": {
             "outlinewidth": 0,
             "ticks": ""
            },
            "type": "contourcarpet"
           }
          ],
          "heatmap": [
           {
            "colorbar": {
             "outlinewidth": 0,
             "ticks": ""
            },
            "colorscale": [
             [
              0,
              "#0d0887"
             ],
             [
              0.1111111111111111,
              "#46039f"
             ],
             [
              0.2222222222222222,
              "#7201a8"
             ],
             [
              0.3333333333333333,
              "#9c179e"
             ],
             [
              0.4444444444444444,
              "#bd3786"
             ],
             [
              0.5555555555555556,
              "#d8576b"
             ],
             [
              0.6666666666666666,
              "#ed7953"
             ],
             [
              0.7777777777777778,
              "#fb9f3a"
             ],
             [
              0.8888888888888888,
              "#fdca26"
             ],
             [
              1,
              "#f0f921"
             ]
            ],
            "type": "heatmap"
           }
          ],
          "histogram": [
           {
            "marker": {
             "pattern": {
              "fillmode": "overlay",
              "size": 10,
              "solidity": 0.2
             }
            },
            "type": "histogram"
           }
          ],
          "histogram2d": [
           {
            "colorbar": {
             "outlinewidth": 0,
             "ticks": ""
            },
            "colorscale": [
             [
              0,
              "#0d0887"
             ],
             [
              0.1111111111111111,
              "#46039f"
             ],
             [
              0.2222222222222222,
              "#7201a8"
             ],
             [
              0.3333333333333333,
              "#9c179e"
             ],
             [
              0.4444444444444444,
              "#bd3786"
             ],
             [
              0.5555555555555556,
              "#d8576b"
             ],
             [
              0.6666666666666666,
              "#ed7953"
             ],
             [
              0.7777777777777778,
              "#fb9f3a"
             ],
             [
              0.8888888888888888,
              "#fdca26"
             ],
             [
              1,
              "#f0f921"
             ]
            ],
            "type": "histogram2d"
           }
          ],
          "histogram2dcontour": [
           {
            "colorbar": {
             "outlinewidth": 0,
             "ticks": ""
            },
            "colorscale": [
             [
              0,
              "#0d0887"
             ],
             [
              0.1111111111111111,
              "#46039f"
             ],
             [
              0.2222222222222222,
              "#7201a8"
             ],
             [
              0.3333333333333333,
              "#9c179e"
             ],
             [
              0.4444444444444444,
              "#bd3786"
             ],
             [
              0.5555555555555556,
              "#d8576b"
             ],
             [
              0.6666666666666666,
              "#ed7953"
             ],
             [
              0.7777777777777778,
              "#fb9f3a"
             ],
             [
              0.8888888888888888,
              "#fdca26"
             ],
             [
              1,
              "#f0f921"
             ]
            ],
            "type": "histogram2dcontour"
           }
          ],
          "mesh3d": [
           {
            "colorbar": {
             "outlinewidth": 0,
             "ticks": ""
            },
            "type": "mesh3d"
           }
          ],
          "parcoords": [
           {
            "line": {
             "colorbar": {
              "outlinewidth": 0,
              "ticks": ""
             }
            },
            "type": "parcoords"
           }
          ],
          "pie": [
           {
            "automargin": true,
            "type": "pie"
           }
          ],
          "scatter": [
           {
            "fillpattern": {
             "fillmode": "overlay",
             "size": 10,
             "solidity": 0.2
            },
            "type": "scatter"
           }
          ],
          "scatter3d": [
           {
            "line": {
             "colorbar": {
              "outlinewidth": 0,
              "ticks": ""
             }
            },
            "marker": {
             "colorbar": {
              "outlinewidth": 0,
              "ticks": ""
             }
            },
            "type": "scatter3d"
           }
          ],
          "scattercarpet": [
           {
            "marker": {
             "colorbar": {
              "outlinewidth": 0,
              "ticks": ""
             }
            },
            "type": "scattercarpet"
           }
          ],
          "scattergeo": [
           {
            "marker": {
             "colorbar": {
              "outlinewidth": 0,
              "ticks": ""
             }
            },
            "type": "scattergeo"
           }
          ],
          "scattergl": [
           {
            "marker": {
             "colorbar": {
              "outlinewidth": 0,
              "ticks": ""
             }
            },
            "type": "scattergl"
           }
          ],
          "scattermap": [
           {
            "marker": {
             "colorbar": {
              "outlinewidth": 0,
              "ticks": ""
             }
            },
            "type": "scattermap"
           }
          ],
          "scattermapbox": [
           {
            "marker": {
             "colorbar": {
              "outlinewidth": 0,
              "ticks": ""
             }
            },
            "type": "scattermapbox"
           }
          ],
          "scatterpolar": [
           {
            "marker": {
             "colorbar": {
              "outlinewidth": 0,
              "ticks": ""
             }
            },
            "type": "scatterpolar"
           }
          ],
          "scatterpolargl": [
           {
            "marker": {
             "colorbar": {
              "outlinewidth": 0,
              "ticks": ""
             }
            },
            "type": "scatterpolargl"
           }
          ],
          "scatterternary": [
           {
            "marker": {
             "colorbar": {
              "outlinewidth": 0,
              "ticks": ""
             }
            },
            "type": "scatterternary"
           }
          ],
          "surface": [
           {
            "colorbar": {
             "outlinewidth": 0,
             "ticks": ""
            },
            "colorscale": [
             [
              0,
              "#0d0887"
             ],
             [
              0.1111111111111111,
              "#46039f"
             ],
             [
              0.2222222222222222,
              "#7201a8"
             ],
             [
              0.3333333333333333,
              "#9c179e"
             ],
             [
              0.4444444444444444,
              "#bd3786"
             ],
             [
              0.5555555555555556,
              "#d8576b"
             ],
             [
              0.6666666666666666,
              "#ed7953"
             ],
             [
              0.7777777777777778,
              "#fb9f3a"
             ],
             [
              0.8888888888888888,
              "#fdca26"
             ],
             [
              1,
              "#f0f921"
             ]
            ],
            "type": "surface"
           }
          ],
          "table": [
           {
            "cells": {
             "fill": {
              "color": "#EBF0F8"
             },
             "line": {
              "color": "white"
             }
            },
            "header": {
             "fill": {
              "color": "#C8D4E3"
             },
             "line": {
              "color": "white"
             }
            },
            "type": "table"
           }
          ]
         },
         "layout": {
          "annotationdefaults": {
           "arrowcolor": "#2a3f5f",
           "arrowhead": 0,
           "arrowwidth": 1
          },
          "autotypenumbers": "strict",
          "coloraxis": {
           "colorbar": {
            "outlinewidth": 0,
            "ticks": ""
           }
          },
          "colorscale": {
           "diverging": [
            [
             0,
             "#8e0152"
            ],
            [
             0.1,
             "#c51b7d"
            ],
            [
             0.2,
             "#de77ae"
            ],
            [
             0.3,
             "#f1b6da"
            ],
            [
             0.4,
             "#fde0ef"
            ],
            [
             0.5,
             "#f7f7f7"
            ],
            [
             0.6,
             "#e6f5d0"
            ],
            [
             0.7,
             "#b8e186"
            ],
            [
             0.8,
             "#7fbc41"
            ],
            [
             0.9,
             "#4d9221"
            ],
            [
             1,
             "#276419"
            ]
           ],
           "sequential": [
            [
             0,
             "#0d0887"
            ],
            [
             0.1111111111111111,
             "#46039f"
            ],
            [
             0.2222222222222222,
             "#7201a8"
            ],
            [
             0.3333333333333333,
             "#9c179e"
            ],
            [
             0.4444444444444444,
             "#bd3786"
            ],
            [
             0.5555555555555556,
             "#d8576b"
            ],
            [
             0.6666666666666666,
             "#ed7953"
            ],
            [
             0.7777777777777778,
             "#fb9f3a"
            ],
            [
             0.8888888888888888,
             "#fdca26"
            ],
            [
             1,
             "#f0f921"
            ]
           ],
           "sequentialminus": [
            [
             0,
             "#0d0887"
            ],
            [
             0.1111111111111111,
             "#46039f"
            ],
            [
             0.2222222222222222,
             "#7201a8"
            ],
            [
             0.3333333333333333,
             "#9c179e"
            ],
            [
             0.4444444444444444,
             "#bd3786"
            ],
            [
             0.5555555555555556,
             "#d8576b"
            ],
            [
             0.6666666666666666,
             "#ed7953"
            ],
            [
             0.7777777777777778,
             "#fb9f3a"
            ],
            [
             0.8888888888888888,
             "#fdca26"
            ],
            [
             1,
             "#f0f921"
            ]
           ]
          },
          "colorway": [
           "#636efa",
           "#EF553B",
           "#00cc96",
           "#ab63fa",
           "#FFA15A",
           "#19d3f3",
           "#FF6692",
           "#B6E880",
           "#FF97FF",
           "#FECB52"
          ],
          "font": {
           "color": "#2a3f5f"
          },
          "geo": {
           "bgcolor": "white",
           "lakecolor": "white",
           "landcolor": "white",
           "showlakes": true,
           "showland": true,
           "subunitcolor": "#C8D4E3"
          },
          "hoverlabel": {
           "align": "left"
          },
          "hovermode": "closest",
          "mapbox": {
           "style": "light"
          },
          "paper_bgcolor": "white",
          "plot_bgcolor": "white",
          "polar": {
           "angularaxis": {
            "gridcolor": "#EBF0F8",
            "linecolor": "#EBF0F8",
            "ticks": ""
           },
           "bgcolor": "white",
           "radialaxis": {
            "gridcolor": "#EBF0F8",
            "linecolor": "#EBF0F8",
            "ticks": ""
           }
          },
          "scene": {
           "xaxis": {
            "backgroundcolor": "white",
            "gridcolor": "#DFE8F3",
            "gridwidth": 2,
            "linecolor": "#EBF0F8",
            "showbackground": true,
            "ticks": "",
            "zerolinecolor": "#EBF0F8"
           },
           "yaxis": {
            "backgroundcolor": "white",
            "gridcolor": "#DFE8F3",
            "gridwidth": 2,
            "linecolor": "#EBF0F8",
            "showbackground": true,
            "ticks": "",
            "zerolinecolor": "#EBF0F8"
           },
           "zaxis": {
            "backgroundcolor": "white",
            "gridcolor": "#DFE8F3",
            "gridwidth": 2,
            "linecolor": "#EBF0F8",
            "showbackground": true,
            "ticks": "",
            "zerolinecolor": "#EBF0F8"
           }
          },
          "shapedefaults": {
           "line": {
            "color": "#2a3f5f"
           }
          },
          "ternary": {
           "aaxis": {
            "gridcolor": "#DFE8F3",
            "linecolor": "#A2B1C6",
            "ticks": ""
           },
           "baxis": {
            "gridcolor": "#DFE8F3",
            "linecolor": "#A2B1C6",
            "ticks": ""
           },
           "bgcolor": "white",
           "caxis": {
            "gridcolor": "#DFE8F3",
            "linecolor": "#A2B1C6",
            "ticks": ""
           }
          },
          "title": {
           "x": 0.05
          },
          "xaxis": {
           "automargin": true,
           "gridcolor": "#EBF0F8",
           "linecolor": "#EBF0F8",
           "ticks": "",
           "title": {
            "standoff": 15
           },
           "zerolinecolor": "#EBF0F8",
           "zerolinewidth": 2
          },
          "yaxis": {
           "automargin": true,
           "gridcolor": "#EBF0F8",
           "linecolor": "#EBF0F8",
           "ticks": "",
           "title": {
            "standoff": 15
           },
           "zerolinecolor": "#EBF0F8",
           "zerolinewidth": 2
          }
         }
        },
        "title": {
         "text": "Matriz de Confusion"
        },
        "xaxis": {
         "dtick": 1,
         "gridcolor": "rgb(0, 0, 0)",
         "side": "top",
         "ticks": "",
         "title": {
          "text": "Etiqueta Predicha"
         }
        },
        "yaxis": {
         "autorange": "reversed",
         "dtick": 1,
         "ticks": "",
         "ticksuffix": "  ",
         "title": {
          "text": "Etiqueta Verdadera"
         }
        }
       }
      }
     },
     "metadata": {},
     "output_type": "display_data"
    }
   ],
   "source": [
    "plot_confusion_matrix(\n",
    "    y_true=y_true,\n",
    "    y_pred=y_pred,\n",
    "    labels=sorted(set(y_true)),\n",
    "    filename=CHECKPOINT.replace(\"/\", \"-\") + \"_confusion_matrix\",\n",
    "    dirpath=FIGURES_DIR / MODEL_NAME,\n",
    "    show_as_percentaje=True\n",
    ")"
   ]
  },
  {
   "cell_type": "code",
   "execution_count": 57,
   "metadata": {},
   "outputs": [
    {
     "data": {
      "application/vnd.plotly.v1+json": {
       "config": {
        "plotlyServerURL": "https://plot.ly"
       },
       "data": [
        {
         "mode": "lines+markers",
         "name": "Pérdida de entrenamiento",
         "type": "scatter",
         "x": {
          "bdata": "AAAAAAAA8D8AAAAAAADwPwAAAAAAAABAAAAAAAAAAEAAAAAAAAAIQAAAAAAAAAhAAAAAAAAAEEAAAAAAAAAQQAAAAAAAABRAAAAAAAAAFEAAAAAAAAAYQAAAAAAAABhAAAAAAAAAGEA=",
          "dtype": "f8"
         },
         "y": {
          "bdata": "0ZFc/kP68D8AAAAAAAD4f+Olm8QgsOI/AAAAAAAA+H8kl/+QfvvgPwAAAAAAAPh/PQrXo3A94D8AAAAAAAD4f6MBvAUSFN8/AAAAAAAA+H+6awn5oGffPwAAAAAAAPh/AAAAAAAA+H8=",
          "dtype": "f8"
         }
        },
        {
         "mode": "lines+markers",
         "name": "Pérdida de evaluación",
         "type": "scatter",
         "x": {
          "bdata": "AAAAAAAA8D8AAAAAAADwPwAAAAAAAABAAAAAAAAAAEAAAAAAAAAIQAAAAAAAAAhAAAAAAAAAEEAAAAAAAAAQQAAAAAAAABRAAAAAAAAAFEAAAAAAAAAYQAAAAAAAABhAAAAAAAAAGEA=",
          "dtype": "f8"
         },
         "y": {
          "bdata": "AAAAAAAA+H////+/3AfFPwAAAAAAAPh/+///X0aPvj8AAAAAAAD4f/n//99hFLY/AAAAAAAA+H/4//8f81+qPwAAAAAAAPh//P//fzJFtj8AAAAAAAD4f/n//3/PkK8/AAAAAAAA+H8=",
          "dtype": "f8"
         }
        }
       ],
       "layout": {
        "legend": {
         "title": {
          "text": "Métrica"
         }
        },
        "template": {
         "data": {
          "bar": [
           {
            "error_x": {
             "color": "#2a3f5f"
            },
            "error_y": {
             "color": "#2a3f5f"
            },
            "marker": {
             "line": {
              "color": "white",
              "width": 0.5
             },
             "pattern": {
              "fillmode": "overlay",
              "size": 10,
              "solidity": 0.2
             }
            },
            "type": "bar"
           }
          ],
          "barpolar": [
           {
            "marker": {
             "line": {
              "color": "white",
              "width": 0.5
             },
             "pattern": {
              "fillmode": "overlay",
              "size": 10,
              "solidity": 0.2
             }
            },
            "type": "barpolar"
           }
          ],
          "carpet": [
           {
            "aaxis": {
             "endlinecolor": "#2a3f5f",
             "gridcolor": "#C8D4E3",
             "linecolor": "#C8D4E3",
             "minorgridcolor": "#C8D4E3",
             "startlinecolor": "#2a3f5f"
            },
            "baxis": {
             "endlinecolor": "#2a3f5f",
             "gridcolor": "#C8D4E3",
             "linecolor": "#C8D4E3",
             "minorgridcolor": "#C8D4E3",
             "startlinecolor": "#2a3f5f"
            },
            "type": "carpet"
           }
          ],
          "choropleth": [
           {
            "colorbar": {
             "outlinewidth": 0,
             "ticks": ""
            },
            "type": "choropleth"
           }
          ],
          "contour": [
           {
            "colorbar": {
             "outlinewidth": 0,
             "ticks": ""
            },
            "colorscale": [
             [
              0,
              "#0d0887"
             ],
             [
              0.1111111111111111,
              "#46039f"
             ],
             [
              0.2222222222222222,
              "#7201a8"
             ],
             [
              0.3333333333333333,
              "#9c179e"
             ],
             [
              0.4444444444444444,
              "#bd3786"
             ],
             [
              0.5555555555555556,
              "#d8576b"
             ],
             [
              0.6666666666666666,
              "#ed7953"
             ],
             [
              0.7777777777777778,
              "#fb9f3a"
             ],
             [
              0.8888888888888888,
              "#fdca26"
             ],
             [
              1,
              "#f0f921"
             ]
            ],
            "type": "contour"
           }
          ],
          "contourcarpet": [
           {
            "colorbar": {
             "outlinewidth": 0,
             "ticks": ""
            },
            "type": "contourcarpet"
           }
          ],
          "heatmap": [
           {
            "colorbar": {
             "outlinewidth": 0,
             "ticks": ""
            },
            "colorscale": [
             [
              0,
              "#0d0887"
             ],
             [
              0.1111111111111111,
              "#46039f"
             ],
             [
              0.2222222222222222,
              "#7201a8"
             ],
             [
              0.3333333333333333,
              "#9c179e"
             ],
             [
              0.4444444444444444,
              "#bd3786"
             ],
             [
              0.5555555555555556,
              "#d8576b"
             ],
             [
              0.6666666666666666,
              "#ed7953"
             ],
             [
              0.7777777777777778,
              "#fb9f3a"
             ],
             [
              0.8888888888888888,
              "#fdca26"
             ],
             [
              1,
              "#f0f921"
             ]
            ],
            "type": "heatmap"
           }
          ],
          "histogram": [
           {
            "marker": {
             "pattern": {
              "fillmode": "overlay",
              "size": 10,
              "solidity": 0.2
             }
            },
            "type": "histogram"
           }
          ],
          "histogram2d": [
           {
            "colorbar": {
             "outlinewidth": 0,
             "ticks": ""
            },
            "colorscale": [
             [
              0,
              "#0d0887"
             ],
             [
              0.1111111111111111,
              "#46039f"
             ],
             [
              0.2222222222222222,
              "#7201a8"
             ],
             [
              0.3333333333333333,
              "#9c179e"
             ],
             [
              0.4444444444444444,
              "#bd3786"
             ],
             [
              0.5555555555555556,
              "#d8576b"
             ],
             [
              0.6666666666666666,
              "#ed7953"
             ],
             [
              0.7777777777777778,
              "#fb9f3a"
             ],
             [
              0.8888888888888888,
              "#fdca26"
             ],
             [
              1,
              "#f0f921"
             ]
            ],
            "type": "histogram2d"
           }
          ],
          "histogram2dcontour": [
           {
            "colorbar": {
             "outlinewidth": 0,
             "ticks": ""
            },
            "colorscale": [
             [
              0,
              "#0d0887"
             ],
             [
              0.1111111111111111,
              "#46039f"
             ],
             [
              0.2222222222222222,
              "#7201a8"
             ],
             [
              0.3333333333333333,
              "#9c179e"
             ],
             [
              0.4444444444444444,
              "#bd3786"
             ],
             [
              0.5555555555555556,
              "#d8576b"
             ],
             [
              0.6666666666666666,
              "#ed7953"
             ],
             [
              0.7777777777777778,
              "#fb9f3a"
             ],
             [
              0.8888888888888888,
              "#fdca26"
             ],
             [
              1,
              "#f0f921"
             ]
            ],
            "type": "histogram2dcontour"
           }
          ],
          "mesh3d": [
           {
            "colorbar": {
             "outlinewidth": 0,
             "ticks": ""
            },
            "type": "mesh3d"
           }
          ],
          "parcoords": [
           {
            "line": {
             "colorbar": {
              "outlinewidth": 0,
              "ticks": ""
             }
            },
            "type": "parcoords"
           }
          ],
          "pie": [
           {
            "automargin": true,
            "type": "pie"
           }
          ],
          "scatter": [
           {
            "fillpattern": {
             "fillmode": "overlay",
             "size": 10,
             "solidity": 0.2
            },
            "type": "scatter"
           }
          ],
          "scatter3d": [
           {
            "line": {
             "colorbar": {
              "outlinewidth": 0,
              "ticks": ""
             }
            },
            "marker": {
             "colorbar": {
              "outlinewidth": 0,
              "ticks": ""
             }
            },
            "type": "scatter3d"
           }
          ],
          "scattercarpet": [
           {
            "marker": {
             "colorbar": {
              "outlinewidth": 0,
              "ticks": ""
             }
            },
            "type": "scattercarpet"
           }
          ],
          "scattergeo": [
           {
            "marker": {
             "colorbar": {
              "outlinewidth": 0,
              "ticks": ""
             }
            },
            "type": "scattergeo"
           }
          ],
          "scattergl": [
           {
            "marker": {
             "colorbar": {
              "outlinewidth": 0,
              "ticks": ""
             }
            },
            "type": "scattergl"
           }
          ],
          "scattermap": [
           {
            "marker": {
             "colorbar": {
              "outlinewidth": 0,
              "ticks": ""
             }
            },
            "type": "scattermap"
           }
          ],
          "scattermapbox": [
           {
            "marker": {
             "colorbar": {
              "outlinewidth": 0,
              "ticks": ""
             }
            },
            "type": "scattermapbox"
           }
          ],
          "scatterpolar": [
           {
            "marker": {
             "colorbar": {
              "outlinewidth": 0,
              "ticks": ""
             }
            },
            "type": "scatterpolar"
           }
          ],
          "scatterpolargl": [
           {
            "marker": {
             "colorbar": {
              "outlinewidth": 0,
              "ticks": ""
             }
            },
            "type": "scatterpolargl"
           }
          ],
          "scatterternary": [
           {
            "marker": {
             "colorbar": {
              "outlinewidth": 0,
              "ticks": ""
             }
            },
            "type": "scatterternary"
           }
          ],
          "surface": [
           {
            "colorbar": {
             "outlinewidth": 0,
             "ticks": ""
            },
            "colorscale": [
             [
              0,
              "#0d0887"
             ],
             [
              0.1111111111111111,
              "#46039f"
             ],
             [
              0.2222222222222222,
              "#7201a8"
             ],
             [
              0.3333333333333333,
              "#9c179e"
             ],
             [
              0.4444444444444444,
              "#bd3786"
             ],
             [
              0.5555555555555556,
              "#d8576b"
             ],
             [
              0.6666666666666666,
              "#ed7953"
             ],
             [
              0.7777777777777778,
              "#fb9f3a"
             ],
             [
              0.8888888888888888,
              "#fdca26"
             ],
             [
              1,
              "#f0f921"
             ]
            ],
            "type": "surface"
           }
          ],
          "table": [
           {
            "cells": {
             "fill": {
              "color": "#EBF0F8"
             },
             "line": {
              "color": "white"
             }
            },
            "header": {
             "fill": {
              "color": "#C8D4E3"
             },
             "line": {
              "color": "white"
             }
            },
            "type": "table"
           }
          ]
         },
         "layout": {
          "annotationdefaults": {
           "arrowcolor": "#2a3f5f",
           "arrowhead": 0,
           "arrowwidth": 1
          },
          "autotypenumbers": "strict",
          "coloraxis": {
           "colorbar": {
            "outlinewidth": 0,
            "ticks": ""
           }
          },
          "colorscale": {
           "diverging": [
            [
             0,
             "#8e0152"
            ],
            [
             0.1,
             "#c51b7d"
            ],
            [
             0.2,
             "#de77ae"
            ],
            [
             0.3,
             "#f1b6da"
            ],
            [
             0.4,
             "#fde0ef"
            ],
            [
             0.5,
             "#f7f7f7"
            ],
            [
             0.6,
             "#e6f5d0"
            ],
            [
             0.7,
             "#b8e186"
            ],
            [
             0.8,
             "#7fbc41"
            ],
            [
             0.9,
             "#4d9221"
            ],
            [
             1,
             "#276419"
            ]
           ],
           "sequential": [
            [
             0,
             "#0d0887"
            ],
            [
             0.1111111111111111,
             "#46039f"
            ],
            [
             0.2222222222222222,
             "#7201a8"
            ],
            [
             0.3333333333333333,
             "#9c179e"
            ],
            [
             0.4444444444444444,
             "#bd3786"
            ],
            [
             0.5555555555555556,
             "#d8576b"
            ],
            [
             0.6666666666666666,
             "#ed7953"
            ],
            [
             0.7777777777777778,
             "#fb9f3a"
            ],
            [
             0.8888888888888888,
             "#fdca26"
            ],
            [
             1,
             "#f0f921"
            ]
           ],
           "sequentialminus": [
            [
             0,
             "#0d0887"
            ],
            [
             0.1111111111111111,
             "#46039f"
            ],
            [
             0.2222222222222222,
             "#7201a8"
            ],
            [
             0.3333333333333333,
             "#9c179e"
            ],
            [
             0.4444444444444444,
             "#bd3786"
            ],
            [
             0.5555555555555556,
             "#d8576b"
            ],
            [
             0.6666666666666666,
             "#ed7953"
            ],
            [
             0.7777777777777778,
             "#fb9f3a"
            ],
            [
             0.8888888888888888,
             "#fdca26"
            ],
            [
             1,
             "#f0f921"
            ]
           ]
          },
          "colorway": [
           "#636efa",
           "#EF553B",
           "#00cc96",
           "#ab63fa",
           "#FFA15A",
           "#19d3f3",
           "#FF6692",
           "#B6E880",
           "#FF97FF",
           "#FECB52"
          ],
          "font": {
           "color": "#2a3f5f"
          },
          "geo": {
           "bgcolor": "white",
           "lakecolor": "white",
           "landcolor": "white",
           "showlakes": true,
           "showland": true,
           "subunitcolor": "#C8D4E3"
          },
          "hoverlabel": {
           "align": "left"
          },
          "hovermode": "closest",
          "mapbox": {
           "style": "light"
          },
          "paper_bgcolor": "white",
          "plot_bgcolor": "white",
          "polar": {
           "angularaxis": {
            "gridcolor": "#EBF0F8",
            "linecolor": "#EBF0F8",
            "ticks": ""
           },
           "bgcolor": "white",
           "radialaxis": {
            "gridcolor": "#EBF0F8",
            "linecolor": "#EBF0F8",
            "ticks": ""
           }
          },
          "scene": {
           "xaxis": {
            "backgroundcolor": "white",
            "gridcolor": "#DFE8F3",
            "gridwidth": 2,
            "linecolor": "#EBF0F8",
            "showbackground": true,
            "ticks": "",
            "zerolinecolor": "#EBF0F8"
           },
           "yaxis": {
            "backgroundcolor": "white",
            "gridcolor": "#DFE8F3",
            "gridwidth": 2,
            "linecolor": "#EBF0F8",
            "showbackground": true,
            "ticks": "",
            "zerolinecolor": "#EBF0F8"
           },
           "zaxis": {
            "backgroundcolor": "white",
            "gridcolor": "#DFE8F3",
            "gridwidth": 2,
            "linecolor": "#EBF0F8",
            "showbackground": true,
            "ticks": "",
            "zerolinecolor": "#EBF0F8"
           }
          },
          "shapedefaults": {
           "line": {
            "color": "#2a3f5f"
           }
          },
          "ternary": {
           "aaxis": {
            "gridcolor": "#DFE8F3",
            "linecolor": "#A2B1C6",
            "ticks": ""
           },
           "baxis": {
            "gridcolor": "#DFE8F3",
            "linecolor": "#A2B1C6",
            "ticks": ""
           },
           "bgcolor": "white",
           "caxis": {
            "gridcolor": "#DFE8F3",
            "linecolor": "#A2B1C6",
            "ticks": ""
           }
          },
          "title": {
           "x": 0.05
          },
          "xaxis": {
           "automargin": true,
           "gridcolor": "#EBF0F8",
           "linecolor": "#EBF0F8",
           "ticks": "",
           "title": {
            "standoff": 15
           },
           "zerolinecolor": "#EBF0F8",
           "zerolinewidth": 2
          },
          "yaxis": {
           "automargin": true,
           "gridcolor": "#EBF0F8",
           "linecolor": "#EBF0F8",
           "ticks": "",
           "title": {
            "standoff": 15
           },
           "zerolinecolor": "#EBF0F8",
           "zerolinewidth": 2
          }
         }
        },
        "title": {
         "text": "Pérdida por época"
        },
        "xaxis": {
         "title": {
          "text": "epoch"
         }
        },
        "yaxis": {
         "title": {
          "text": "Valor"
         }
        }
       }
      }
     },
     "metadata": {},
     "output_type": "display_data"
    },
    {
     "data": {
      "application/vnd.plotly.v1+json": {
       "config": {
        "plotlyServerURL": "https://plot.ly"
       },
       "data": [
        {
         "mode": "lines+markers",
         "name": "Accuracy de evaluación",
         "type": "scatter",
         "x": {
          "bdata": "AAAAAAAA8D8AAAAAAAAAQAAAAAAAAAhAAAAAAAAAEEAAAAAAAAAUQAAAAAAAABhA",
          "dtype": "f8"
         },
         "y": {
          "bdata": "+a8QHNIy7j9NUq1dY77uP3Wje/4rBO8/hvYS2kto7z/V8LcpRg3vP/1BhsoOU+8/",
          "dtype": "f8"
         }
        }
       ],
       "layout": {
        "legend": {
         "title": {
          "text": "Métrica"
         }
        },
        "template": {
         "data": {
          "bar": [
           {
            "error_x": {
             "color": "#2a3f5f"
            },
            "error_y": {
             "color": "#2a3f5f"
            },
            "marker": {
             "line": {
              "color": "white",
              "width": 0.5
             },
             "pattern": {
              "fillmode": "overlay",
              "size": 10,
              "solidity": 0.2
             }
            },
            "type": "bar"
           }
          ],
          "barpolar": [
           {
            "marker": {
             "line": {
              "color": "white",
              "width": 0.5
             },
             "pattern": {
              "fillmode": "overlay",
              "size": 10,
              "solidity": 0.2
             }
            },
            "type": "barpolar"
           }
          ],
          "carpet": [
           {
            "aaxis": {
             "endlinecolor": "#2a3f5f",
             "gridcolor": "#C8D4E3",
             "linecolor": "#C8D4E3",
             "minorgridcolor": "#C8D4E3",
             "startlinecolor": "#2a3f5f"
            },
            "baxis": {
             "endlinecolor": "#2a3f5f",
             "gridcolor": "#C8D4E3",
             "linecolor": "#C8D4E3",
             "minorgridcolor": "#C8D4E3",
             "startlinecolor": "#2a3f5f"
            },
            "type": "carpet"
           }
          ],
          "choropleth": [
           {
            "colorbar": {
             "outlinewidth": 0,
             "ticks": ""
            },
            "type": "choropleth"
           }
          ],
          "contour": [
           {
            "colorbar": {
             "outlinewidth": 0,
             "ticks": ""
            },
            "colorscale": [
             [
              0,
              "#0d0887"
             ],
             [
              0.1111111111111111,
              "#46039f"
             ],
             [
              0.2222222222222222,
              "#7201a8"
             ],
             [
              0.3333333333333333,
              "#9c179e"
             ],
             [
              0.4444444444444444,
              "#bd3786"
             ],
             [
              0.5555555555555556,
              "#d8576b"
             ],
             [
              0.6666666666666666,
              "#ed7953"
             ],
             [
              0.7777777777777778,
              "#fb9f3a"
             ],
             [
              0.8888888888888888,
              "#fdca26"
             ],
             [
              1,
              "#f0f921"
             ]
            ],
            "type": "contour"
           }
          ],
          "contourcarpet": [
           {
            "colorbar": {
             "outlinewidth": 0,
             "ticks": ""
            },
            "type": "contourcarpet"
           }
          ],
          "heatmap": [
           {
            "colorbar": {
             "outlinewidth": 0,
             "ticks": ""
            },
            "colorscale": [
             [
              0,
              "#0d0887"
             ],
             [
              0.1111111111111111,
              "#46039f"
             ],
             [
              0.2222222222222222,
              "#7201a8"
             ],
             [
              0.3333333333333333,
              "#9c179e"
             ],
             [
              0.4444444444444444,
              "#bd3786"
             ],
             [
              0.5555555555555556,
              "#d8576b"
             ],
             [
              0.6666666666666666,
              "#ed7953"
             ],
             [
              0.7777777777777778,
              "#fb9f3a"
             ],
             [
              0.8888888888888888,
              "#fdca26"
             ],
             [
              1,
              "#f0f921"
             ]
            ],
            "type": "heatmap"
           }
          ],
          "histogram": [
           {
            "marker": {
             "pattern": {
              "fillmode": "overlay",
              "size": 10,
              "solidity": 0.2
             }
            },
            "type": "histogram"
           }
          ],
          "histogram2d": [
           {
            "colorbar": {
             "outlinewidth": 0,
             "ticks": ""
            },
            "colorscale": [
             [
              0,
              "#0d0887"
             ],
             [
              0.1111111111111111,
              "#46039f"
             ],
             [
              0.2222222222222222,
              "#7201a8"
             ],
             [
              0.3333333333333333,
              "#9c179e"
             ],
             [
              0.4444444444444444,
              "#bd3786"
             ],
             [
              0.5555555555555556,
              "#d8576b"
             ],
             [
              0.6666666666666666,
              "#ed7953"
             ],
             [
              0.7777777777777778,
              "#fb9f3a"
             ],
             [
              0.8888888888888888,
              "#fdca26"
             ],
             [
              1,
              "#f0f921"
             ]
            ],
            "type": "histogram2d"
           }
          ],
          "histogram2dcontour": [
           {
            "colorbar": {
             "outlinewidth": 0,
             "ticks": ""
            },
            "colorscale": [
             [
              0,
              "#0d0887"
             ],
             [
              0.1111111111111111,
              "#46039f"
             ],
             [
              0.2222222222222222,
              "#7201a8"
             ],
             [
              0.3333333333333333,
              "#9c179e"
             ],
             [
              0.4444444444444444,
              "#bd3786"
             ],
             [
              0.5555555555555556,
              "#d8576b"
             ],
             [
              0.6666666666666666,
              "#ed7953"
             ],
             [
              0.7777777777777778,
              "#fb9f3a"
             ],
             [
              0.8888888888888888,
              "#fdca26"
             ],
             [
              1,
              "#f0f921"
             ]
            ],
            "type": "histogram2dcontour"
           }
          ],
          "mesh3d": [
           {
            "colorbar": {
             "outlinewidth": 0,
             "ticks": ""
            },
            "type": "mesh3d"
           }
          ],
          "parcoords": [
           {
            "line": {
             "colorbar": {
              "outlinewidth": 0,
              "ticks": ""
             }
            },
            "type": "parcoords"
           }
          ],
          "pie": [
           {
            "automargin": true,
            "type": "pie"
           }
          ],
          "scatter": [
           {
            "fillpattern": {
             "fillmode": "overlay",
             "size": 10,
             "solidity": 0.2
            },
            "type": "scatter"
           }
          ],
          "scatter3d": [
           {
            "line": {
             "colorbar": {
              "outlinewidth": 0,
              "ticks": ""
             }
            },
            "marker": {
             "colorbar": {
              "outlinewidth": 0,
              "ticks": ""
             }
            },
            "type": "scatter3d"
           }
          ],
          "scattercarpet": [
           {
            "marker": {
             "colorbar": {
              "outlinewidth": 0,
              "ticks": ""
             }
            },
            "type": "scattercarpet"
           }
          ],
          "scattergeo": [
           {
            "marker": {
             "colorbar": {
              "outlinewidth": 0,
              "ticks": ""
             }
            },
            "type": "scattergeo"
           }
          ],
          "scattergl": [
           {
            "marker": {
             "colorbar": {
              "outlinewidth": 0,
              "ticks": ""
             }
            },
            "type": "scattergl"
           }
          ],
          "scattermap": [
           {
            "marker": {
             "colorbar": {
              "outlinewidth": 0,
              "ticks": ""
             }
            },
            "type": "scattermap"
           }
          ],
          "scattermapbox": [
           {
            "marker": {
             "colorbar": {
              "outlinewidth": 0,
              "ticks": ""
             }
            },
            "type": "scattermapbox"
           }
          ],
          "scatterpolar": [
           {
            "marker": {
             "colorbar": {
              "outlinewidth": 0,
              "ticks": ""
             }
            },
            "type": "scatterpolar"
           }
          ],
          "scatterpolargl": [
           {
            "marker": {
             "colorbar": {
              "outlinewidth": 0,
              "ticks": ""
             }
            },
            "type": "scatterpolargl"
           }
          ],
          "scatterternary": [
           {
            "marker": {
             "colorbar": {
              "outlinewidth": 0,
              "ticks": ""
             }
            },
            "type": "scatterternary"
           }
          ],
          "surface": [
           {
            "colorbar": {
             "outlinewidth": 0,
             "ticks": ""
            },
            "colorscale": [
             [
              0,
              "#0d0887"
             ],
             [
              0.1111111111111111,
              "#46039f"
             ],
             [
              0.2222222222222222,
              "#7201a8"
             ],
             [
              0.3333333333333333,
              "#9c179e"
             ],
             [
              0.4444444444444444,
              "#bd3786"
             ],
             [
              0.5555555555555556,
              "#d8576b"
             ],
             [
              0.6666666666666666,
              "#ed7953"
             ],
             [
              0.7777777777777778,
              "#fb9f3a"
             ],
             [
              0.8888888888888888,
              "#fdca26"
             ],
             [
              1,
              "#f0f921"
             ]
            ],
            "type": "surface"
           }
          ],
          "table": [
           {
            "cells": {
             "fill": {
              "color": "#EBF0F8"
             },
             "line": {
              "color": "white"
             }
            },
            "header": {
             "fill": {
              "color": "#C8D4E3"
             },
             "line": {
              "color": "white"
             }
            },
            "type": "table"
           }
          ]
         },
         "layout": {
          "annotationdefaults": {
           "arrowcolor": "#2a3f5f",
           "arrowhead": 0,
           "arrowwidth": 1
          },
          "autotypenumbers": "strict",
          "coloraxis": {
           "colorbar": {
            "outlinewidth": 0,
            "ticks": ""
           }
          },
          "colorscale": {
           "diverging": [
            [
             0,
             "#8e0152"
            ],
            [
             0.1,
             "#c51b7d"
            ],
            [
             0.2,
             "#de77ae"
            ],
            [
             0.3,
             "#f1b6da"
            ],
            [
             0.4,
             "#fde0ef"
            ],
            [
             0.5,
             "#f7f7f7"
            ],
            [
             0.6,
             "#e6f5d0"
            ],
            [
             0.7,
             "#b8e186"
            ],
            [
             0.8,
             "#7fbc41"
            ],
            [
             0.9,
             "#4d9221"
            ],
            [
             1,
             "#276419"
            ]
           ],
           "sequential": [
            [
             0,
             "#0d0887"
            ],
            [
             0.1111111111111111,
             "#46039f"
            ],
            [
             0.2222222222222222,
             "#7201a8"
            ],
            [
             0.3333333333333333,
             "#9c179e"
            ],
            [
             0.4444444444444444,
             "#bd3786"
            ],
            [
             0.5555555555555556,
             "#d8576b"
            ],
            [
             0.6666666666666666,
             "#ed7953"
            ],
            [
             0.7777777777777778,
             "#fb9f3a"
            ],
            [
             0.8888888888888888,
             "#fdca26"
            ],
            [
             1,
             "#f0f921"
            ]
           ],
           "sequentialminus": [
            [
             0,
             "#0d0887"
            ],
            [
             0.1111111111111111,
             "#46039f"
            ],
            [
             0.2222222222222222,
             "#7201a8"
            ],
            [
             0.3333333333333333,
             "#9c179e"
            ],
            [
             0.4444444444444444,
             "#bd3786"
            ],
            [
             0.5555555555555556,
             "#d8576b"
            ],
            [
             0.6666666666666666,
             "#ed7953"
            ],
            [
             0.7777777777777778,
             "#fb9f3a"
            ],
            [
             0.8888888888888888,
             "#fdca26"
            ],
            [
             1,
             "#f0f921"
            ]
           ]
          },
          "colorway": [
           "#636efa",
           "#EF553B",
           "#00cc96",
           "#ab63fa",
           "#FFA15A",
           "#19d3f3",
           "#FF6692",
           "#B6E880",
           "#FF97FF",
           "#FECB52"
          ],
          "font": {
           "color": "#2a3f5f"
          },
          "geo": {
           "bgcolor": "white",
           "lakecolor": "white",
           "landcolor": "white",
           "showlakes": true,
           "showland": true,
           "subunitcolor": "#C8D4E3"
          },
          "hoverlabel": {
           "align": "left"
          },
          "hovermode": "closest",
          "mapbox": {
           "style": "light"
          },
          "paper_bgcolor": "white",
          "plot_bgcolor": "white",
          "polar": {
           "angularaxis": {
            "gridcolor": "#EBF0F8",
            "linecolor": "#EBF0F8",
            "ticks": ""
           },
           "bgcolor": "white",
           "radialaxis": {
            "gridcolor": "#EBF0F8",
            "linecolor": "#EBF0F8",
            "ticks": ""
           }
          },
          "scene": {
           "xaxis": {
            "backgroundcolor": "white",
            "gridcolor": "#DFE8F3",
            "gridwidth": 2,
            "linecolor": "#EBF0F8",
            "showbackground": true,
            "ticks": "",
            "zerolinecolor": "#EBF0F8"
           },
           "yaxis": {
            "backgroundcolor": "white",
            "gridcolor": "#DFE8F3",
            "gridwidth": 2,
            "linecolor": "#EBF0F8",
            "showbackground": true,
            "ticks": "",
            "zerolinecolor": "#EBF0F8"
           },
           "zaxis": {
            "backgroundcolor": "white",
            "gridcolor": "#DFE8F3",
            "gridwidth": 2,
            "linecolor": "#EBF0F8",
            "showbackground": true,
            "ticks": "",
            "zerolinecolor": "#EBF0F8"
           }
          },
          "shapedefaults": {
           "line": {
            "color": "#2a3f5f"
           }
          },
          "ternary": {
           "aaxis": {
            "gridcolor": "#DFE8F3",
            "linecolor": "#A2B1C6",
            "ticks": ""
           },
           "baxis": {
            "gridcolor": "#DFE8F3",
            "linecolor": "#A2B1C6",
            "ticks": ""
           },
           "bgcolor": "white",
           "caxis": {
            "gridcolor": "#DFE8F3",
            "linecolor": "#A2B1C6",
            "ticks": ""
           }
          },
          "title": {
           "x": 0.05
          },
          "xaxis": {
           "automargin": true,
           "gridcolor": "#EBF0F8",
           "linecolor": "#EBF0F8",
           "ticks": "",
           "title": {
            "standoff": 15
           },
           "zerolinecolor": "#EBF0F8",
           "zerolinewidth": 2
          },
          "yaxis": {
           "automargin": true,
           "gridcolor": "#EBF0F8",
           "linecolor": "#EBF0F8",
           "ticks": "",
           "title": {
            "standoff": 15
           },
           "zerolinecolor": "#EBF0F8",
           "zerolinewidth": 2
          }
         }
        },
        "title": {
         "text": "Accuracy por época"
        },
        "xaxis": {
         "title": {
          "text": "epoch"
         }
        },
        "yaxis": {
         "title": {
          "text": "Valor"
         }
        }
       }
      }
     },
     "metadata": {},
     "output_type": "display_data"
    }
   ],
   "source": [
    "# Filtramos solo las filas que tienen datos útiles\n",
    "filtered_history = history.copy()\n",
    "filtered_history = filtered_history[filtered_history[\"epoch\"].notna()]\n",
    "\n",
    "# Plot de pérdidas (loss)\n",
    "plot_metric(\n",
    "    filtered_history,\n",
    "    x_col=\"epoch\",\n",
    "    y_cols=[\"loss\", \"eval_loss\"],\n",
    "    y_labels=[\"Pérdida de entrenamiento\", \"Pérdida de evaluación\"],\n",
    "    title=\"Pérdida por época\",\n",
    "    filename=CHECKPOINT.replace(\"/\", \"-\") + \"_loss_plot\",\n",
    "    dirpath=FIGURES_DIR / MODEL_NAME,\n",
    ")\n",
    "\n",
    "# Plot de accuracy\n",
    "if \"eval_accuracy\" in filtered_history.columns:\n",
    "    plot_metric(\n",
    "        filtered_history[filtered_history[\"eval_accuracy\"].notna()],\n",
    "        x_col=\"epoch\",\n",
    "        y_cols=[\"eval_accuracy\"],\n",
    "        y_labels=[\"Accuracy de evaluación\"],\n",
    "        title=\"Accuracy por época\",\n",
    "        filename=CHECKPOINT.replace(\"/\", \"-\") + \"_accuracy_plot\",\n",
    "        dirpath=FIGURES_DIR / MODEL_NAME,\n",
    "    )"
   ]
  }
 ],
 "metadata": {
  "kernelspec": {
   "display_name": "Poetry (vision-transformer)",
   "language": "python",
   "name": "vision-transformer"
  },
  "language_info": {
   "codemirror_mode": {
    "name": "ipython",
    "version": 3
   },
   "file_extension": ".py",
   "mimetype": "text/x-python",
   "name": "python",
   "nbconvert_exporter": "python",
   "pygments_lexer": "ipython3",
   "version": "3.11.9"
  }
 },
 "nbformat": 4,
 "nbformat_minor": 2
}
