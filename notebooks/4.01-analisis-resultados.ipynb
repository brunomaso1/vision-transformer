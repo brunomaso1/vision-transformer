{
 "cells": [
  {
   "cell_type": "markdown",
   "metadata": {},
   "source": [
    "# <div align=\"center\"><b> Análisis de resultados - EuroSAT </b></div>"
   ]
  },
  {
   "cell_type": "markdown",
   "metadata": {},
   "source": [
    "<div align=\"right\">\n",
    "\n",
    "<!-- [![Binder](http://mybinder.org/badge.svg)](https://mybinder.org/) -->\n",
    "[![nbviewer](https://img.shields.io/badge/render-nbviewer-orange?logo=Jupyter)](https://nbviewer.org/github/brunomaso1/vision-transformer/blob/main/notebooks/4.01-analisis-resultados.ipynb)\n",
    "[![Open In Colab](https://colab.research.google.com/assets/colab-badge.svg)](https://githubtocolab.com/brunomaso1/vision-transformer/blob/main/notebooks/4.01-analisis-resultados.ipynb)\n",
    "\n",
    "</div>"
   ]
  },
  {
   "cell_type": "markdown",
   "metadata": {},
   "source": [
    "* * *"
   ]
  },
  {
   "cell_type": "markdown",
   "metadata": {},
   "source": [
    "<style>\n",
    "/* Limitar la altura de las celdas de salida en html */\n",
    ".jp-OutputArea.jp-Cell-outputArea {\n",
    "    max-height: 500px;\n",
    "}\n",
    "</style>"
   ]
  },
  {
   "cell_type": "markdown",
   "metadata": {},
   "source": [
    "🛻 <em><font color='MediumSeaGreen'>  Instalaciones: </font></em> 🛻\n"
   ]
  },
  {
   "cell_type": "markdown",
   "metadata": {},
   "source": [
    "Este notebook utiliza [Poetry](https://python-poetry.org/) para la gestión de dependencias.\n",
    "Primero instala Poetry siguiendo las instrucciones de su [documentación oficial](https://python-poetry.org/docs/#installation).\n",
    "Luego ejecuta el siguiente comando para instalar las dependencias necesarias y activar el entorno virtual:\n",
    "\n",
    "- Bash:\n",
    "\n",
    "```bash\n",
    "poetry install\n",
    "eval $(poetry env activate)\n",
    "```\n",
    "\n",
    "- PowerShell:\n",
    "\n",
    "```powershell\n",
    "poetry install\n",
    "Invoke-Expression (poetry env activate)\n",
    "```\n",
    "\n",
    "> 📝 <em><font color='Gray'>Nota:</font></em> Para agregar `pytorch` utilizando Poetry, se utiliza el siguiente comando:\n",
    "> ```bash\n",
    "> # Más info: https://github.com/python-poetry/poetry/issues/6409\n",
    "> potery source add --priority explicit pytorch_gpu https://download.pytorch.org/whl/cu128 # Seleccionar la wheel adecuada para tu GPU\n",
    "> poetry add --source pytorch_gpu torch torchvision \n",
    "> ```"
   ]
  },
  {
   "cell_type": "markdown",
   "metadata": {},
   "source": [
    "✋ <em><font color='DodgerBlue'>Importaciones:</font></em> ✋"
   ]
  },
  {
   "cell_type": "code",
   "execution_count": 5,
   "metadata": {},
   "outputs": [],
   "source": [
    "# Recarga automática de módulos en Jupyter Notebook\n",
    "%reload_ext autoreload\n",
    "%autoreload 2\n",
    "\n",
    "import pandas as pd\n",
    "import plotly.graph_objects as go\n",
    "\n",
    "# Modulos propios\n",
    "from vision_transformer.config import (\n",
    "    MODELS_DIR,\n",
    "    MODELS_DIR_SIWNV2_TINY,\n",
    "    MODELS_DIR_SIWNV2_BASE,\n",
    "    MODELS_DIR_SIWNV2_LARGE,\n",
    "    METRICS_FILENAME,\n",
    "    REPORTS_DIR,\n",
    "    FIGURES_DIR,\n",
    "    MODEL_DIR_YOLOV11_M,\n",
    "    MODELS_DIR_CVT_21,\n",
    "    MODELS_DIR_VIT_BASE,\n",
    "    MODELS_DIR_CVT_13\n",
    ")\n",
    "from vision_transformer.plots import plot_radar_chart"
   ]
  },
  {
   "cell_type": "markdown",
   "metadata": {},
   "source": [
    "🔧 <em><font color='tomato'>Configuraciones:</font></em> 🔧\n"
   ]
  },
  {
   "cell_type": "markdown",
   "metadata": {},
   "source": [
    "<div align=\"center\">✨Datos del proyecto:✨</div>\n",
    "\n",
    "<p></p>\n",
    "\n",
    "<div align=\"center\">\n",
    "\n",
    "| Subtitulo       | Análisis de resultados de entrenamiento de los modelos sobre EuroSAT                                                                       |\n",
    "| --------------- | -------------------------------------------------------------------------------------------------------------------------------------- |\n",
    "| **Descrpción**  | <small>Análisis de resultados sobre el EuroSAT<br/>- *Tarea:* `Clasificación`<br/>- *Modelos*: `swinV2`, `CVT-21`, `ViT-Base`, `YoloV11` <br/> - *Dataset*: `EuroSAT` </small>|\n",
    "<!-- | **Autor** | <small>[Nombre] ([correo]) </small>                                                                                                 | -->\n",
    "\n",
    "</div>"
   ]
  },
  {
   "cell_type": "markdown",
   "metadata": {},
   "source": [
    "## Tabla de contenidos\n",
    "1. [Carga de datos](#carga-de-datos)\n",
    "2. [Análisis de resultados](#analisis-de-resultados)\n",
    "   1. [SwinV2](#swinv2)\n",
    "   2. [ViT Base](#vit-base)\n",
    "   3. [CVT](#cvt)\n",
    "   4. [YoloV11](#yolov11)\n",
    "3. [Conclusiones](#conclusiones)"
   ]
  },
  {
   "cell_type": "markdown",
   "metadata": {},
   "source": [
    "## 1. Carga de datos <a id=\"carga-de-datos\"></a>"
   ]
  },
  {
   "cell_type": "code",
   "execution_count": 6,
   "metadata": {},
   "outputs": [],
   "source": [
    "swinv2_tiny = pd.read_csv(MODELS_DIR_SIWNV2_TINY / METRICS_FILENAME)\n",
    "swinv2_base = pd.read_csv(MODELS_DIR_SIWNV2_BASE / METRICS_FILENAME)\n",
    "swinv2_large = pd.read_csv(MODELS_DIR_SIWNV2_LARGE / METRICS_FILENAME)\n",
    "cvt_21 = pd.read_csv(MODELS_DIR_CVT_21 / METRICS_FILENAME)\n",
    "cvt_13 = pd.read_csv(MODELS_DIR_CVT_13 / METRICS_FILENAME)\n",
    "yolov11 = pd.read_csv(MODEL_DIR_YOLOV11_M / METRICS_FILENAME)\n",
    "vit_base = pd.read_csv(MODELS_DIR_VIT_BASE / METRICS_FILENAME)"
   ]
  },
  {
   "cell_type": "markdown",
   "metadata": {},
   "source": [
    "## 2. Análisis de resultados <a name=\"analisis-de-resultados\"></a>"
   ]
  },
  {
   "cell_type": "markdown",
   "metadata": {},
   "source": [
    "### 2.1. SwinV2 <a name=\"swinv2\"></a>"
   ]
  },
  {
   "cell_type": "markdown",
   "metadata": {},
   "source": [
    "#### 2.1.1. SwinV2 Tiny <a name=\"swinv2-tiny\"></a>"
   ]
  },
  {
   "cell_type": "markdown",
   "metadata": {},
   "source": [
    "![SwinV2 Tiny - Matriz de confusión](../reports/figures/swinv2-tiny/microsoft-swinv2-tiny-patch4-window8-256_confusion_matrix.png)"
   ]
  },
  {
   "cell_type": "markdown",
   "metadata": {},
   "source": [
    "![SiwnV2 Tiny - Accuracy plot](../reports/figures/swinv2-tiny/microsoft-swinv2-tiny-patch4-window8-256_accuracy_plot.png)"
   ]
  },
  {
   "cell_type": "markdown",
   "metadata": {},
   "source": [
    "#### 2.1.2. SwinV2 Base <a name=\"swinv2-base\"></a>"
   ]
  },
  {
   "cell_type": "markdown",
   "metadata": {},
   "source": [
    "![SwinV2 Base - Matriz de confusión](../reports/figures/swinv2-base/microsoft-swinv2-base-patch4-window8-256_confusion_matrix.png)"
   ]
  },
  {
   "cell_type": "markdown",
   "metadata": {},
   "source": [
    "![SwinV2 Base - Accuracy plot](../reports/figures/swinv2-base/microsoft-swinv2-base-patch4-window8-256_accuracy_plot.png)"
   ]
  },
  {
   "cell_type": "markdown",
   "metadata": {},
   "source": [
    "#### 2.1.3. SwinV2 Large <a name=\"swinv2-large\"></a>"
   ]
  },
  {
   "cell_type": "markdown",
   "metadata": {},
   "source": [
    "![SwinV2 Large - Matriz de confusión](../reports/figures/swinv2-large/microsoft-swinv2-large-patch4-window12to16-192to256-22kto1k-ft_confusion_matrix.png)"
   ]
  },
  {
   "cell_type": "markdown",
   "metadata": {},
   "source": [
    "![SwinV2 Large - Accuracy plot](../reports/figures/swinv2-large/microsoft-swinv2-large-patch4-window12to16-192to256-22kto1k-ft_accuracy_plot.png)"
   ]
  },
  {
   "cell_type": "markdown",
   "metadata": {},
   "source": [
    "### 2.2. ViT Base <a name=\"vit-base\"></a>"
   ]
  },
  {
   "cell_type": "markdown",
   "metadata": {},
   "source": [
    "![ViT Base - Matriz de confusión](../reports/figures/vit-base-patch16-224/google-vit-base-patch16-224_confusion_matrix.png)"
   ]
  },
  {
   "cell_type": "markdown",
   "metadata": {},
   "source": [
    "![ViT Base - Accuracy plot](../reports/figures/vit-base-patch16-224/google-vit-base-patch16-224_accuracy_plot.png)"
   ]
  },
  {
   "cell_type": "markdown",
   "metadata": {},
   "source": [
    "### 2.3. CVT <a name=\"cvt\"></a>"
   ]
  },
  {
   "cell_type": "markdown",
   "metadata": {},
   "source": [
    "#### 2.3.1. CVT-13 <a name=\"cvt-13\"></a>"
   ]
  },
  {
   "cell_type": "markdown",
   "metadata": {},
   "source": [
    "![CVT - Matriz de confusión](../reports/figures/cvt-13/microsoft-cvt-13_confusion_matrix.png)"
   ]
  },
  {
   "cell_type": "markdown",
   "metadata": {},
   "source": [
    "![CVT - Accuracy plot](../reports/figures/cvt-13/microsoft-cvt-13_accuracy_plot.png)"
   ]
  },
  {
   "cell_type": "markdown",
   "metadata": {},
   "source": [
    "#### 2.3.2. CVT-21 <a name=\"cvt-21\"></a>"
   ]
  },
  {
   "cell_type": "markdown",
   "metadata": {},
   "source": [
    "![CVT - Matriz de confusión](../reports/figures/cvt-21/microsoft-cvt-21_confusion_matrix.png)"
   ]
  },
  {
   "cell_type": "markdown",
   "metadata": {},
   "source": [
    "![CVT - Accuracy plot](../reports/figures/cvt-21/microsoft-cvt-21_accuracy_plot.png)"
   ]
  },
  {
   "cell_type": "markdown",
   "metadata": {},
   "source": [
    "### 2.4. YoloV11 <a name=\"yolov11\"></a>"
   ]
  },
  {
   "cell_type": "markdown",
   "metadata": {},
   "source": [
    "![YoloV11 - Matriz de confusión](../reports/figures/yolo11m-cls/yolo11m-cls_confusion_matrix.png)"
   ]
  },
  {
   "cell_type": "markdown",
   "metadata": {},
   "source": [
    "![YoloV11 - Accuracy plot](../reports/figures/yolo11m-cls/yolo11m-cls_accuracy_plot.png)"
   ]
  },
  {
   "cell_type": "markdown",
   "metadata": {},
   "source": [
    "### 2.5. Comparación de modelos <a name=\"comparacion-modelos\"></a>"
   ]
  },
  {
   "cell_type": "code",
   "execution_count": 12,
   "metadata": {},
   "outputs": [
    {
     "data": {
      "application/vnd.plotly.v1+json": {
       "config": {
        "plotlyServerURL": "https://plot.ly"
       },
       "data": [
        {
         "name": "SwinV2-Large",
         "r": [
          0.9925925925925926,
          0.9925877970274056,
          0.9926185577282348,
          0.9925925925925926,
          0.9925925925925926
         ],
         "theta": [
          "eval_accuracy",
          "eval_f1",
          "eval_precision",
          "eval_recall",
          "eval_accuracy"
         ],
         "type": "scatterpolar"
        },
        {
         "name": "CvT-13",
         "r": [
          0.9796296296296296,
          0.9796144597544632,
          0.9799375305535378,
          0.9796296296296296,
          0.9796296296296296
         ],
         "theta": [
          "eval_accuracy",
          "eval_f1",
          "eval_precision",
          "eval_recall",
          "eval_accuracy"
         ],
         "type": "scatterpolar"
        },
        {
         "name": "YOLOv11-M",
         "r": [
          0.9814814814814816,
          0.9815276610360968,
          0.9818306197203728,
          0.9814814814814816,
          0.9814814814814816
         ],
         "theta": [
          "eval_accuracy",
          "eval_f1",
          "eval_precision",
          "eval_recall",
          "eval_accuracy"
         ],
         "type": "scatterpolar"
        },
        {
         "name": "ViT Base",
         "r": [
          0.9877777777777778,
          0.9878081217794537,
          0.9878873603468727,
          0.9877777777777778,
          0.9877777777777778
         ],
         "theta": [
          "eval_accuracy",
          "eval_f1",
          "eval_precision",
          "eval_recall",
          "eval_accuracy"
         ],
         "type": "scatterpolar"
        }
       ],
       "layout": {
        "height": 600,
        "legend": {
         "orientation": "v",
         "x": 1,
         "xanchor": "right",
         "y": 0.75,
         "yanchor": "bottom"
        },
        "polar": {
         "angularaxis": {
          "gridcolor": "rgba(0, 0, 0, 0.2)",
          "linecolor": "gray",
          "linewidth": 1,
          "tickfont": {
           "color": "rgba(0, 0, 0, 0.8)",
           "size": 10
          },
          "ticklen": 10
         },
         "radialaxis": {
          "gridcolor": "rgba(0, 0, 0, 0.2)",
          "linecolor": "rgba(0, 0, 0, 0.2)",
          "range": [
           0.97,
           0.9959
          ],
          "tickfont": {
           "color": "rgba(0, 0, 0, 0.8)"
          },
          "visible": true
         }
        },
        "template": {
         "data": {
          "bar": [
           {
            "error_x": {
             "color": "#2a3f5f"
            },
            "error_y": {
             "color": "#2a3f5f"
            },
            "marker": {
             "line": {
              "color": "#E5ECF6",
              "width": 0.5
             },
             "pattern": {
              "fillmode": "overlay",
              "size": 10,
              "solidity": 0.2
             }
            },
            "type": "bar"
           }
          ],
          "barpolar": [
           {
            "marker": {
             "line": {
              "color": "#E5ECF6",
              "width": 0.5
             },
             "pattern": {
              "fillmode": "overlay",
              "size": 10,
              "solidity": 0.2
             }
            },
            "type": "barpolar"
           }
          ],
          "carpet": [
           {
            "aaxis": {
             "endlinecolor": "#2a3f5f",
             "gridcolor": "white",
             "linecolor": "white",
             "minorgridcolor": "white",
             "startlinecolor": "#2a3f5f"
            },
            "baxis": {
             "endlinecolor": "#2a3f5f",
             "gridcolor": "white",
             "linecolor": "white",
             "minorgridcolor": "white",
             "startlinecolor": "#2a3f5f"
            },
            "type": "carpet"
           }
          ],
          "choropleth": [
           {
            "colorbar": {
             "outlinewidth": 0,
             "ticks": ""
            },
            "type": "choropleth"
           }
          ],
          "contour": [
           {
            "colorbar": {
             "outlinewidth": 0,
             "ticks": ""
            },
            "colorscale": [
             [
              0,
              "#0d0887"
             ],
             [
              0.1111111111111111,
              "#46039f"
             ],
             [
              0.2222222222222222,
              "#7201a8"
             ],
             [
              0.3333333333333333,
              "#9c179e"
             ],
             [
              0.4444444444444444,
              "#bd3786"
             ],
             [
              0.5555555555555556,
              "#d8576b"
             ],
             [
              0.6666666666666666,
              "#ed7953"
             ],
             [
              0.7777777777777778,
              "#fb9f3a"
             ],
             [
              0.8888888888888888,
              "#fdca26"
             ],
             [
              1,
              "#f0f921"
             ]
            ],
            "type": "contour"
           }
          ],
          "contourcarpet": [
           {
            "colorbar": {
             "outlinewidth": 0,
             "ticks": ""
            },
            "type": "contourcarpet"
           }
          ],
          "heatmap": [
           {
            "colorbar": {
             "outlinewidth": 0,
             "ticks": ""
            },
            "colorscale": [
             [
              0,
              "#0d0887"
             ],
             [
              0.1111111111111111,
              "#46039f"
             ],
             [
              0.2222222222222222,
              "#7201a8"
             ],
             [
              0.3333333333333333,
              "#9c179e"
             ],
             [
              0.4444444444444444,
              "#bd3786"
             ],
             [
              0.5555555555555556,
              "#d8576b"
             ],
             [
              0.6666666666666666,
              "#ed7953"
             ],
             [
              0.7777777777777778,
              "#fb9f3a"
             ],
             [
              0.8888888888888888,
              "#fdca26"
             ],
             [
              1,
              "#f0f921"
             ]
            ],
            "type": "heatmap"
           }
          ],
          "histogram": [
           {
            "marker": {
             "pattern": {
              "fillmode": "overlay",
              "size": 10,
              "solidity": 0.2
             }
            },
            "type": "histogram"
           }
          ],
          "histogram2d": [
           {
            "colorbar": {
             "outlinewidth": 0,
             "ticks": ""
            },
            "colorscale": [
             [
              0,
              "#0d0887"
             ],
             [
              0.1111111111111111,
              "#46039f"
             ],
             [
              0.2222222222222222,
              "#7201a8"
             ],
             [
              0.3333333333333333,
              "#9c179e"
             ],
             [
              0.4444444444444444,
              "#bd3786"
             ],
             [
              0.5555555555555556,
              "#d8576b"
             ],
             [
              0.6666666666666666,
              "#ed7953"
             ],
             [
              0.7777777777777778,
              "#fb9f3a"
             ],
             [
              0.8888888888888888,
              "#fdca26"
             ],
             [
              1,
              "#f0f921"
             ]
            ],
            "type": "histogram2d"
           }
          ],
          "histogram2dcontour": [
           {
            "colorbar": {
             "outlinewidth": 0,
             "ticks": ""
            },
            "colorscale": [
             [
              0,
              "#0d0887"
             ],
             [
              0.1111111111111111,
              "#46039f"
             ],
             [
              0.2222222222222222,
              "#7201a8"
             ],
             [
              0.3333333333333333,
              "#9c179e"
             ],
             [
              0.4444444444444444,
              "#bd3786"
             ],
             [
              0.5555555555555556,
              "#d8576b"
             ],
             [
              0.6666666666666666,
              "#ed7953"
             ],
             [
              0.7777777777777778,
              "#fb9f3a"
             ],
             [
              0.8888888888888888,
              "#fdca26"
             ],
             [
              1,
              "#f0f921"
             ]
            ],
            "type": "histogram2dcontour"
           }
          ],
          "mesh3d": [
           {
            "colorbar": {
             "outlinewidth": 0,
             "ticks": ""
            },
            "type": "mesh3d"
           }
          ],
          "parcoords": [
           {
            "line": {
             "colorbar": {
              "outlinewidth": 0,
              "ticks": ""
             }
            },
            "type": "parcoords"
           }
          ],
          "pie": [
           {
            "automargin": true,
            "type": "pie"
           }
          ],
          "scatter": [
           {
            "fillpattern": {
             "fillmode": "overlay",
             "size": 10,
             "solidity": 0.2
            },
            "type": "scatter"
           }
          ],
          "scatter3d": [
           {
            "line": {
             "colorbar": {
              "outlinewidth": 0,
              "ticks": ""
             }
            },
            "marker": {
             "colorbar": {
              "outlinewidth": 0,
              "ticks": ""
             }
            },
            "type": "scatter3d"
           }
          ],
          "scattercarpet": [
           {
            "marker": {
             "colorbar": {
              "outlinewidth": 0,
              "ticks": ""
             }
            },
            "type": "scattercarpet"
           }
          ],
          "scattergeo": [
           {
            "marker": {
             "colorbar": {
              "outlinewidth": 0,
              "ticks": ""
             }
            },
            "type": "scattergeo"
           }
          ],
          "scattergl": [
           {
            "marker": {
             "colorbar": {
              "outlinewidth": 0,
              "ticks": ""
             }
            },
            "type": "scattergl"
           }
          ],
          "scattermap": [
           {
            "marker": {
             "colorbar": {
              "outlinewidth": 0,
              "ticks": ""
             }
            },
            "type": "scattermap"
           }
          ],
          "scattermapbox": [
           {
            "marker": {
             "colorbar": {
              "outlinewidth": 0,
              "ticks": ""
             }
            },
            "type": "scattermapbox"
           }
          ],
          "scatterpolar": [
           {
            "marker": {
             "colorbar": {
              "outlinewidth": 0,
              "ticks": ""
             }
            },
            "type": "scatterpolar"
           }
          ],
          "scatterpolargl": [
           {
            "marker": {
             "colorbar": {
              "outlinewidth": 0,
              "ticks": ""
             }
            },
            "type": "scatterpolargl"
           }
          ],
          "scatterternary": [
           {
            "marker": {
             "colorbar": {
              "outlinewidth": 0,
              "ticks": ""
             }
            },
            "type": "scatterternary"
           }
          ],
          "surface": [
           {
            "colorbar": {
             "outlinewidth": 0,
             "ticks": ""
            },
            "colorscale": [
             [
              0,
              "#0d0887"
             ],
             [
              0.1111111111111111,
              "#46039f"
             ],
             [
              0.2222222222222222,
              "#7201a8"
             ],
             [
              0.3333333333333333,
              "#9c179e"
             ],
             [
              0.4444444444444444,
              "#bd3786"
             ],
             [
              0.5555555555555556,
              "#d8576b"
             ],
             [
              0.6666666666666666,
              "#ed7953"
             ],
             [
              0.7777777777777778,
              "#fb9f3a"
             ],
             [
              0.8888888888888888,
              "#fdca26"
             ],
             [
              1,
              "#f0f921"
             ]
            ],
            "type": "surface"
           }
          ],
          "table": [
           {
            "cells": {
             "fill": {
              "color": "#EBF0F8"
             },
             "line": {
              "color": "white"
             }
            },
            "header": {
             "fill": {
              "color": "#C8D4E3"
             },
             "line": {
              "color": "white"
             }
            },
            "type": "table"
           }
          ]
         },
         "layout": {
          "annotationdefaults": {
           "arrowcolor": "#2a3f5f",
           "arrowhead": 0,
           "arrowwidth": 1
          },
          "autotypenumbers": "strict",
          "coloraxis": {
           "colorbar": {
            "outlinewidth": 0,
            "ticks": ""
           }
          },
          "colorscale": {
           "diverging": [
            [
             0,
             "#8e0152"
            ],
            [
             0.1,
             "#c51b7d"
            ],
            [
             0.2,
             "#de77ae"
            ],
            [
             0.3,
             "#f1b6da"
            ],
            [
             0.4,
             "#fde0ef"
            ],
            [
             0.5,
             "#f7f7f7"
            ],
            [
             0.6,
             "#e6f5d0"
            ],
            [
             0.7,
             "#b8e186"
            ],
            [
             0.8,
             "#7fbc41"
            ],
            [
             0.9,
             "#4d9221"
            ],
            [
             1,
             "#276419"
            ]
           ],
           "sequential": [
            [
             0,
             "#0d0887"
            ],
            [
             0.1111111111111111,
             "#46039f"
            ],
            [
             0.2222222222222222,
             "#7201a8"
            ],
            [
             0.3333333333333333,
             "#9c179e"
            ],
            [
             0.4444444444444444,
             "#bd3786"
            ],
            [
             0.5555555555555556,
             "#d8576b"
            ],
            [
             0.6666666666666666,
             "#ed7953"
            ],
            [
             0.7777777777777778,
             "#fb9f3a"
            ],
            [
             0.8888888888888888,
             "#fdca26"
            ],
            [
             1,
             "#f0f921"
            ]
           ],
           "sequentialminus": [
            [
             0,
             "#0d0887"
            ],
            [
             0.1111111111111111,
             "#46039f"
            ],
            [
             0.2222222222222222,
             "#7201a8"
            ],
            [
             0.3333333333333333,
             "#9c179e"
            ],
            [
             0.4444444444444444,
             "#bd3786"
            ],
            [
             0.5555555555555556,
             "#d8576b"
            ],
            [
             0.6666666666666666,
             "#ed7953"
            ],
            [
             0.7777777777777778,
             "#fb9f3a"
            ],
            [
             0.8888888888888888,
             "#fdca26"
            ],
            [
             1,
             "#f0f921"
            ]
           ]
          },
          "colorway": [
           "#636efa",
           "#EF553B",
           "#00cc96",
           "#ab63fa",
           "#FFA15A",
           "#19d3f3",
           "#FF6692",
           "#B6E880",
           "#FF97FF",
           "#FECB52"
          ],
          "font": {
           "color": "#2a3f5f"
          },
          "geo": {
           "bgcolor": "white",
           "lakecolor": "white",
           "landcolor": "#E5ECF6",
           "showlakes": true,
           "showland": true,
           "subunitcolor": "white"
          },
          "hoverlabel": {
           "align": "left"
          },
          "hovermode": "closest",
          "mapbox": {
           "style": "light"
          },
          "paper_bgcolor": "white",
          "plot_bgcolor": "#E5ECF6",
          "polar": {
           "angularaxis": {
            "gridcolor": "white",
            "linecolor": "white",
            "ticks": ""
           },
           "bgcolor": "#E5ECF6",
           "radialaxis": {
            "gridcolor": "white",
            "linecolor": "white",
            "ticks": ""
           }
          },
          "scene": {
           "xaxis": {
            "backgroundcolor": "#E5ECF6",
            "gridcolor": "white",
            "gridwidth": 2,
            "linecolor": "white",
            "showbackground": true,
            "ticks": "",
            "zerolinecolor": "white"
           },
           "yaxis": {
            "backgroundcolor": "#E5ECF6",
            "gridcolor": "white",
            "gridwidth": 2,
            "linecolor": "white",
            "showbackground": true,
            "ticks": "",
            "zerolinecolor": "white"
           },
           "zaxis": {
            "backgroundcolor": "#E5ECF6",
            "gridcolor": "white",
            "gridwidth": 2,
            "linecolor": "white",
            "showbackground": true,
            "ticks": "",
            "zerolinecolor": "white"
           }
          },
          "shapedefaults": {
           "line": {
            "color": "#2a3f5f"
           }
          },
          "ternary": {
           "aaxis": {
            "gridcolor": "white",
            "linecolor": "white",
            "ticks": ""
           },
           "baxis": {
            "gridcolor": "white",
            "linecolor": "white",
            "ticks": ""
           },
           "bgcolor": "#E5ECF6",
           "caxis": {
            "gridcolor": "white",
            "linecolor": "white",
            "ticks": ""
           }
          },
          "title": {
           "x": 0.05
          },
          "xaxis": {
           "automargin": true,
           "gridcolor": "white",
           "linecolor": "white",
           "ticks": "",
           "title": {
            "standoff": 15
           },
           "zerolinecolor": "white",
           "zerolinewidth": 2
          },
          "yaxis": {
           "automargin": true,
           "gridcolor": "white",
           "linecolor": "white",
           "ticks": "",
           "title": {
            "standoff": 15
           },
           "zerolinecolor": "white",
           "zerolinewidth": 2
          }
         }
        },
        "title": {
         "text": "Comparación final entre modelos",
         "x": 0.5
        },
        "width": 800
       }
      }
     },
     "metadata": {},
     "output_type": "display_data"
    }
   ],
   "source": [
    "# Ajustamos los datos para el chart.\n",
    "swinv2_tiny['Model'] = 'SwinV2-Tiny'\n",
    "swinv2_base['Model'] = 'SwinV2-Base'\n",
    "swinv2_large['Model'] = 'SwinV2-Large'\n",
    "cvt_21['Model'] = 'CvT-21'\n",
    "cvt_13['Model'] = 'CvT-13'\n",
    "yolov11['Model'] = 'YOLOv11-M'\n",
    "vit_base['Model'] = 'ViT Base'\n",
    "\n",
    "df_all = pd.concat([swinv2_tiny, swinv2_base, swinv2_large, cvt_21, cvt_13, yolov11, vit_base], ignore_index=True)\n",
    "df_plot = pd.concat([swinv2_large, cvt_13, yolov11, vit_base], ignore_index=True)\n",
    "metrics = ['eval_accuracy', 'eval_f1', 'eval_precision', 'eval_recall']\n",
    "\n",
    "plot_radar_chart(df_plot, metrics, title='Comparación final entre modelos', filename=\"model_comparation\", range_values=[0.97, 0.9959], fig_size=(800, 600))"
   ]
  },
  {
   "cell_type": "code",
   "execution_count": 11,
   "metadata": {},
   "outputs": [
    {
     "data": {
      "text/html": [
       "<div>\n",
       "<style scoped>\n",
       "    .dataframe tbody tr th:only-of-type {\n",
       "        vertical-align: middle;\n",
       "    }\n",
       "\n",
       "    .dataframe tbody tr th {\n",
       "        vertical-align: top;\n",
       "    }\n",
       "\n",
       "    .dataframe thead th {\n",
       "        text-align: right;\n",
       "    }\n",
       "</style>\n",
       "<table border=\"1\" class=\"dataframe\">\n",
       "  <thead>\n",
       "    <tr style=\"text-align: right;\">\n",
       "      <th></th>\n",
       "      <th>eval_loss</th>\n",
       "      <th>eval_accuracy</th>\n",
       "      <th>eval_f1</th>\n",
       "      <th>eval_precision</th>\n",
       "      <th>eval_recall</th>\n",
       "      <th>eval_runtime</th>\n",
       "      <th>eval_samples_per_second</th>\n",
       "      <th>eval_steps_per_second</th>\n",
       "      <th>epoch</th>\n",
       "      <th>Model</th>\n",
       "      <th>eval_model_preparation_time</th>\n",
       "    </tr>\n",
       "  </thead>\n",
       "  <tbody>\n",
       "    <tr>\n",
       "      <th>2</th>\n",
       "      <td>0.041938</td>\n",
       "      <td>0.992593</td>\n",
       "      <td>0.992588</td>\n",
       "      <td>0.992619</td>\n",
       "      <td>0.992593</td>\n",
       "      <td>34.992100</td>\n",
       "      <td>77.160000</td>\n",
       "      <td>4.830</td>\n",
       "      <td>10.0</td>\n",
       "      <td>SwinV2-Large</td>\n",
       "      <td>NaN</td>\n",
       "    </tr>\n",
       "    <tr>\n",
       "      <th>6</th>\n",
       "      <td>0.040996</td>\n",
       "      <td>0.987778</td>\n",
       "      <td>0.987808</td>\n",
       "      <td>0.987887</td>\n",
       "      <td>0.987778</td>\n",
       "      <td>7.952200</td>\n",
       "      <td>339.528000</td>\n",
       "      <td>5.407</td>\n",
       "      <td>10.0</td>\n",
       "      <td>ViT Base</td>\n",
       "      <td>NaN</td>\n",
       "    </tr>\n",
       "    <tr>\n",
       "      <th>1</th>\n",
       "      <td>0.044988</td>\n",
       "      <td>0.987037</td>\n",
       "      <td>0.987075</td>\n",
       "      <td>0.987248</td>\n",
       "      <td>0.987037</td>\n",
       "      <td>21.871300</td>\n",
       "      <td>123.449000</td>\n",
       "      <td>3.886</td>\n",
       "      <td>9.0</td>\n",
       "      <td>SwinV2-Base</td>\n",
       "      <td>NaN</td>\n",
       "    </tr>\n",
       "    <tr>\n",
       "      <th>0</th>\n",
       "      <td>0.057761</td>\n",
       "      <td>0.983704</td>\n",
       "      <td>0.983699</td>\n",
       "      <td>0.983920</td>\n",
       "      <td>0.983704</td>\n",
       "      <td>16.987800</td>\n",
       "      <td>158.938000</td>\n",
       "      <td>2.531</td>\n",
       "      <td>5.0</td>\n",
       "      <td>SwinV2-Tiny</td>\n",
       "      <td>NaN</td>\n",
       "    </tr>\n",
       "    <tr>\n",
       "      <th>5</th>\n",
       "      <td>NaN</td>\n",
       "      <td>0.981481</td>\n",
       "      <td>0.981528</td>\n",
       "      <td>0.981831</td>\n",
       "      <td>0.981481</td>\n",
       "      <td>55.530458</td>\n",
       "      <td>48.621965</td>\n",
       "      <td>NaN</td>\n",
       "      <td>NaN</td>\n",
       "      <td>YOLOv11-M</td>\n",
       "      <td>NaN</td>\n",
       "    </tr>\n",
       "    <tr>\n",
       "      <th>4</th>\n",
       "      <td>0.065341</td>\n",
       "      <td>0.979630</td>\n",
       "      <td>0.979614</td>\n",
       "      <td>0.979938</td>\n",
       "      <td>0.979630</td>\n",
       "      <td>56.166500</td>\n",
       "      <td>48.071000</td>\n",
       "      <td>0.766</td>\n",
       "      <td>NaN</td>\n",
       "      <td>CvT-13</td>\n",
       "      <td>0.0073</td>\n",
       "    </tr>\n",
       "    <tr>\n",
       "      <th>3</th>\n",
       "      <td>0.072071</td>\n",
       "      <td>0.976296</td>\n",
       "      <td>0.976442</td>\n",
       "      <td>0.977171</td>\n",
       "      <td>0.976296</td>\n",
       "      <td>6.523900</td>\n",
       "      <td>413.865000</td>\n",
       "      <td>6.591</td>\n",
       "      <td>6.0</td>\n",
       "      <td>CvT-21</td>\n",
       "      <td>NaN</td>\n",
       "    </tr>\n",
       "  </tbody>\n",
       "</table>\n",
       "</div>"
      ],
      "text/plain": [
       "   eval_loss  eval_accuracy   eval_f1  eval_precision  eval_recall  \\\n",
       "2   0.041938       0.992593  0.992588        0.992619     0.992593   \n",
       "6   0.040996       0.987778  0.987808        0.987887     0.987778   \n",
       "1   0.044988       0.987037  0.987075        0.987248     0.987037   \n",
       "0   0.057761       0.983704  0.983699        0.983920     0.983704   \n",
       "5        NaN       0.981481  0.981528        0.981831     0.981481   \n",
       "4   0.065341       0.979630  0.979614        0.979938     0.979630   \n",
       "3   0.072071       0.976296  0.976442        0.977171     0.976296   \n",
       "\n",
       "   eval_runtime  eval_samples_per_second  eval_steps_per_second  epoch  \\\n",
       "2     34.992100                77.160000                  4.830   10.0   \n",
       "6      7.952200               339.528000                  5.407   10.0   \n",
       "1     21.871300               123.449000                  3.886    9.0   \n",
       "0     16.987800               158.938000                  2.531    5.0   \n",
       "5     55.530458                48.621965                    NaN    NaN   \n",
       "4     56.166500                48.071000                  0.766    NaN   \n",
       "3      6.523900               413.865000                  6.591    6.0   \n",
       "\n",
       "          Model  eval_model_preparation_time  \n",
       "2  SwinV2-Large                          NaN  \n",
       "6      ViT Base                          NaN  \n",
       "1   SwinV2-Base                          NaN  \n",
       "0   SwinV2-Tiny                          NaN  \n",
       "5     YOLOv11-M                          NaN  \n",
       "4        CvT-13                       0.0073  \n",
       "3        CvT-21                          NaN  "
      ]
     },
     "execution_count": 11,
     "metadata": {},
     "output_type": "execute_result"
    }
   ],
   "source": [
    "df_all.sort_values(by=\"eval_accuracy\", ascending=False)"
   ]
  }
 ],
 "metadata": {
  "kernelspec": {
   "display_name": "vision-transformer-py3.13",
   "language": "python",
   "name": "python3"
  },
  "language_info": {
   "codemirror_mode": {
    "name": "ipython",
    "version": 3
   },
   "file_extension": ".py",
   "mimetype": "text/x-python",
   "name": "python",
   "nbconvert_exporter": "python",
   "pygments_lexer": "ipython3",
   "version": "3.13.3"
  }
 },
 "nbformat": 4,
 "nbformat_minor": 2
}
