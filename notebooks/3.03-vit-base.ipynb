{
 "cells": [
  {
   "cell_type": "markdown",
   "metadata": {},
   "source": [
    "# <div align=\"center\"><b> Vit Base </b></div>"
   ]
  },
  {
   "cell_type": "markdown",
   "metadata": {},
   "source": [
    "<div align=\"right\">\n",
    "\n",
    "<!-- [![Binder](http://mybinder.org/badge.svg)](https://mybinder.org/) -->\n",
    "[![nbviewer](https://img.shields.io/badge/render-nbviewer-orange?logo=Jupyter)](https://nbviewer.org/github/brunomaso1/vision-transformer/blob/main/notebooks/3.03-vit-base.ipynb)\n",
    "[![Open In Colab](https://colab.research.google.com/assets/colab-badge.svg)](https://githubtocolab.com/brunomaso1/vision-transformer/blob/main/notebooks/3.03-vit-base.ipynb)\n",
    "\n",
    "</div>"
   ]
  },
  {
   "cell_type": "markdown",
   "metadata": {},
   "source": [
    "* * *"
   ]
  },
  {
   "cell_type": "markdown",
   "metadata": {},
   "source": [
    "<style>\n",
    "/* Limitar la altura de las celdas de salida en html */\n",
    ".jp-OutputArea.jp-Cell-outputArea {\n",
    "    max-height: 500px;\n",
    "}\n",
    "</style>"
   ]
  },
  {
   "cell_type": "markdown",
   "metadata": {},
   "source": [
    "🛻 <em><font color='MediumSeaGreen'>  Instalaciones: </font></em> 🛻\n"
   ]
  },
  {
   "cell_type": "markdown",
   "metadata": {},
   "source": [
    "Este notebook utiliza [Poetry](https://python-poetry.org/) para la gestión de dependencias.\n",
    "Primero instala Poetry siguiendo las instrucciones de su [documentación oficial](https://python-poetry.org/docs/#installation).\n",
    "Luego ejecuta el siguiente comando para instalar las dependencias necesarias y activar el entorno virtual:\n",
    "\n",
    "- Bash:\n",
    "\n",
    "```bash\n",
    "poetry install\n",
    "eval $(poetry env activate)\n",
    "```\n",
    "\n",
    "- PowerShell:\n",
    "\n",
    "```powershell\n",
    "poetry install\n",
    "Invoke-Expression (poetry env activate)\n",
    "```\n",
    "\n",
    "> 📝 <em><font color='Gray'>Nota:</font></em> Para agregar `pytorch` utilizando Poetry, se utiliza el siguiente comando:\n",
    "> ```bash\n",
    "> # Más info: https://github.com/python-poetry/poetry/issues/6409\n",
    "> potery source add --priority explicit pytorch_gpu https://download.pytorch.org/whl/cu128 # Seleccionar la wheel adecuada para tu GPU\n",
    "> poetry add --source pytorch_gpu torch torchvision \n",
    "> ```"
   ]
  },
  {
   "cell_type": "markdown",
   "metadata": {},
   "source": [
    "✋ <em><font color='DodgerBlue'>Importaciones:</font></em> ✋"
   ]
  },
  {
   "cell_type": "code",
   "execution_count": 18,
   "metadata": {},
   "outputs": [],
   "source": [
    "# Recarga automática de módulos en Jupyter Notebook\n",
    "%reload_ext autoreload\n",
    "%autoreload 2\n",
    "\n",
    "# Importación de bibliotecas necesarias\n",
    "import random, requests, os\n",
    "\n",
    "# Configuración de logging\n",
    "from loguru import logger\n",
    "\n",
    "# Pandas y visualización\n",
    "import pandas as pd\n",
    "\n",
    "from PIL import Image\n",
    "\n",
    "# PyTorch\n",
    "import torch\n",
    "from torch.utils.data import DataLoader\n",
    "import torchvision.transforms.functional as TF\n",
    "\n",
    "# NumPy y utilidades\n",
    "import numpy as np\n",
    "from functools import partial\n",
    "\n",
    "# Evaluación\n",
    "import evaluate\n",
    "\n",
    "# Modelos y procesamiento de imágenes (Transformers)\n",
    "from transformers import (\n",
    "    AutoImageProcessor,\n",
    "    AutoModelForImageClassification,\n",
    "    DefaultDataCollator,\n",
    "    ViTForImageClassification,\n",
    "    ViTImageProcessor,\n",
    "    TrainingArguments,\n",
    "    Trainer,\n",
    "    EarlyStoppingCallback,\n",
    "    # Swinv2ForImageClassification,  # Descomentar si se usa explícitamente\n",
    ")\n",
    "from transformers.integrations import MLflowCallback\n",
    "\n",
    "\n",
    "# Modulos propios\n",
    "# Módulos propios\n",
    "from vision_transformer.plots import show_image_grid, plot_confusion_matrix, plot_metric\n",
    "from vision_transformer.dataset import load_huggingface_dataset\n",
    "from vision_transformer.features import VitBaseTransforms\n",
    "from vision_transformer.utils import MulticlassAccuracy\n",
    "from vision_transformer.config import (\n",
    "    RANDOM_SEED,\n",
    "    MODEL_NAME_VIT_BASE,\n",
    "    MODELS_DIR_VIT_BASE,\n",
    "    MLFLOW_URL,\n",
    "    PREFECT_URL,\n",
    "    MODELS_DIR,\n",
    "    DATASET_NAME,\n",
    "    DATASET_VERSION,\n",
    "    HISTORY_FILENAME,\n",
    "    PREDICTIONS_FILENAME,\n",
    "    FIGURES_DIR,\n",
    "    METRICS_FILENAME\n",
    ")\n",
    "\n",
    "import mlflow"
   ]
  },
  {
   "cell_type": "markdown",
   "metadata": {},
   "source": [
    "🔧 <em><font color='tomato'>Configuraciones:</font></em> 🔧\n"
   ]
  },
  {
   "cell_type": "code",
   "execution_count": 2,
   "metadata": {},
   "outputs": [
    {
     "name": "stdout",
     "output_type": "stream",
     "text": [
      "\u001b[32m2025-06-19 11:39:30.638\u001b[0m | \u001b[1mINFO    \u001b[0m | \u001b[36m__main__\u001b[0m:\u001b[36m<module>\u001b[0m:\u001b[36m9\u001b[0m - \u001b[1mDispositivo actual: cuda\u001b[0m\n",
      "\u001b[32m2025-06-19 11:39:32.690\u001b[0m | \u001b[32m\u001b[1mSUCCESS \u001b[0m | \u001b[36m__main__\u001b[0m:\u001b[36m<module>\u001b[0m:\u001b[36m15\u001b[0m - \u001b[32m\u001b[1mConexión a MLflow establecida correctamente.\u001b[0m\n",
      "\u001b[32m2025-06-19 11:39:34.731\u001b[0m | \u001b[32m\u001b[1mSUCCESS \u001b[0m | \u001b[36m__main__\u001b[0m:\u001b[36m<module>\u001b[0m:\u001b[36m27\u001b[0m - \u001b[32m\u001b[1mConexión a Prefect establecida correctamente.\u001b[0m\n"
     ]
    }
   ],
   "source": [
    "random.seed(RANDOM_SEED)\n",
    "\n",
    "# Checkpoints a utilizar\n",
    "MODEL_NAME = MODEL_NAME_VIT_BASE\n",
    "MODEL_FOLDER = MODELS_DIR_VIT_BASE\n",
    "CHECKPOINT = \"google/vit-base-patch16-224\"\n",
    "\n",
    "DEVICE = \"cuda\" if torch.cuda.is_available() else \"cpu\"  # Establece el dispositivo.\n",
    "logger.info(f\"Dispositivo actual: {DEVICE}\")\n",
    "\n",
    "# MLflow: Configuración de la URI de seguimiento\n",
    "try:\n",
    "    response = requests.get(MLFLOW_URL)\n",
    "    response.raise_for_status()  # Verifica si la solicitud fue exitosa.\n",
    "    logger.success(\"Conexión a MLflow establecida correctamente.\")\n",
    "    os.environ[\"MLFLOW_TRACKING_URI\"] = MLFLOW_URL  # Configura la URI de seguimiento de MLflow.\n",
    "    os.environ[\"MLFLOW_EXPERIMENT_NAME\"] = CHECKPOINT.replace(\"/\", \"_\")  # Configura el nombre del experimento de MLflow.\n",
    "    os.environ[\"MLFLOW_TAGS\"] = '{\"model_family\": \"vit-base\"}'\n",
    "except Exception as e:\n",
    "    logger.error(f\"Error al conectar con MLflow. Tienes levantado el servidor de MLflow?\")\n",
    "    raise SystemExit(f\"Error al conectar con MLflow: {e}\")\n",
    "\n",
    "# Prefect: Configuración de Prefect\n",
    "try:\n",
    "    response = requests.get(PREFECT_URL)\n",
    "    response.raise_for_status()  # Verifica si la solicitud fue exitosa.\n",
    "    logger.success(\"Conexión a Prefect establecida correctamente.\")\n",
    "except Exception as e:\n",
    "    logger.error(f\"Error al conectar con Prefect. Tienes levantado el servidor de Prefect?\")\n",
    "    raise SystemExit(f\"Error al conectar con Prefect: {e}\")"
   ]
  },
  {
   "cell_type": "markdown",
   "metadata": {},
   "source": [
    "<div align=\"center\">✨Datos del proyecto:✨</div>\n",
    "\n",
    "<p></p>\n",
    "\n",
    "<div align=\"center\">\n",
    "\n",
    "| Subtitulo       | *Fine-tuning* del modelo vit-base sobre el conjunto EuroSAT-RGB                                                                       |\n",
    "| --------------- | -------------------------------------------------------------------------------------------------------------------------------------- |\n",
    "| **Descrpción**  | <small>Análisis exploratorio del proceso de *fine-tuning* del vit-base sobre el EuroSAT<br/> - *Tarea:* `Clasificacion`<br/>- *Modelo*: `ViT-Base`<br/> - *Dataset*: `EuroSAT` </small>|\n",
    "\n",
    "</div>"
   ]
  },
  {
   "cell_type": "markdown",
   "metadata": {},
   "source": [
    "## Tabla de contenidos\n",
    "0. [Pasos previos](#pasos-previos)\n",
    "1. [Introducción](#introduccion)\n",
    "2. [Entrenamiento del modelo](#entrenamiento)\n",
    "3. [Resultados](#resultados)"
   ]
  },
  {
   "cell_type": "markdown",
   "metadata": {},
   "source": [
    "## 0. Pasos previos <a id=\"pasos-previos\"></a>"
   ]
  },
  {
   "cell_type": "markdown",
   "metadata": {},
   "source": [
    "Ejecuta desde la raíz del proyecto para descargar el dataset EuroSAT:\n",
    "\n",
    "```bash\n",
    "python -m vision_transformer.flows.cli prepare-dataset-flow huggingface\n",
    "```"
   ]
  },
  {
   "cell_type": "markdown",
   "metadata": {},
   "source": [
    "## 1. Introducción <a id=\"introduccion\"></a>"
   ]
  },
  {
   "cell_type": "markdown",
   "metadata": {},
   "source": [
    "En el trabajo final correspondiente al curso Visión por Computadora III se aborda un problema de clasificación de imágenes satelitales. El objetivo principal es comparar el desempeño de distintos modelos basados en la arquitectura Vision Transformer (ViT) y contrastarlos con al menos un modelo clásico basado en redes convolucionales. Esta comparación permite poner en práctica el fine-tuning de modelos preentrenados y, al mismo tiempo, analizar el comportamiento de distintas arquitecturas en un campo muy interesante como el de imágenes satelitales.\n",
    "\n",
    "La propuesta busca enfocarse en un problema con objetivos claros y bien delimitados, que permita explorar tanto aspectos técnicos como conceptos actuales en el área de visión por computadora. En este caso, el interés está centrado en evaluar si las arquitecturas basadas en transformers presentan ventajas frente a los modelos convolucionales tradicionales, como se sugiere en algunos estudios recientes. Por ejemplo, el trabajo [Onboard Satellite Image Classification for Earth Observation: A Comparative Study of ViT Models](https://www.arxiv.org/pdf/2409.03901) reporta resultados positivos al aplicar ViT sobre imágenes satelitales. Por otro lado, el estudio realizado en el marco del curso CS231n de la Universidad de Stanford, [Vision Transformers for Robust Analysis of Satellite Imagery](https://cs231n.stanford.edu/2024/papers/vision-transformers-for-robust-analysis-of-satellite-imagery.pdf), presenta una visión más crítica al respecto, señalando limitaciones cuando se trabaja con datos fuera de distribución.\n",
    "\n",
    "Cabe aclarar que este trabajo tiene un carácter exploratorio y se desarrolla con fines académicos. Si bien se toma como referencia los documentos, el propósito principal es aplicar los contenidos del curso en un caso concreto, más que validar o refutar resultados científicos previos.\n",
    "\n",
    "Para el desarrollo se utiliza el conjunto de datos [EuroSAT](https://github.com/phelber/EuroSAT?tab=readme-ov-file), basado en imágenes del satélite Sentinel-2, perteneciente al programa Copernicus. Este dataset contiene más de 27.000 imágenes geo-referenciadas distribuidas en 10 clases, correspondientes a distintas categorías de uso del suelo. Las imágenes fueron recolectadas en 2015, por lo que son anteriores al surgimiento y la adopción generalizada de transformers en tareas de visión por computadora, lo cual agrega un marco interesante a la comparación propuesta.\n",
    "\n",
    "Este primer notebook se enfoca en una exploración inicial del conjunto de datos, con el objetivo de comprender las características de las imágenes, la distribución de clases y otros aspectos relevantes para el preprocesamiento y el entrenamiento de los modelos."
   ]
  },
  {
   "cell_type": "markdown",
   "metadata": {},
   "source": [
    "## 2. Entrenamiento del modelo <a id=\"entrenamiento\"></a>"
   ]
  },
  {
   "cell_type": "code",
   "execution_count": 3,
   "metadata": {},
   "outputs": [
    {
     "name": "stdout",
     "output_type": "stream",
     "text": [
      "\u001b[32m2025-06-19 11:39:34.776\u001b[0m | \u001b[1mINFO    \u001b[0m | \u001b[36mvision_transformer.dataset\u001b[0m:\u001b[36mload_huggingface_dataset\u001b[0m:\u001b[36m441\u001b[0m - \u001b[1mCargando el dataset procesado...\u001b[0m\n",
      "\u001b[32m2025-06-19 11:39:35.249\u001b[0m | \u001b[1mINFO    \u001b[0m | \u001b[36mvision_transformer.dataset\u001b[0m:\u001b[36mload_huggingface_dataset\u001b[0m:\u001b[36m453\u001b[0m - \u001b[1mEl dataset contiene múltiples conjuntos (train, test, val). Cargando todos...\u001b[0m\n"
     ]
    },
    {
     "data": {
      "application/vnd.jupyter.widget-view+json": {
       "model_id": "350b76b136a64fd898bd69266a2ac6e9",
       "version_major": 2,
       "version_minor": 0
      },
      "text/plain": [
       "Resolving data files:   0%|          | 0/24300 [00:00<?, ?it/s]"
      ]
     },
     "metadata": {},
     "output_type": "display_data"
    },
    {
     "data": {
      "application/vnd.jupyter.widget-view+json": {
       "model_id": "1ea4347d0afb44a5ba40d2a14e6b4b5e",
       "version_major": 2,
       "version_minor": 0
      },
      "text/plain": [
       "Resolving data files:   0%|          | 0/2700 [00:00<?, ?it/s]"
      ]
     },
     "metadata": {},
     "output_type": "display_data"
    }
   ],
   "source": [
    "dataset = load_huggingface_dataset()"
   ]
  },
  {
   "cell_type": "code",
   "execution_count": 4,
   "metadata": {},
   "outputs": [
    {
     "name": "stdout",
     "output_type": "stream",
     "text": [
      "DatasetDict({\n",
      "    train: Dataset({\n",
      "        features: ['image', 'label'],\n",
      "        num_rows: 24300\n",
      "    })\n",
      "    test: Dataset({\n",
      "        features: ['image', 'label'],\n",
      "        num_rows: 2700\n",
      "    })\n",
      "})\n"
     ]
    }
   ],
   "source": [
    "print(dataset)"
   ]
  },
  {
   "cell_type": "code",
   "execution_count": 5,
   "metadata": {},
   "outputs": [
    {
     "name": "stdout",
     "output_type": "stream",
     "text": [
      "Cantidad de clases: 10 \n",
      "\n",
      "- id 0: AnnualCrop\n",
      "- id 1: Forest\n",
      "- id 2: HerbaceousVegetation\n",
      "- id 3: Highway\n",
      "- id 4: Industrial\n",
      "- id 5: Pasture\n",
      "- id 6: PermanentCrop\n",
      "- id 7: Residential\n",
      "- id 8: River\n",
      "- id 9: SeaLake\n"
     ]
    }
   ],
   "source": [
    "id2label = {id: label for id, label in enumerate(dataset[\"train\"].features[\"label\"].names)}\n",
    "label2id = {label: id for id, label in id2label.items()}\n",
    "\n",
    "print(\"Cantidad de clases:\", len(id2label), \"\\n\")\n",
    "for k, v in id2label.items():\n",
    "    print(f\"- id {k}: {v}\")"
   ]
  },
  {
   "cell_type": "markdown",
   "metadata": {},
   "source": [
    "En este notebook se trabaja con ViT Base, el primer modelo presentado por Google en el paper [An Image is Worth 16x16 Words](https://arxiv.org/pdf/2010.11929). Este modelo marcó el inicio del uso de transformers en visión por computadora, y se toma como punto de partida para establecer una primera línea de base que luego se podrá comparar con variantes como CvT o Swin Transformer.\n",
    "\n",
    "A continuación se incluye un esquema visual del modelo para facilitar su interpretación:\n",
    "\n",
    "<div align=\"center\"><img src=\"../resources/../resources/vit.png\" width=\"600\" alt=\"Figura 1: Vit Base\"></div>\n",
    "<div align=\"center\"><small><em>Figura 1: Vit Base</em></small></div>\n",
    "\n",
    "La implementación del modelo se realiza utilizando la librería [transformers](https://huggingface.co/docs/transformers/en/index) de Hugging Face. En este caso, se utiliza la versión [google/vit-base-patch16-224](https://huggingface.co/google/vit-base-patch16-224), una de las variantes originales publicadas por el equipo de Google Research.\n",
    "\n",
    "Esta versión del modelo fue preentrenada con imágenes de tamaño 224×224, lo cual se alinea con el preprocesamiento realizado en este proyecto. Cuenta con aproximadamente 86 millones de parámetros, lo que representa un buen equilibrio entre complejidad y eficiencia para trabajar en un entorno de prueba y ajuste como el planteado en este trabajo."
   ]
  },
  {
   "cell_type": "code",
   "execution_count": 6,
   "metadata": {},
   "outputs": [
    {
     "data": {
      "text/plain": [
       "ViTImageProcessor {\n",
       "  \"do_convert_rgb\": null,\n",
       "  \"do_normalize\": true,\n",
       "  \"do_rescale\": true,\n",
       "  \"do_resize\": true,\n",
       "  \"image_mean\": [\n",
       "    0.5,\n",
       "    0.5,\n",
       "    0.5\n",
       "  ],\n",
       "  \"image_processor_type\": \"ViTImageProcessor\",\n",
       "  \"image_std\": [\n",
       "    0.5,\n",
       "    0.5,\n",
       "    0.5\n",
       "  ],\n",
       "  \"resample\": 2,\n",
       "  \"rescale_factor\": 0.00392156862745098,\n",
       "  \"size\": {\n",
       "    \"height\": 224,\n",
       "    \"width\": 224\n",
       "  }\n",
       "}"
      ]
     },
     "execution_count": 6,
     "metadata": {},
     "output_type": "execute_result"
    }
   ],
   "source": [
    "processor = ViTImageProcessor.from_pretrained(CHECKPOINT)\n",
    "processor"
   ]
  },
  {
   "cell_type": "code",
   "execution_count": 7,
   "metadata": {},
   "outputs": [
    {
     "name": "stderr",
     "output_type": "stream",
     "text": [
      "Some weights of ViTForImageClassification were not initialized from the model checkpoint at google/vit-base-patch16-224 and are newly initialized because the shapes did not match:\n",
      "- classifier.bias: found shape torch.Size([1000]) in the checkpoint and torch.Size([10]) in the model instantiated\n",
      "- classifier.weight: found shape torch.Size([1000, 768]) in the checkpoint and torch.Size([10, 768]) in the model instantiated\n",
      "You should probably TRAIN this model on a down-stream task to be able to use it for predictions and inference.\n"
     ]
    }
   ],
   "source": [
    "model = ViTForImageClassification.from_pretrained(\n",
    "    CHECKPOINT,\n",
    "    num_labels=10,\n",
    "    id2label=id2label,\n",
    "    label2id=label2id,\n",
    "    ignore_mismatched_sizes=True\n",
    ")"
   ]
  },
  {
   "cell_type": "code",
   "execution_count": 8,
   "metadata": {},
   "outputs": [
    {
     "name": "stdout",
     "output_type": "stream",
     "text": [
      "Transformaciones de entrenamiento:\n",
      "  - RandomApply(\n",
      "    p=0.8\n",
      "    RandomRotation(degrees=[-15.0, 15.0], interpolation=nearest, expand=False, fill=0)\n",
      ")\n",
      "  - RandomApply(\n",
      "    p=0.8\n",
      "    Resize(size=(72, 72), interpolation=bicubic, max_size=None, antialias=True)\n",
      "    RandomCrop(size=(64, 64), padding=0)\n",
      ")\n",
      "  - RandomHorizontalFlip(p=0.5)\n",
      "  - RandomApply(\n",
      "    p=0.8\n",
      "    ColorJitter(brightness=(0.8, 1.2), contrast=(0.8, 1.2), saturation=(0.8, 1.2), hue=(-0.1, 0.1))\n",
      ")\n",
      "  - Resize(size=(224, 224), interpolation=bicubic, max_size=None, antialias=True)\n",
      "  - ToTensor()\n",
      "  - Normalize(mean=[0.5, 0.5, 0.5], std=[0.5, 0.5, 0.5])\n",
      "\n",
      "Transformaciones de validacion:\n",
      "  - Resize(size=(224, 224), interpolation=bicubic, max_size=None, antialias=True)\n",
      "  - ToTensor()\n",
      "  - Normalize(mean=[0.5, 0.5, 0.5], std=[0.5, 0.5, 0.5])\n"
     ]
    }
   ],
   "source": [
    "transforms = VitBaseTransforms(image_processor=processor)\n",
    "print(transforms.transforms_to_string())"
   ]
  },
  {
   "cell_type": "code",
   "execution_count": 9,
   "metadata": {},
   "outputs": [
    {
     "name": "stdout",
     "output_type": "stream",
     "text": [
      "{'pixel_values': tensor([[[ 0.3255,  0.3255,  0.3255,  ..., -0.0196, -0.0118, -0.0039],\n",
      "         [ 0.3255,  0.3255,  0.3255,  ..., -0.0275, -0.0196, -0.0118],\n",
      "         [ 0.3255,  0.3255,  0.3255,  ..., -0.0353, -0.0275, -0.0196],\n",
      "         ...,\n",
      "         [-0.2471, -0.1765,  0.0039,  ..., -0.9686, -0.9686, -0.9686],\n",
      "         [-0.2549, -0.1843, -0.0039,  ..., -0.9686, -0.9686, -0.9686],\n",
      "         [-0.2627, -0.1922, -0.0118,  ..., -0.9686, -0.9686, -0.9686]],\n",
      "\n",
      "        [[ 0.0745,  0.0745,  0.0745,  ..., -0.0980, -0.0902, -0.0824],\n",
      "         [ 0.0745,  0.0745,  0.0745,  ..., -0.0980, -0.0902, -0.0824],\n",
      "         [ 0.0745,  0.0745,  0.0745,  ..., -0.1059, -0.0980, -0.0902],\n",
      "         ...,\n",
      "         [-0.4196, -0.3647, -0.2157,  ..., -0.9686, -0.9686, -0.9686],\n",
      "         [-0.4196, -0.3647, -0.2235,  ..., -0.9686, -0.9686, -0.9686],\n",
      "         [-0.4196, -0.3647, -0.2235,  ..., -0.9686, -0.9686, -0.9686]],\n",
      "\n",
      "        [[ 0.0745,  0.0745,  0.0745,  ..., -0.0588, -0.0510, -0.0431],\n",
      "         [ 0.0745,  0.0745,  0.0745,  ..., -0.0588, -0.0510, -0.0431],\n",
      "         [ 0.0745,  0.0745,  0.0745,  ..., -0.0588, -0.0510, -0.0431],\n",
      "         ...,\n",
      "         [-0.4667, -0.4118, -0.2784,  ..., -0.9686, -0.9686, -0.9686],\n",
      "         [-0.4667, -0.4118, -0.2784,  ..., -0.9686, -0.9686, -0.9686],\n",
      "         [-0.4667, -0.4118, -0.2784,  ..., -0.9686, -0.9686, -0.9686]]]), 'label': 0}\n",
      "torch.Size([3, 224, 224])\n"
     ]
    }
   ],
   "source": [
    "# Aplicamos las transformaciones\n",
    "def train_transform_wrapper(example):\n",
    "    return transforms(example, train=True)\n",
    "\n",
    "\n",
    "def test_transform_wrapper(example):\n",
    "    return transforms(example, train=False)\n",
    "\n",
    "\n",
    "encoded_ds = {\n",
    "    \"train\": dataset[\"train\"].with_transform(train_transform_wrapper),\n",
    "    \"test\": dataset[\"test\"].with_transform(test_transform_wrapper),\n",
    "}\n",
    "\n",
    "# Mostramos un ejemplo de la estructura.\n",
    "print(encoded_ds[\"train\"][0])\n",
    "print(encoded_ds[\"test\"][0][\"pixel_values\"].shape)"
   ]
  },
  {
   "cell_type": "code",
   "execution_count": 10,
   "metadata": {},
   "outputs": [],
   "source": [
    "clf_metrics = evaluate.combine([\n",
    "    MulticlassAccuracy(),  # Precisión multicategoría.\n",
    "    evaluate.load(\"f1\"), # Puede ser \"micro\", \"macro\" o \"weighted\". En este caso, \"weighted\" toma en cuenta el desbalanceo leve de clases.\n",
    "    evaluate.load(\"precision\"), # \"marco\" para clases desbalanceadas.\n",
    "    evaluate.load(\"recall\")\n",
    "])\n",
    "\n",
    "def compute_metrics(eval_pred):\n",
    "    logits, labels = eval_pred\n",
    "    predictions = np.argmax(logits, axis=-1)\n",
    "    return clf_metrics.compute(predictions=predictions, references=labels, average=\"weighted\")"
   ]
  },
  {
   "cell_type": "code",
   "execution_count": 11,
   "metadata": {},
   "outputs": [],
   "source": [
    "training_args = TrainingArguments(\n",
    "    output_dir=MODELS_DIR / MODEL_FOLDER,  \n",
    "    overwrite_output_dir=True,  \n",
    "    eval_strategy=\"epoch\",  \n",
    "    per_device_train_batch_size=64, \n",
    "    per_device_eval_batch_size=64, \n",
    "    eval_accumulation_steps=1, \n",
    "    learning_rate=5e-5,  \n",
    "    num_train_epochs=10,  \n",
    "    warmup_ratio=0.1,   \n",
    "    save_strategy=\"best\", \n",
    "    save_total_limit=1, \n",
    "    logging_strategy=\"epoch\",  \n",
    "    seed=RANDOM_SEED,  \n",
    "    remove_unused_columns=False,  \n",
    "    load_best_model_at_end=True,  \n",
    "    metric_for_best_model=\"accuracy\",\n",
    "    # dataloader_num_workers=4,\n",
    "    report_to=[],\n",
    ")\n",
    "\n",
    "data_collator = DefaultDataCollator()\n",
    "\n",
    "callback_list = [EarlyStoppingCallback(early_stopping_patience=2), MLflowCallback()]\n",
    "\n",
    "trainer = Trainer(\n",
    "    model=model,\n",
    "    args=training_args,\n",
    "    data_collator=data_collator,\n",
    "    train_dataset=encoded_ds[\"train\"],\n",
    "    eval_dataset=encoded_ds[\"test\"],\n",
    "    processing_class=processor,\n",
    "    compute_metrics=compute_metrics,\n",
    "    callbacks=callback_list\n",
    ")"
   ]
  },
  {
   "cell_type": "code",
   "execution_count": 12,
   "metadata": {},
   "outputs": [
    {
     "name": "stdout",
     "output_type": "stream",
     "text": [
      "\u001b[32m2025-06-19 11:39:49.347\u001b[0m | \u001b[1mINFO    \u001b[0m | \u001b[36m__main__\u001b[0m:\u001b[36m<module>\u001b[0m:\u001b[36m6\u001b[0m - \u001b[1mIniciando entrenamiento del modelo...\u001b[0m\n"
     ]
    },
    {
     "data": {
      "text/html": [
       "\n",
       "    <div>\n",
       "      \n",
       "      <progress value='3800' max='3800' style='width:300px; height:20px; vertical-align: middle;'></progress>\n",
       "      [3800/3800 31:14, Epoch 10/10]\n",
       "    </div>\n",
       "    <table border=\"1\" class=\"dataframe\">\n",
       "  <thead>\n",
       " <tr style=\"text-align: left;\">\n",
       "      <th>Epoch</th>\n",
       "      <th>Training Loss</th>\n",
       "      <th>Validation Loss</th>\n",
       "      <th>Accuracy</th>\n",
       "      <th>F1</th>\n",
       "      <th>Precision</th>\n",
       "      <th>Recall</th>\n",
       "    </tr>\n",
       "  </thead>\n",
       "  <tbody>\n",
       "    <tr>\n",
       "      <td>1</td>\n",
       "      <td>0.617400</td>\n",
       "      <td>0.094061</td>\n",
       "      <td>0.969630</td>\n",
       "      <td>0.969578</td>\n",
       "      <td>0.970340</td>\n",
       "      <td>0.969630</td>\n",
       "    </tr>\n",
       "    <tr>\n",
       "      <td>2</td>\n",
       "      <td>0.097000</td>\n",
       "      <td>0.053188</td>\n",
       "      <td>0.982963</td>\n",
       "      <td>0.982919</td>\n",
       "      <td>0.983077</td>\n",
       "      <td>0.982963</td>\n",
       "    </tr>\n",
       "    <tr>\n",
       "      <td>3</td>\n",
       "      <td>0.060400</td>\n",
       "      <td>0.074190</td>\n",
       "      <td>0.975185</td>\n",
       "      <td>0.975254</td>\n",
       "      <td>0.976301</td>\n",
       "      <td>0.975185</td>\n",
       "    </tr>\n",
       "    <tr>\n",
       "      <td>4</td>\n",
       "      <td>0.044300</td>\n",
       "      <td>0.051591</td>\n",
       "      <td>0.984815</td>\n",
       "      <td>0.984842</td>\n",
       "      <td>0.985151</td>\n",
       "      <td>0.984815</td>\n",
       "    </tr>\n",
       "    <tr>\n",
       "      <td>5</td>\n",
       "      <td>0.030300</td>\n",
       "      <td>0.054157</td>\n",
       "      <td>0.983333</td>\n",
       "      <td>0.983366</td>\n",
       "      <td>0.983610</td>\n",
       "      <td>0.983333</td>\n",
       "    </tr>\n",
       "    <tr>\n",
       "      <td>6</td>\n",
       "      <td>0.022300</td>\n",
       "      <td>0.044507</td>\n",
       "      <td>0.986667</td>\n",
       "      <td>0.986658</td>\n",
       "      <td>0.986733</td>\n",
       "      <td>0.986667</td>\n",
       "    </tr>\n",
       "    <tr>\n",
       "      <td>7</td>\n",
       "      <td>0.015100</td>\n",
       "      <td>0.049564</td>\n",
       "      <td>0.983333</td>\n",
       "      <td>0.983345</td>\n",
       "      <td>0.983473</td>\n",
       "      <td>0.983333</td>\n",
       "    </tr>\n",
       "    <tr>\n",
       "      <td>8</td>\n",
       "      <td>0.009300</td>\n",
       "      <td>0.045002</td>\n",
       "      <td>0.987037</td>\n",
       "      <td>0.987038</td>\n",
       "      <td>0.987105</td>\n",
       "      <td>0.987037</td>\n",
       "    </tr>\n",
       "    <tr>\n",
       "      <td>9</td>\n",
       "      <td>0.006600</td>\n",
       "      <td>0.037923</td>\n",
       "      <td>0.991111</td>\n",
       "      <td>0.991110</td>\n",
       "      <td>0.991165</td>\n",
       "      <td>0.991111</td>\n",
       "    </tr>\n",
       "    <tr>\n",
       "      <td>10</td>\n",
       "      <td>0.005900</td>\n",
       "      <td>0.040996</td>\n",
       "      <td>0.987778</td>\n",
       "      <td>0.987808</td>\n",
       "      <td>0.987887</td>\n",
       "      <td>0.987778</td>\n",
       "    </tr>\n",
       "  </tbody>\n",
       "</table><p>"
      ],
      "text/plain": [
       "<IPython.core.display.HTML object>"
      ]
     },
     "metadata": {},
     "output_type": "display_data"
    },
    {
     "name": "stdout",
     "output_type": "stream",
     "text": [
      "\u001b[32m2025-06-19 12:11:13.352\u001b[0m | \u001b[1mINFO    \u001b[0m | \u001b[36m__main__\u001b[0m:\u001b[36m<module>\u001b[0m:\u001b[36m8\u001b[0m - \u001b[1mEntrenamiento finalizado. Guardando el modelo...\u001b[0m\n",
      "🏃 View run exultant-calf-483 at: http://localhost:8080/#/experiments/8/runs/37b486f2e5c44f41b40e44b36d9a48b4\n",
      "🧪 View experiment at: http://localhost:8080/#/experiments/8\n"
     ]
    },
    {
     "data": {
      "text/html": [
       "<div>\n",
       "<style scoped>\n",
       "    .dataframe tbody tr th:only-of-type {\n",
       "        vertical-align: middle;\n",
       "    }\n",
       "\n",
       "    .dataframe tbody tr th {\n",
       "        vertical-align: top;\n",
       "    }\n",
       "\n",
       "    .dataframe thead th {\n",
       "        text-align: right;\n",
       "    }\n",
       "</style>\n",
       "<table border=\"1\" class=\"dataframe\">\n",
       "  <thead>\n",
       "    <tr style=\"text-align: right;\">\n",
       "      <th></th>\n",
       "      <th>loss</th>\n",
       "      <th>grad_norm</th>\n",
       "      <th>learning_rate</th>\n",
       "      <th>epoch</th>\n",
       "      <th>step</th>\n",
       "      <th>eval_loss</th>\n",
       "      <th>eval_accuracy</th>\n",
       "      <th>eval_f1</th>\n",
       "      <th>eval_precision</th>\n",
       "      <th>eval_recall</th>\n",
       "      <th>eval_runtime</th>\n",
       "      <th>eval_samples_per_second</th>\n",
       "      <th>eval_steps_per_second</th>\n",
       "      <th>train_runtime</th>\n",
       "      <th>train_samples_per_second</th>\n",
       "      <th>train_steps_per_second</th>\n",
       "      <th>total_flos</th>\n",
       "      <th>train_loss</th>\n",
       "    </tr>\n",
       "  </thead>\n",
       "  <tbody>\n",
       "    <tr>\n",
       "      <th>0</th>\n",
       "      <td>0.6174</td>\n",
       "      <td>4.119771</td>\n",
       "      <td>4.986842e-05</td>\n",
       "      <td>1.0</td>\n",
       "      <td>380</td>\n",
       "      <td>NaN</td>\n",
       "      <td>NaN</td>\n",
       "      <td>NaN</td>\n",
       "      <td>NaN</td>\n",
       "      <td>NaN</td>\n",
       "      <td>NaN</td>\n",
       "      <td>NaN</td>\n",
       "      <td>NaN</td>\n",
       "      <td>NaN</td>\n",
       "      <td>NaN</td>\n",
       "      <td>NaN</td>\n",
       "      <td>NaN</td>\n",
       "      <td>NaN</td>\n",
       "    </tr>\n",
       "    <tr>\n",
       "      <th>1</th>\n",
       "      <td>NaN</td>\n",
       "      <td>NaN</td>\n",
       "      <td>NaN</td>\n",
       "      <td>1.0</td>\n",
       "      <td>380</td>\n",
       "      <td>0.094061</td>\n",
       "      <td>0.969630</td>\n",
       "      <td>0.969578</td>\n",
       "      <td>0.970340</td>\n",
       "      <td>0.969630</td>\n",
       "      <td>27.8954</td>\n",
       "      <td>96.790</td>\n",
       "      <td>1.541</td>\n",
       "      <td>NaN</td>\n",
       "      <td>NaN</td>\n",
       "      <td>NaN</td>\n",
       "      <td>NaN</td>\n",
       "      <td>NaN</td>\n",
       "    </tr>\n",
       "    <tr>\n",
       "      <th>2</th>\n",
       "      <td>0.0970</td>\n",
       "      <td>2.167001</td>\n",
       "      <td>4.445906e-05</td>\n",
       "      <td>2.0</td>\n",
       "      <td>760</td>\n",
       "      <td>NaN</td>\n",
       "      <td>NaN</td>\n",
       "      <td>NaN</td>\n",
       "      <td>NaN</td>\n",
       "      <td>NaN</td>\n",
       "      <td>NaN</td>\n",
       "      <td>NaN</td>\n",
       "      <td>NaN</td>\n",
       "      <td>NaN</td>\n",
       "      <td>NaN</td>\n",
       "      <td>NaN</td>\n",
       "      <td>NaN</td>\n",
       "      <td>NaN</td>\n",
       "    </tr>\n",
       "    <tr>\n",
       "      <th>3</th>\n",
       "      <td>NaN</td>\n",
       "      <td>NaN</td>\n",
       "      <td>NaN</td>\n",
       "      <td>2.0</td>\n",
       "      <td>760</td>\n",
       "      <td>0.053188</td>\n",
       "      <td>0.982963</td>\n",
       "      <td>0.982919</td>\n",
       "      <td>0.983077</td>\n",
       "      <td>0.982963</td>\n",
       "      <td>7.5697</td>\n",
       "      <td>356.685</td>\n",
       "      <td>5.681</td>\n",
       "      <td>NaN</td>\n",
       "      <td>NaN</td>\n",
       "      <td>NaN</td>\n",
       "      <td>NaN</td>\n",
       "      <td>NaN</td>\n",
       "    </tr>\n",
       "    <tr>\n",
       "      <th>4</th>\n",
       "      <td>0.0604</td>\n",
       "      <td>4.369373</td>\n",
       "      <td>3.890351e-05</td>\n",
       "      <td>3.0</td>\n",
       "      <td>1140</td>\n",
       "      <td>NaN</td>\n",
       "      <td>NaN</td>\n",
       "      <td>NaN</td>\n",
       "      <td>NaN</td>\n",
       "      <td>NaN</td>\n",
       "      <td>NaN</td>\n",
       "      <td>NaN</td>\n",
       "      <td>NaN</td>\n",
       "      <td>NaN</td>\n",
       "      <td>NaN</td>\n",
       "      <td>NaN</td>\n",
       "      <td>NaN</td>\n",
       "      <td>NaN</td>\n",
       "    </tr>\n",
       "    <tr>\n",
       "      <th>5</th>\n",
       "      <td>NaN</td>\n",
       "      <td>NaN</td>\n",
       "      <td>NaN</td>\n",
       "      <td>3.0</td>\n",
       "      <td>1140</td>\n",
       "      <td>0.074190</td>\n",
       "      <td>0.975185</td>\n",
       "      <td>0.975254</td>\n",
       "      <td>0.976301</td>\n",
       "      <td>0.975185</td>\n",
       "      <td>7.6981</td>\n",
       "      <td>350.737</td>\n",
       "      <td>5.586</td>\n",
       "      <td>NaN</td>\n",
       "      <td>NaN</td>\n",
       "      <td>NaN</td>\n",
       "      <td>NaN</td>\n",
       "      <td>NaN</td>\n",
       "    </tr>\n",
       "    <tr>\n",
       "      <th>6</th>\n",
       "      <td>0.0443</td>\n",
       "      <td>4.043529</td>\n",
       "      <td>3.334795e-05</td>\n",
       "      <td>4.0</td>\n",
       "      <td>1520</td>\n",
       "      <td>NaN</td>\n",
       "      <td>NaN</td>\n",
       "      <td>NaN</td>\n",
       "      <td>NaN</td>\n",
       "      <td>NaN</td>\n",
       "      <td>NaN</td>\n",
       "      <td>NaN</td>\n",
       "      <td>NaN</td>\n",
       "      <td>NaN</td>\n",
       "      <td>NaN</td>\n",
       "      <td>NaN</td>\n",
       "      <td>NaN</td>\n",
       "      <td>NaN</td>\n",
       "    </tr>\n",
       "    <tr>\n",
       "      <th>7</th>\n",
       "      <td>NaN</td>\n",
       "      <td>NaN</td>\n",
       "      <td>NaN</td>\n",
       "      <td>4.0</td>\n",
       "      <td>1520</td>\n",
       "      <td>0.051591</td>\n",
       "      <td>0.984815</td>\n",
       "      <td>0.984842</td>\n",
       "      <td>0.985151</td>\n",
       "      <td>0.984815</td>\n",
       "      <td>7.5642</td>\n",
       "      <td>356.947</td>\n",
       "      <td>5.685</td>\n",
       "      <td>NaN</td>\n",
       "      <td>NaN</td>\n",
       "      <td>NaN</td>\n",
       "      <td>NaN</td>\n",
       "      <td>NaN</td>\n",
       "    </tr>\n",
       "    <tr>\n",
       "      <th>8</th>\n",
       "      <td>0.0303</td>\n",
       "      <td>0.190948</td>\n",
       "      <td>2.779240e-05</td>\n",
       "      <td>5.0</td>\n",
       "      <td>1900</td>\n",
       "      <td>NaN</td>\n",
       "      <td>NaN</td>\n",
       "      <td>NaN</td>\n",
       "      <td>NaN</td>\n",
       "      <td>NaN</td>\n",
       "      <td>NaN</td>\n",
       "      <td>NaN</td>\n",
       "      <td>NaN</td>\n",
       "      <td>NaN</td>\n",
       "      <td>NaN</td>\n",
       "      <td>NaN</td>\n",
       "      <td>NaN</td>\n",
       "      <td>NaN</td>\n",
       "    </tr>\n",
       "    <tr>\n",
       "      <th>9</th>\n",
       "      <td>NaN</td>\n",
       "      <td>NaN</td>\n",
       "      <td>NaN</td>\n",
       "      <td>5.0</td>\n",
       "      <td>1900</td>\n",
       "      <td>0.054157</td>\n",
       "      <td>0.983333</td>\n",
       "      <td>0.983366</td>\n",
       "      <td>0.983610</td>\n",
       "      <td>0.983333</td>\n",
       "      <td>7.6722</td>\n",
       "      <td>351.918</td>\n",
       "      <td>5.605</td>\n",
       "      <td>NaN</td>\n",
       "      <td>NaN</td>\n",
       "      <td>NaN</td>\n",
       "      <td>NaN</td>\n",
       "      <td>NaN</td>\n",
       "    </tr>\n",
       "    <tr>\n",
       "      <th>10</th>\n",
       "      <td>0.0223</td>\n",
       "      <td>0.892427</td>\n",
       "      <td>2.223684e-05</td>\n",
       "      <td>6.0</td>\n",
       "      <td>2280</td>\n",
       "      <td>NaN</td>\n",
       "      <td>NaN</td>\n",
       "      <td>NaN</td>\n",
       "      <td>NaN</td>\n",
       "      <td>NaN</td>\n",
       "      <td>NaN</td>\n",
       "      <td>NaN</td>\n",
       "      <td>NaN</td>\n",
       "      <td>NaN</td>\n",
       "      <td>NaN</td>\n",
       "      <td>NaN</td>\n",
       "      <td>NaN</td>\n",
       "      <td>NaN</td>\n",
       "    </tr>\n",
       "    <tr>\n",
       "      <th>11</th>\n",
       "      <td>NaN</td>\n",
       "      <td>NaN</td>\n",
       "      <td>NaN</td>\n",
       "      <td>6.0</td>\n",
       "      <td>2280</td>\n",
       "      <td>0.044507</td>\n",
       "      <td>0.986667</td>\n",
       "      <td>0.986658</td>\n",
       "      <td>0.986733</td>\n",
       "      <td>0.986667</td>\n",
       "      <td>7.7973</td>\n",
       "      <td>346.272</td>\n",
       "      <td>5.515</td>\n",
       "      <td>NaN</td>\n",
       "      <td>NaN</td>\n",
       "      <td>NaN</td>\n",
       "      <td>NaN</td>\n",
       "      <td>NaN</td>\n",
       "    </tr>\n",
       "    <tr>\n",
       "      <th>12</th>\n",
       "      <td>0.0151</td>\n",
       "      <td>0.207837</td>\n",
       "      <td>1.668129e-05</td>\n",
       "      <td>7.0</td>\n",
       "      <td>2660</td>\n",
       "      <td>NaN</td>\n",
       "      <td>NaN</td>\n",
       "      <td>NaN</td>\n",
       "      <td>NaN</td>\n",
       "      <td>NaN</td>\n",
       "      <td>NaN</td>\n",
       "      <td>NaN</td>\n",
       "      <td>NaN</td>\n",
       "      <td>NaN</td>\n",
       "      <td>NaN</td>\n",
       "      <td>NaN</td>\n",
       "      <td>NaN</td>\n",
       "      <td>NaN</td>\n",
       "    </tr>\n",
       "    <tr>\n",
       "      <th>13</th>\n",
       "      <td>NaN</td>\n",
       "      <td>NaN</td>\n",
       "      <td>NaN</td>\n",
       "      <td>7.0</td>\n",
       "      <td>2660</td>\n",
       "      <td>0.049564</td>\n",
       "      <td>0.983333</td>\n",
       "      <td>0.983345</td>\n",
       "      <td>0.983473</td>\n",
       "      <td>0.983333</td>\n",
       "      <td>7.5906</td>\n",
       "      <td>355.701</td>\n",
       "      <td>5.665</td>\n",
       "      <td>NaN</td>\n",
       "      <td>NaN</td>\n",
       "      <td>NaN</td>\n",
       "      <td>NaN</td>\n",
       "      <td>NaN</td>\n",
       "    </tr>\n",
       "    <tr>\n",
       "      <th>14</th>\n",
       "      <td>0.0093</td>\n",
       "      <td>0.084246</td>\n",
       "      <td>1.112573e-05</td>\n",
       "      <td>8.0</td>\n",
       "      <td>3040</td>\n",
       "      <td>NaN</td>\n",
       "      <td>NaN</td>\n",
       "      <td>NaN</td>\n",
       "      <td>NaN</td>\n",
       "      <td>NaN</td>\n",
       "      <td>NaN</td>\n",
       "      <td>NaN</td>\n",
       "      <td>NaN</td>\n",
       "      <td>NaN</td>\n",
       "      <td>NaN</td>\n",
       "      <td>NaN</td>\n",
       "      <td>NaN</td>\n",
       "      <td>NaN</td>\n",
       "    </tr>\n",
       "    <tr>\n",
       "      <th>15</th>\n",
       "      <td>NaN</td>\n",
       "      <td>NaN</td>\n",
       "      <td>NaN</td>\n",
       "      <td>8.0</td>\n",
       "      <td>3040</td>\n",
       "      <td>0.045002</td>\n",
       "      <td>0.987037</td>\n",
       "      <td>0.987038</td>\n",
       "      <td>0.987105</td>\n",
       "      <td>0.987037</td>\n",
       "      <td>9.0642</td>\n",
       "      <td>297.876</td>\n",
       "      <td>4.744</td>\n",
       "      <td>NaN</td>\n",
       "      <td>NaN</td>\n",
       "      <td>NaN</td>\n",
       "      <td>NaN</td>\n",
       "      <td>NaN</td>\n",
       "    </tr>\n",
       "    <tr>\n",
       "      <th>16</th>\n",
       "      <td>0.0066</td>\n",
       "      <td>0.384082</td>\n",
       "      <td>5.570175e-06</td>\n",
       "      <td>9.0</td>\n",
       "      <td>3420</td>\n",
       "      <td>NaN</td>\n",
       "      <td>NaN</td>\n",
       "      <td>NaN</td>\n",
       "      <td>NaN</td>\n",
       "      <td>NaN</td>\n",
       "      <td>NaN</td>\n",
       "      <td>NaN</td>\n",
       "      <td>NaN</td>\n",
       "      <td>NaN</td>\n",
       "      <td>NaN</td>\n",
       "      <td>NaN</td>\n",
       "      <td>NaN</td>\n",
       "      <td>NaN</td>\n",
       "    </tr>\n",
       "    <tr>\n",
       "      <th>17</th>\n",
       "      <td>NaN</td>\n",
       "      <td>NaN</td>\n",
       "      <td>NaN</td>\n",
       "      <td>9.0</td>\n",
       "      <td>3420</td>\n",
       "      <td>0.037923</td>\n",
       "      <td>0.991111</td>\n",
       "      <td>0.991110</td>\n",
       "      <td>0.991165</td>\n",
       "      <td>0.991111</td>\n",
       "      <td>7.7427</td>\n",
       "      <td>348.715</td>\n",
       "      <td>5.554</td>\n",
       "      <td>NaN</td>\n",
       "      <td>NaN</td>\n",
       "      <td>NaN</td>\n",
       "      <td>NaN</td>\n",
       "      <td>NaN</td>\n",
       "    </tr>\n",
       "    <tr>\n",
       "      <th>18</th>\n",
       "      <td>0.0059</td>\n",
       "      <td>0.028208</td>\n",
       "      <td>1.461988e-08</td>\n",
       "      <td>10.0</td>\n",
       "      <td>3800</td>\n",
       "      <td>NaN</td>\n",
       "      <td>NaN</td>\n",
       "      <td>NaN</td>\n",
       "      <td>NaN</td>\n",
       "      <td>NaN</td>\n",
       "      <td>NaN</td>\n",
       "      <td>NaN</td>\n",
       "      <td>NaN</td>\n",
       "      <td>NaN</td>\n",
       "      <td>NaN</td>\n",
       "      <td>NaN</td>\n",
       "      <td>NaN</td>\n",
       "      <td>NaN</td>\n",
       "    </tr>\n",
       "    <tr>\n",
       "      <th>19</th>\n",
       "      <td>NaN</td>\n",
       "      <td>NaN</td>\n",
       "      <td>NaN</td>\n",
       "      <td>10.0</td>\n",
       "      <td>3800</td>\n",
       "      <td>0.040996</td>\n",
       "      <td>0.987778</td>\n",
       "      <td>0.987808</td>\n",
       "      <td>0.987887</td>\n",
       "      <td>0.987778</td>\n",
       "      <td>7.9654</td>\n",
       "      <td>338.967</td>\n",
       "      <td>5.398</td>\n",
       "      <td>NaN</td>\n",
       "      <td>NaN</td>\n",
       "      <td>NaN</td>\n",
       "      <td>NaN</td>\n",
       "      <td>NaN</td>\n",
       "    </tr>\n",
       "    <tr>\n",
       "      <th>20</th>\n",
       "      <td>NaN</td>\n",
       "      <td>NaN</td>\n",
       "      <td>NaN</td>\n",
       "      <td>10.0</td>\n",
       "      <td>3800</td>\n",
       "      <td>NaN</td>\n",
       "      <td>NaN</td>\n",
       "      <td>NaN</td>\n",
       "      <td>NaN</td>\n",
       "      <td>NaN</td>\n",
       "      <td>NaN</td>\n",
       "      <td>NaN</td>\n",
       "      <td>NaN</td>\n",
       "      <td>1881.7335</td>\n",
       "      <td>129.136</td>\n",
       "      <td>2.019</td>\n",
       "      <td>1.883190e+19</td>\n",
       "      <td>0.090857</td>\n",
       "    </tr>\n",
       "  </tbody>\n",
       "</table>\n",
       "</div>"
      ],
      "text/plain": [
       "      loss  grad_norm  learning_rate  epoch  step  eval_loss  eval_accuracy  \\\n",
       "0   0.6174   4.119771   4.986842e-05    1.0   380        NaN            NaN   \n",
       "1      NaN        NaN            NaN    1.0   380   0.094061       0.969630   \n",
       "2   0.0970   2.167001   4.445906e-05    2.0   760        NaN            NaN   \n",
       "3      NaN        NaN            NaN    2.0   760   0.053188       0.982963   \n",
       "4   0.0604   4.369373   3.890351e-05    3.0  1140        NaN            NaN   \n",
       "5      NaN        NaN            NaN    3.0  1140   0.074190       0.975185   \n",
       "6   0.0443   4.043529   3.334795e-05    4.0  1520        NaN            NaN   \n",
       "7      NaN        NaN            NaN    4.0  1520   0.051591       0.984815   \n",
       "8   0.0303   0.190948   2.779240e-05    5.0  1900        NaN            NaN   \n",
       "9      NaN        NaN            NaN    5.0  1900   0.054157       0.983333   \n",
       "10  0.0223   0.892427   2.223684e-05    6.0  2280        NaN            NaN   \n",
       "11     NaN        NaN            NaN    6.0  2280   0.044507       0.986667   \n",
       "12  0.0151   0.207837   1.668129e-05    7.0  2660        NaN            NaN   \n",
       "13     NaN        NaN            NaN    7.0  2660   0.049564       0.983333   \n",
       "14  0.0093   0.084246   1.112573e-05    8.0  3040        NaN            NaN   \n",
       "15     NaN        NaN            NaN    8.0  3040   0.045002       0.987037   \n",
       "16  0.0066   0.384082   5.570175e-06    9.0  3420        NaN            NaN   \n",
       "17     NaN        NaN            NaN    9.0  3420   0.037923       0.991111   \n",
       "18  0.0059   0.028208   1.461988e-08   10.0  3800        NaN            NaN   \n",
       "19     NaN        NaN            NaN   10.0  3800   0.040996       0.987778   \n",
       "20     NaN        NaN            NaN   10.0  3800        NaN            NaN   \n",
       "\n",
       "     eval_f1  eval_precision  eval_recall  eval_runtime  \\\n",
       "0        NaN             NaN          NaN           NaN   \n",
       "1   0.969578        0.970340     0.969630       27.8954   \n",
       "2        NaN             NaN          NaN           NaN   \n",
       "3   0.982919        0.983077     0.982963        7.5697   \n",
       "4        NaN             NaN          NaN           NaN   \n",
       "5   0.975254        0.976301     0.975185        7.6981   \n",
       "6        NaN             NaN          NaN           NaN   \n",
       "7   0.984842        0.985151     0.984815        7.5642   \n",
       "8        NaN             NaN          NaN           NaN   \n",
       "9   0.983366        0.983610     0.983333        7.6722   \n",
       "10       NaN             NaN          NaN           NaN   \n",
       "11  0.986658        0.986733     0.986667        7.7973   \n",
       "12       NaN             NaN          NaN           NaN   \n",
       "13  0.983345        0.983473     0.983333        7.5906   \n",
       "14       NaN             NaN          NaN           NaN   \n",
       "15  0.987038        0.987105     0.987037        9.0642   \n",
       "16       NaN             NaN          NaN           NaN   \n",
       "17  0.991110        0.991165     0.991111        7.7427   \n",
       "18       NaN             NaN          NaN           NaN   \n",
       "19  0.987808        0.987887     0.987778        7.9654   \n",
       "20       NaN             NaN          NaN           NaN   \n",
       "\n",
       "    eval_samples_per_second  eval_steps_per_second  train_runtime  \\\n",
       "0                       NaN                    NaN            NaN   \n",
       "1                    96.790                  1.541            NaN   \n",
       "2                       NaN                    NaN            NaN   \n",
       "3                   356.685                  5.681            NaN   \n",
       "4                       NaN                    NaN            NaN   \n",
       "5                   350.737                  5.586            NaN   \n",
       "6                       NaN                    NaN            NaN   \n",
       "7                   356.947                  5.685            NaN   \n",
       "8                       NaN                    NaN            NaN   \n",
       "9                   351.918                  5.605            NaN   \n",
       "10                      NaN                    NaN            NaN   \n",
       "11                  346.272                  5.515            NaN   \n",
       "12                      NaN                    NaN            NaN   \n",
       "13                  355.701                  5.665            NaN   \n",
       "14                      NaN                    NaN            NaN   \n",
       "15                  297.876                  4.744            NaN   \n",
       "16                      NaN                    NaN            NaN   \n",
       "17                  348.715                  5.554            NaN   \n",
       "18                      NaN                    NaN            NaN   \n",
       "19                  338.967                  5.398            NaN   \n",
       "20                      NaN                    NaN      1881.7335   \n",
       "\n",
       "    train_samples_per_second  train_steps_per_second    total_flos  train_loss  \n",
       "0                        NaN                     NaN           NaN         NaN  \n",
       "1                        NaN                     NaN           NaN         NaN  \n",
       "2                        NaN                     NaN           NaN         NaN  \n",
       "3                        NaN                     NaN           NaN         NaN  \n",
       "4                        NaN                     NaN           NaN         NaN  \n",
       "5                        NaN                     NaN           NaN         NaN  \n",
       "6                        NaN                     NaN           NaN         NaN  \n",
       "7                        NaN                     NaN           NaN         NaN  \n",
       "8                        NaN                     NaN           NaN         NaN  \n",
       "9                        NaN                     NaN           NaN         NaN  \n",
       "10                       NaN                     NaN           NaN         NaN  \n",
       "11                       NaN                     NaN           NaN         NaN  \n",
       "12                       NaN                     NaN           NaN         NaN  \n",
       "13                       NaN                     NaN           NaN         NaN  \n",
       "14                       NaN                     NaN           NaN         NaN  \n",
       "15                       NaN                     NaN           NaN         NaN  \n",
       "16                       NaN                     NaN           NaN         NaN  \n",
       "17                       NaN                     NaN           NaN         NaN  \n",
       "18                       NaN                     NaN           NaN         NaN  \n",
       "19                       NaN                     NaN           NaN         NaN  \n",
       "20                   129.136                   2.019  1.883190e+19    0.090857  "
      ]
     },
     "execution_count": 12,
     "metadata": {},
     "output_type": "execute_result"
    }
   ],
   "source": [
    "with mlflow.start_run():\n",
    "    mlflow.log_param(\"transforms\", transforms.transforms_to_string())\n",
    "    mlflow.log_param(\"dataset_name\", DATASET_NAME)\n",
    "    mlflow.log_param(\"dataset_version\", DATASET_VERSION)\n",
    "\n",
    "    logger.info(\"Iniciando entrenamiento del modelo...\")\n",
    "    trainer.train()\n",
    "    logger.info(\"Entrenamiento finalizado. Guardando el modelo...\")\n",
    "\n",
    "history = pd.DataFrame(trainer.state.log_history)\n",
    "history.to_csv(MODELS_DIR / MODEL_FOLDER / HISTORY_FILENAME, index=False)\n",
    "history"
   ]
  },
  {
   "cell_type": "code",
   "execution_count": 19,
   "metadata": {},
   "outputs": [
    {
     "name": "stdout",
     "output_type": "stream",
     "text": [
      "\u001b[32m2025-06-19 12:19:29.686\u001b[0m | \u001b[1mINFO    \u001b[0m | \u001b[36m__main__\u001b[0m:\u001b[36m<module>\u001b[0m:\u001b[36m1\u001b[0m - \u001b[1mEvaluando el modelo...\u001b[0m\n"
     ]
    },
    {
     "data": {
      "text/html": [
       "\n",
       "    <div>\n",
       "      \n",
       "      <progress value='43' max='43' style='width:300px; height:20px; vertical-align: middle;'></progress>\n",
       "      [43/43 00:07]\n",
       "    </div>\n",
       "    "
      ],
      "text/plain": [
       "<IPython.core.display.HTML object>"
      ]
     },
     "metadata": {},
     "output_type": "display_data"
    },
    {
     "name": "stdout",
     "output_type": "stream",
     "text": [
      "\u001b[32m2025-06-19 12:19:40.156\u001b[0m | \u001b[1mINFO    \u001b[0m | \u001b[36m__main__\u001b[0m:\u001b[36m<module>\u001b[0m:\u001b[36m3\u001b[0m - \u001b[1mEvaluación finalizada. Métricas:\u001b[0m\n"
     ]
    },
    {
     "data": {
      "text/html": [
       "<div>\n",
       "<style scoped>\n",
       "    .dataframe tbody tr th:only-of-type {\n",
       "        vertical-align: middle;\n",
       "    }\n",
       "\n",
       "    .dataframe tbody tr th {\n",
       "        vertical-align: top;\n",
       "    }\n",
       "\n",
       "    .dataframe thead th {\n",
       "        text-align: right;\n",
       "    }\n",
       "</style>\n",
       "<table border=\"1\" class=\"dataframe\">\n",
       "  <thead>\n",
       "    <tr style=\"text-align: right;\">\n",
       "      <th></th>\n",
       "      <th>eval_loss</th>\n",
       "      <th>eval_accuracy</th>\n",
       "      <th>eval_f1</th>\n",
       "      <th>eval_precision</th>\n",
       "      <th>eval_recall</th>\n",
       "      <th>eval_runtime</th>\n",
       "      <th>eval_samples_per_second</th>\n",
       "      <th>eval_steps_per_second</th>\n",
       "      <th>epoch</th>\n",
       "    </tr>\n",
       "  </thead>\n",
       "  <tbody>\n",
       "    <tr>\n",
       "      <th>0</th>\n",
       "      <td>0.040996</td>\n",
       "      <td>0.987778</td>\n",
       "      <td>0.987808</td>\n",
       "      <td>0.987887</td>\n",
       "      <td>0.987778</td>\n",
       "      <td>7.9522</td>\n",
       "      <td>339.528</td>\n",
       "      <td>5.407</td>\n",
       "      <td>10.0</td>\n",
       "    </tr>\n",
       "  </tbody>\n",
       "</table>\n",
       "</div>"
      ],
      "text/plain": [
       "   eval_loss  eval_accuracy   eval_f1  eval_precision  eval_recall  \\\n",
       "0   0.040996       0.987778  0.987808        0.987887     0.987778   \n",
       "\n",
       "   eval_runtime  eval_samples_per_second  eval_steps_per_second  epoch  \n",
       "0        7.9522                  339.528                  5.407   10.0  "
      ]
     },
     "execution_count": 19,
     "metadata": {},
     "output_type": "execute_result"
    }
   ],
   "source": [
    "logger.info(\"Evaluando el modelo...\")\n",
    "metrics = trainer.evaluate()\n",
    "logger.info(\"Evaluación finalizada. Métricas:\")\n",
    "\n",
    "metrics_df = pd.DataFrame(metrics, index=[0])\n",
    "metrics_df.to_csv(MODELS_DIR / MODEL_FOLDER / METRICS_FILENAME, index=False)\n",
    "metrics_df"
   ]
  },
  {
   "cell_type": "code",
   "execution_count": 14,
   "metadata": {},
   "outputs": [
    {
     "data": {
      "text/html": [],
      "text/plain": [
       "<IPython.core.display.HTML object>"
      ]
     },
     "metadata": {},
     "output_type": "display_data"
    }
   ],
   "source": [
    "# Guardamos las predicciones del modelo en el conjunto de test\n",
    "predictions_output = trainer.predict(encoded_ds[\"test\"])\n",
    "\n",
    "# Probabilidades\n",
    "y_probs = predictions_output.predictions\n",
    "\n",
    "# Predicciones finales (argmax)\n",
    "y_pred = np.argmax(y_probs, axis=1)\n",
    "\n",
    "# Etiquetas reales\n",
    "y_true = predictions_output.label_ids\n",
    "\n",
    "results_df = pd.DataFrame(\n",
    "    {\n",
    "        \"y_true\": [id2label[i] for i in y_true],\n",
    "        \"y_pred\": [id2label[i] for i in y_pred],\n",
    "    }\n",
    ")\n",
    "results_df.to_csv(MODEL_FOLDER / PREDICTIONS_FILENAME, index=False)"
   ]
  },
  {
   "cell_type": "markdown",
   "metadata": {},
   "source": [
    "## 3. Resultados <a id=\"resultados\"></a>"
   ]
  },
  {
   "cell_type": "code",
   "execution_count": 15,
   "metadata": {},
   "outputs": [],
   "source": [
    "history = pd.read_csv(MODEL_FOLDER / HISTORY_FILENAME)\n",
    "results_df = pd.read_csv(MODEL_FOLDER / PREDICTIONS_FILENAME)\n",
    "y_true = results_df[\"y_true\"].values\n",
    "y_pred = results_df[\"y_pred\"].values"
   ]
  },
  {
   "cell_type": "code",
   "execution_count": 16,
   "metadata": {},
   "outputs": [
    {
     "data": {
      "application/vnd.plotly.v1+json": {
       "config": {
        "plotlyServerURL": "https://plot.ly"
       },
       "data": [
        {
         "colorscale": [
          [
           0,
           "rgb(247,251,255)"
          ],
          [
           0.125,
           "rgb(222,235,247)"
          ],
          [
           0.25,
           "rgb(198,219,239)"
          ],
          [
           0.375,
           "rgb(158,202,225)"
          ],
          [
           0.5,
           "rgb(107,174,214)"
          ],
          [
           0.625,
           "rgb(66,146,198)"
          ],
          [
           0.75,
           "rgb(33,113,181)"
          ],
          [
           0.875,
           "rgb(8,81,156)"
          ],
          [
           1,
           "rgb(8,48,107)"
          ]
         ],
         "reversescale": false,
         "showscale": true,
         "type": "heatmap",
         "x": [
          "AnnualCrop",
          "Forest",
          "HerbaceousVegetation",
          "Highway",
          "Industrial",
          "Pasture",
          "PermanentCrop",
          "Residential",
          "River",
          "SeaLake"
         ],
         "y": [
          "AnnualCrop",
          "Forest",
          "HerbaceousVegetation",
          "Highway",
          "Industrial",
          "Pasture",
          "PermanentCrop",
          "Residential",
          "River",
          "SeaLake"
         ],
         "z": {
          "bdata": "JQEAAAAAAAAAAAAAAAAAAAAAAAAAAAAABwAAAAAAAAAAAAAAAAAAAAAAAAAsAQAAAAAAAAAAAAAAAAAAAAAAAAAAAAAAAAAAAAAAAAAAAAAAAAAAAAAAACgBAAAAAAAAAAAAAAAAAAAEAAAAAAAAAAAAAAAAAAAAAQAAAAAAAAAAAAAA+AAAAAEAAAAAAAAAAAAAAAAAAAAAAAAAAAAAAAAAAAAAAAAAAAAAAAAAAAD3AAAAAAAAAAAAAAADAAAAAAAAAAAAAAACAAAAAAAAAAEAAAAAAAAAAAAAAMQAAAABAAAAAAAAAAAAAAAAAAAAAgAAAAAAAAAEAAAAAAAAAAEAAAAAAAAA8gAAAAEAAAAAAAAAAAAAAAAAAAAAAAAAAAAAAAAAAAAAAAAAAAAAAAAAAAAsAQAAAAAAAAAAAAABAAAAAAAAAAAAAAABAAAAAAAAAAAAAAAAAAAAAAAAAPgAAAAAAAAAAgAAAAAAAAABAAAAAAAAAAAAAAAAAAAAAAAAAAAAAAAAAAAAKQEAAA==",
          "dtype": "i4",
          "shape": "10, 10"
         }
        }
       ],
       "layout": {
        "annotations": [
         {
          "font": {
           "color": "#FFFFFF"
          },
          "showarrow": false,
          "text": "97.7%",
          "x": "AnnualCrop",
          "xref": "x",
          "y": "AnnualCrop",
          "yref": "y"
         },
         {
          "font": {
           "color": "#000000"
          },
          "showarrow": false,
          "text": "0.0%",
          "x": "Forest",
          "xref": "x",
          "y": "AnnualCrop",
          "yref": "y"
         },
         {
          "font": {
           "color": "#000000"
          },
          "showarrow": false,
          "text": "0.0%",
          "x": "HerbaceousVegetation",
          "xref": "x",
          "y": "AnnualCrop",
          "yref": "y"
         },
         {
          "font": {
           "color": "#000000"
          },
          "showarrow": false,
          "text": "0.0%",
          "x": "Highway",
          "xref": "x",
          "y": "AnnualCrop",
          "yref": "y"
         },
         {
          "font": {
           "color": "#000000"
          },
          "showarrow": false,
          "text": "0.0%",
          "x": "Industrial",
          "xref": "x",
          "y": "AnnualCrop",
          "yref": "y"
         },
         {
          "font": {
           "color": "#000000"
          },
          "showarrow": false,
          "text": "0.0%",
          "x": "Pasture",
          "xref": "x",
          "y": "AnnualCrop",
          "yref": "y"
         },
         {
          "font": {
           "color": "#000000"
          },
          "showarrow": false,
          "text": "2.3%",
          "x": "PermanentCrop",
          "xref": "x",
          "y": "AnnualCrop",
          "yref": "y"
         },
         {
          "font": {
           "color": "#000000"
          },
          "showarrow": false,
          "text": "0.0%",
          "x": "Residential",
          "xref": "x",
          "y": "AnnualCrop",
          "yref": "y"
         },
         {
          "font": {
           "color": "#000000"
          },
          "showarrow": false,
          "text": "0.0%",
          "x": "River",
          "xref": "x",
          "y": "AnnualCrop",
          "yref": "y"
         },
         {
          "font": {
           "color": "#000000"
          },
          "showarrow": false,
          "text": "0.0%",
          "x": "SeaLake",
          "xref": "x",
          "y": "AnnualCrop",
          "yref": "y"
         },
         {
          "font": {
           "color": "#000000"
          },
          "showarrow": false,
          "text": "0.0%",
          "x": "AnnualCrop",
          "xref": "x",
          "y": "Forest",
          "yref": "y"
         },
         {
          "font": {
           "color": "#FFFFFF"
          },
          "showarrow": false,
          "text": "100.0%",
          "x": "Forest",
          "xref": "x",
          "y": "Forest",
          "yref": "y"
         },
         {
          "font": {
           "color": "#000000"
          },
          "showarrow": false,
          "text": "0.0%",
          "x": "HerbaceousVegetation",
          "xref": "x",
          "y": "Forest",
          "yref": "y"
         },
         {
          "font": {
           "color": "#000000"
          },
          "showarrow": false,
          "text": "0.0%",
          "x": "Highway",
          "xref": "x",
          "y": "Forest",
          "yref": "y"
         },
         {
          "font": {
           "color": "#000000"
          },
          "showarrow": false,
          "text": "0.0%",
          "x": "Industrial",
          "xref": "x",
          "y": "Forest",
          "yref": "y"
         },
         {
          "font": {
           "color": "#000000"
          },
          "showarrow": false,
          "text": "0.0%",
          "x": "Pasture",
          "xref": "x",
          "y": "Forest",
          "yref": "y"
         },
         {
          "font": {
           "color": "#000000"
          },
          "showarrow": false,
          "text": "0.0%",
          "x": "PermanentCrop",
          "xref": "x",
          "y": "Forest",
          "yref": "y"
         },
         {
          "font": {
           "color": "#000000"
          },
          "showarrow": false,
          "text": "0.0%",
          "x": "Residential",
          "xref": "x",
          "y": "Forest",
          "yref": "y"
         },
         {
          "font": {
           "color": "#000000"
          },
          "showarrow": false,
          "text": "0.0%",
          "x": "River",
          "xref": "x",
          "y": "Forest",
          "yref": "y"
         },
         {
          "font": {
           "color": "#000000"
          },
          "showarrow": false,
          "text": "0.0%",
          "x": "SeaLake",
          "xref": "x",
          "y": "Forest",
          "yref": "y"
         },
         {
          "font": {
           "color": "#000000"
          },
          "showarrow": false,
          "text": "0.0%",
          "x": "AnnualCrop",
          "xref": "x",
          "y": "HerbaceousVegetation",
          "yref": "y"
         },
         {
          "font": {
           "color": "#000000"
          },
          "showarrow": false,
          "text": "0.0%",
          "x": "Forest",
          "xref": "x",
          "y": "HerbaceousVegetation",
          "yref": "y"
         },
         {
          "font": {
           "color": "#FFFFFF"
          },
          "showarrow": false,
          "text": "98.7%",
          "x": "HerbaceousVegetation",
          "xref": "x",
          "y": "HerbaceousVegetation",
          "yref": "y"
         },
         {
          "font": {
           "color": "#000000"
          },
          "showarrow": false,
          "text": "0.0%",
          "x": "Highway",
          "xref": "x",
          "y": "HerbaceousVegetation",
          "yref": "y"
         },
         {
          "font": {
           "color": "#000000"
          },
          "showarrow": false,
          "text": "0.0%",
          "x": "Industrial",
          "xref": "x",
          "y": "HerbaceousVegetation",
          "yref": "y"
         },
         {
          "font": {
           "color": "#000000"
          },
          "showarrow": false,
          "text": "0.0%",
          "x": "Pasture",
          "xref": "x",
          "y": "HerbaceousVegetation",
          "yref": "y"
         },
         {
          "font": {
           "color": "#000000"
          },
          "showarrow": false,
          "text": "1.3%",
          "x": "PermanentCrop",
          "xref": "x",
          "y": "HerbaceousVegetation",
          "yref": "y"
         },
         {
          "font": {
           "color": "#000000"
          },
          "showarrow": false,
          "text": "0.0%",
          "x": "Residential",
          "xref": "x",
          "y": "HerbaceousVegetation",
          "yref": "y"
         },
         {
          "font": {
           "color": "#000000"
          },
          "showarrow": false,
          "text": "0.0%",
          "x": "River",
          "xref": "x",
          "y": "HerbaceousVegetation",
          "yref": "y"
         },
         {
          "font": {
           "color": "#000000"
          },
          "showarrow": false,
          "text": "0.0%",
          "x": "SeaLake",
          "xref": "x",
          "y": "HerbaceousVegetation",
          "yref": "y"
         },
         {
          "font": {
           "color": "#000000"
          },
          "showarrow": false,
          "text": "0.4%",
          "x": "AnnualCrop",
          "xref": "x",
          "y": "Highway",
          "yref": "y"
         },
         {
          "font": {
           "color": "#000000"
          },
          "showarrow": false,
          "text": "0.0%",
          "x": "Forest",
          "xref": "x",
          "y": "Highway",
          "yref": "y"
         },
         {
          "font": {
           "color": "#000000"
          },
          "showarrow": false,
          "text": "0.0%",
          "x": "HerbaceousVegetation",
          "xref": "x",
          "y": "Highway",
          "yref": "y"
         },
         {
          "font": {
           "color": "#FFFFFF"
          },
          "showarrow": false,
          "text": "99.2%",
          "x": "Highway",
          "xref": "x",
          "y": "Highway",
          "yref": "y"
         },
         {
          "font": {
           "color": "#000000"
          },
          "showarrow": false,
          "text": "0.4%",
          "x": "Industrial",
          "xref": "x",
          "y": "Highway",
          "yref": "y"
         },
         {
          "font": {
           "color": "#000000"
          },
          "showarrow": false,
          "text": "0.0%",
          "x": "Pasture",
          "xref": "x",
          "y": "Highway",
          "yref": "y"
         },
         {
          "font": {
           "color": "#000000"
          },
          "showarrow": false,
          "text": "0.0%",
          "x": "PermanentCrop",
          "xref": "x",
          "y": "Highway",
          "yref": "y"
         },
         {
          "font": {
           "color": "#000000"
          },
          "showarrow": false,
          "text": "0.0%",
          "x": "Residential",
          "xref": "x",
          "y": "Highway",
          "yref": "y"
         },
         {
          "font": {
           "color": "#000000"
          },
          "showarrow": false,
          "text": "0.0%",
          "x": "River",
          "xref": "x",
          "y": "Highway",
          "yref": "y"
         },
         {
          "font": {
           "color": "#000000"
          },
          "showarrow": false,
          "text": "0.0%",
          "x": "SeaLake",
          "xref": "x",
          "y": "Highway",
          "yref": "y"
         },
         {
          "font": {
           "color": "#000000"
          },
          "showarrow": false,
          "text": "0.0%",
          "x": "AnnualCrop",
          "xref": "x",
          "y": "Industrial",
          "yref": "y"
         },
         {
          "font": {
           "color": "#000000"
          },
          "showarrow": false,
          "text": "0.0%",
          "x": "Forest",
          "xref": "x",
          "y": "Industrial",
          "yref": "y"
         },
         {
          "font": {
           "color": "#000000"
          },
          "showarrow": false,
          "text": "0.0%",
          "x": "HerbaceousVegetation",
          "xref": "x",
          "y": "Industrial",
          "yref": "y"
         },
         {
          "font": {
           "color": "#000000"
          },
          "showarrow": false,
          "text": "0.0%",
          "x": "Highway",
          "xref": "x",
          "y": "Industrial",
          "yref": "y"
         },
         {
          "font": {
           "color": "#FFFFFF"
          },
          "showarrow": false,
          "text": "98.8%",
          "x": "Industrial",
          "xref": "x",
          "y": "Industrial",
          "yref": "y"
         },
         {
          "font": {
           "color": "#000000"
          },
          "showarrow": false,
          "text": "0.0%",
          "x": "Pasture",
          "xref": "x",
          "y": "Industrial",
          "yref": "y"
         },
         {
          "font": {
           "color": "#000000"
          },
          "showarrow": false,
          "text": "0.0%",
          "x": "PermanentCrop",
          "xref": "x",
          "y": "Industrial",
          "yref": "y"
         },
         {
          "font": {
           "color": "#000000"
          },
          "showarrow": false,
          "text": "1.2%",
          "x": "Residential",
          "xref": "x",
          "y": "Industrial",
          "yref": "y"
         },
         {
          "font": {
           "color": "#000000"
          },
          "showarrow": false,
          "text": "0.0%",
          "x": "River",
          "xref": "x",
          "y": "Industrial",
          "yref": "y"
         },
         {
          "font": {
           "color": "#000000"
          },
          "showarrow": false,
          "text": "0.0%",
          "x": "SeaLake",
          "xref": "x",
          "y": "Industrial",
          "yref": "y"
         },
         {
          "font": {
           "color": "#000000"
          },
          "showarrow": false,
          "text": "1.0%",
          "x": "AnnualCrop",
          "xref": "x",
          "y": "Pasture",
          "yref": "y"
         },
         {
          "font": {
           "color": "#000000"
          },
          "showarrow": false,
          "text": "0.0%",
          "x": "Forest",
          "xref": "x",
          "y": "Pasture",
          "yref": "y"
         },
         {
          "font": {
           "color": "#000000"
          },
          "showarrow": false,
          "text": "0.5%",
          "x": "HerbaceousVegetation",
          "xref": "x",
          "y": "Pasture",
          "yref": "y"
         },
         {
          "font": {
           "color": "#000000"
          },
          "showarrow": false,
          "text": "0.0%",
          "x": "Highway",
          "xref": "x",
          "y": "Pasture",
          "yref": "y"
         },
         {
          "font": {
           "color": "#000000"
          },
          "showarrow": false,
          "text": "0.0%",
          "x": "Industrial",
          "xref": "x",
          "y": "Pasture",
          "yref": "y"
         },
         {
          "font": {
           "color": "#FFFFFF"
          },
          "showarrow": false,
          "text": "98.0%",
          "x": "Pasture",
          "xref": "x",
          "y": "Pasture",
          "yref": "y"
         },
         {
          "font": {
           "color": "#000000"
          },
          "showarrow": false,
          "text": "0.5%",
          "x": "PermanentCrop",
          "xref": "x",
          "y": "Pasture",
          "yref": "y"
         },
         {
          "font": {
           "color": "#000000"
          },
          "showarrow": false,
          "text": "0.0%",
          "x": "Residential",
          "xref": "x",
          "y": "Pasture",
          "yref": "y"
         },
         {
          "font": {
           "color": "#000000"
          },
          "showarrow": false,
          "text": "0.0%",
          "x": "River",
          "xref": "x",
          "y": "Pasture",
          "yref": "y"
         },
         {
          "font": {
           "color": "#000000"
          },
          "showarrow": false,
          "text": "0.0%",
          "x": "SeaLake",
          "xref": "x",
          "y": "Pasture",
          "yref": "y"
         },
         {
          "font": {
           "color": "#000000"
          },
          "showarrow": false,
          "text": "0.8%",
          "x": "AnnualCrop",
          "xref": "x",
          "y": "PermanentCrop",
          "yref": "y"
         },
         {
          "font": {
           "color": "#000000"
          },
          "showarrow": false,
          "text": "0.0%",
          "x": "Forest",
          "xref": "x",
          "y": "PermanentCrop",
          "yref": "y"
         },
         {
          "font": {
           "color": "#000000"
          },
          "showarrow": false,
          "text": "1.6%",
          "x": "HerbaceousVegetation",
          "xref": "x",
          "y": "PermanentCrop",
          "yref": "y"
         },
         {
          "font": {
           "color": "#000000"
          },
          "showarrow": false,
          "text": "0.0%",
          "x": "Highway",
          "xref": "x",
          "y": "PermanentCrop",
          "yref": "y"
         },
         {
          "font": {
           "color": "#000000"
          },
          "showarrow": false,
          "text": "0.4%",
          "x": "Industrial",
          "xref": "x",
          "y": "PermanentCrop",
          "yref": "y"
         },
         {
          "font": {
           "color": "#000000"
          },
          "showarrow": false,
          "text": "0.0%",
          "x": "Pasture",
          "xref": "x",
          "y": "PermanentCrop",
          "yref": "y"
         },
         {
          "font": {
           "color": "#FFFFFF"
          },
          "showarrow": false,
          "text": "96.8%",
          "x": "PermanentCrop",
          "xref": "x",
          "y": "PermanentCrop",
          "yref": "y"
         },
         {
          "font": {
           "color": "#000000"
          },
          "showarrow": false,
          "text": "0.4%",
          "x": "Residential",
          "xref": "x",
          "y": "PermanentCrop",
          "yref": "y"
         },
         {
          "font": {
           "color": "#000000"
          },
          "showarrow": false,
          "text": "0.0%",
          "x": "River",
          "xref": "x",
          "y": "PermanentCrop",
          "yref": "y"
         },
         {
          "font": {
           "color": "#000000"
          },
          "showarrow": false,
          "text": "0.0%",
          "x": "SeaLake",
          "xref": "x",
          "y": "PermanentCrop",
          "yref": "y"
         },
         {
          "font": {
           "color": "#000000"
          },
          "showarrow": false,
          "text": "0.0%",
          "x": "AnnualCrop",
          "xref": "x",
          "y": "Residential",
          "yref": "y"
         },
         {
          "font": {
           "color": "#000000"
          },
          "showarrow": false,
          "text": "0.0%",
          "x": "Forest",
          "xref": "x",
          "y": "Residential",
          "yref": "y"
         },
         {
          "font": {
           "color": "#000000"
          },
          "showarrow": false,
          "text": "0.0%",
          "x": "HerbaceousVegetation",
          "xref": "x",
          "y": "Residential",
          "yref": "y"
         },
         {
          "font": {
           "color": "#000000"
          },
          "showarrow": false,
          "text": "0.0%",
          "x": "Highway",
          "xref": "x",
          "y": "Residential",
          "yref": "y"
         },
         {
          "font": {
           "color": "#000000"
          },
          "showarrow": false,
          "text": "0.0%",
          "x": "Industrial",
          "xref": "x",
          "y": "Residential",
          "yref": "y"
         },
         {
          "font": {
           "color": "#000000"
          },
          "showarrow": false,
          "text": "0.0%",
          "x": "Pasture",
          "xref": "x",
          "y": "Residential",
          "yref": "y"
         },
         {
          "font": {
           "color": "#000000"
          },
          "showarrow": false,
          "text": "0.0%",
          "x": "PermanentCrop",
          "xref": "x",
          "y": "Residential",
          "yref": "y"
         },
         {
          "font": {
           "color": "#FFFFFF"
          },
          "showarrow": false,
          "text": "100.0%",
          "x": "Residential",
          "xref": "x",
          "y": "Residential",
          "yref": "y"
         },
         {
          "font": {
           "color": "#000000"
          },
          "showarrow": false,
          "text": "0.0%",
          "x": "River",
          "xref": "x",
          "y": "Residential",
          "yref": "y"
         },
         {
          "font": {
           "color": "#000000"
          },
          "showarrow": false,
          "text": "0.0%",
          "x": "SeaLake",
          "xref": "x",
          "y": "Residential",
          "yref": "y"
         },
         {
          "font": {
           "color": "#000000"
          },
          "showarrow": false,
          "text": "0.4%",
          "x": "AnnualCrop",
          "xref": "x",
          "y": "River",
          "yref": "y"
         },
         {
          "font": {
           "color": "#000000"
          },
          "showarrow": false,
          "text": "0.0%",
          "x": "Forest",
          "xref": "x",
          "y": "River",
          "yref": "y"
         },
         {
          "font": {
           "color": "#000000"
          },
          "showarrow": false,
          "text": "0.0%",
          "x": "HerbaceousVegetation",
          "xref": "x",
          "y": "River",
          "yref": "y"
         },
         {
          "font": {
           "color": "#000000"
          },
          "showarrow": false,
          "text": "0.4%",
          "x": "Highway",
          "xref": "x",
          "y": "River",
          "yref": "y"
         },
         {
          "font": {
           "color": "#000000"
          },
          "showarrow": false,
          "text": "0.0%",
          "x": "Industrial",
          "xref": "x",
          "y": "River",
          "yref": "y"
         },
         {
          "font": {
           "color": "#000000"
          },
          "showarrow": false,
          "text": "0.0%",
          "x": "Pasture",
          "xref": "x",
          "y": "River",
          "yref": "y"
         },
         {
          "font": {
           "color": "#000000"
          },
          "showarrow": false,
          "text": "0.0%",
          "x": "PermanentCrop",
          "xref": "x",
          "y": "River",
          "yref": "y"
         },
         {
          "font": {
           "color": "#000000"
          },
          "showarrow": false,
          "text": "0.0%",
          "x": "Residential",
          "xref": "x",
          "y": "River",
          "yref": "y"
         },
         {
          "font": {
           "color": "#FFFFFF"
          },
          "showarrow": false,
          "text": "99.2%",
          "x": "River",
          "xref": "x",
          "y": "River",
          "yref": "y"
         },
         {
          "font": {
           "color": "#000000"
          },
          "showarrow": false,
          "text": "0.0%",
          "x": "SeaLake",
          "xref": "x",
          "y": "River",
          "yref": "y"
         },
         {
          "font": {
           "color": "#000000"
          },
          "showarrow": false,
          "text": "0.7%",
          "x": "AnnualCrop",
          "xref": "x",
          "y": "SeaLake",
          "yref": "y"
         },
         {
          "font": {
           "color": "#000000"
          },
          "showarrow": false,
          "text": "0.0%",
          "x": "Forest",
          "xref": "x",
          "y": "SeaLake",
          "yref": "y"
         },
         {
          "font": {
           "color": "#000000"
          },
          "showarrow": false,
          "text": "0.3%",
          "x": "HerbaceousVegetation",
          "xref": "x",
          "y": "SeaLake",
          "yref": "y"
         },
         {
          "font": {
           "color": "#000000"
          },
          "showarrow": false,
          "text": "0.0%",
          "x": "Highway",
          "xref": "x",
          "y": "SeaLake",
          "yref": "y"
         },
         {
          "font": {
           "color": "#000000"
          },
          "showarrow": false,
          "text": "0.0%",
          "x": "Industrial",
          "xref": "x",
          "y": "SeaLake",
          "yref": "y"
         },
         {
          "font": {
           "color": "#000000"
          },
          "showarrow": false,
          "text": "0.0%",
          "x": "Pasture",
          "xref": "x",
          "y": "SeaLake",
          "yref": "y"
         },
         {
          "font": {
           "color": "#000000"
          },
          "showarrow": false,
          "text": "0.0%",
          "x": "PermanentCrop",
          "xref": "x",
          "y": "SeaLake",
          "yref": "y"
         },
         {
          "font": {
           "color": "#000000"
          },
          "showarrow": false,
          "text": "0.0%",
          "x": "Residential",
          "xref": "x",
          "y": "SeaLake",
          "yref": "y"
         },
         {
          "font": {
           "color": "#000000"
          },
          "showarrow": false,
          "text": "0.0%",
          "x": "River",
          "xref": "x",
          "y": "SeaLake",
          "yref": "y"
         },
         {
          "font": {
           "color": "#FFFFFF"
          },
          "showarrow": false,
          "text": "99.0%",
          "x": "SeaLake",
          "xref": "x",
          "y": "SeaLake",
          "yref": "y"
         }
        ],
        "template": {
         "data": {
          "bar": [
           {
            "error_x": {
             "color": "#2a3f5f"
            },
            "error_y": {
             "color": "#2a3f5f"
            },
            "marker": {
             "line": {
              "color": "white",
              "width": 0.5
             },
             "pattern": {
              "fillmode": "overlay",
              "size": 10,
              "solidity": 0.2
             }
            },
            "type": "bar"
           }
          ],
          "barpolar": [
           {
            "marker": {
             "line": {
              "color": "white",
              "width": 0.5
             },
             "pattern": {
              "fillmode": "overlay",
              "size": 10,
              "solidity": 0.2
             }
            },
            "type": "barpolar"
           }
          ],
          "carpet": [
           {
            "aaxis": {
             "endlinecolor": "#2a3f5f",
             "gridcolor": "#C8D4E3",
             "linecolor": "#C8D4E3",
             "minorgridcolor": "#C8D4E3",
             "startlinecolor": "#2a3f5f"
            },
            "baxis": {
             "endlinecolor": "#2a3f5f",
             "gridcolor": "#C8D4E3",
             "linecolor": "#C8D4E3",
             "minorgridcolor": "#C8D4E3",
             "startlinecolor": "#2a3f5f"
            },
            "type": "carpet"
           }
          ],
          "choropleth": [
           {
            "colorbar": {
             "outlinewidth": 0,
             "ticks": ""
            },
            "type": "choropleth"
           }
          ],
          "contour": [
           {
            "colorbar": {
             "outlinewidth": 0,
             "ticks": ""
            },
            "colorscale": [
             [
              0,
              "#0d0887"
             ],
             [
              0.1111111111111111,
              "#46039f"
             ],
             [
              0.2222222222222222,
              "#7201a8"
             ],
             [
              0.3333333333333333,
              "#9c179e"
             ],
             [
              0.4444444444444444,
              "#bd3786"
             ],
             [
              0.5555555555555556,
              "#d8576b"
             ],
             [
              0.6666666666666666,
              "#ed7953"
             ],
             [
              0.7777777777777778,
              "#fb9f3a"
             ],
             [
              0.8888888888888888,
              "#fdca26"
             ],
             [
              1,
              "#f0f921"
             ]
            ],
            "type": "contour"
           }
          ],
          "contourcarpet": [
           {
            "colorbar": {
             "outlinewidth": 0,
             "ticks": ""
            },
            "type": "contourcarpet"
           }
          ],
          "heatmap": [
           {
            "colorbar": {
             "outlinewidth": 0,
             "ticks": ""
            },
            "colorscale": [
             [
              0,
              "#0d0887"
             ],
             [
              0.1111111111111111,
              "#46039f"
             ],
             [
              0.2222222222222222,
              "#7201a8"
             ],
             [
              0.3333333333333333,
              "#9c179e"
             ],
             [
              0.4444444444444444,
              "#bd3786"
             ],
             [
              0.5555555555555556,
              "#d8576b"
             ],
             [
              0.6666666666666666,
              "#ed7953"
             ],
             [
              0.7777777777777778,
              "#fb9f3a"
             ],
             [
              0.8888888888888888,
              "#fdca26"
             ],
             [
              1,
              "#f0f921"
             ]
            ],
            "type": "heatmap"
           }
          ],
          "histogram": [
           {
            "marker": {
             "pattern": {
              "fillmode": "overlay",
              "size": 10,
              "solidity": 0.2
             }
            },
            "type": "histogram"
           }
          ],
          "histogram2d": [
           {
            "colorbar": {
             "outlinewidth": 0,
             "ticks": ""
            },
            "colorscale": [
             [
              0,
              "#0d0887"
             ],
             [
              0.1111111111111111,
              "#46039f"
             ],
             [
              0.2222222222222222,
              "#7201a8"
             ],
             [
              0.3333333333333333,
              "#9c179e"
             ],
             [
              0.4444444444444444,
              "#bd3786"
             ],
             [
              0.5555555555555556,
              "#d8576b"
             ],
             [
              0.6666666666666666,
              "#ed7953"
             ],
             [
              0.7777777777777778,
              "#fb9f3a"
             ],
             [
              0.8888888888888888,
              "#fdca26"
             ],
             [
              1,
              "#f0f921"
             ]
            ],
            "type": "histogram2d"
           }
          ],
          "histogram2dcontour": [
           {
            "colorbar": {
             "outlinewidth": 0,
             "ticks": ""
            },
            "colorscale": [
             [
              0,
              "#0d0887"
             ],
             [
              0.1111111111111111,
              "#46039f"
             ],
             [
              0.2222222222222222,
              "#7201a8"
             ],
             [
              0.3333333333333333,
              "#9c179e"
             ],
             [
              0.4444444444444444,
              "#bd3786"
             ],
             [
              0.5555555555555556,
              "#d8576b"
             ],
             [
              0.6666666666666666,
              "#ed7953"
             ],
             [
              0.7777777777777778,
              "#fb9f3a"
             ],
             [
              0.8888888888888888,
              "#fdca26"
             ],
             [
              1,
              "#f0f921"
             ]
            ],
            "type": "histogram2dcontour"
           }
          ],
          "mesh3d": [
           {
            "colorbar": {
             "outlinewidth": 0,
             "ticks": ""
            },
            "type": "mesh3d"
           }
          ],
          "parcoords": [
           {
            "line": {
             "colorbar": {
              "outlinewidth": 0,
              "ticks": ""
             }
            },
            "type": "parcoords"
           }
          ],
          "pie": [
           {
            "automargin": true,
            "type": "pie"
           }
          ],
          "scatter": [
           {
            "fillpattern": {
             "fillmode": "overlay",
             "size": 10,
             "solidity": 0.2
            },
            "type": "scatter"
           }
          ],
          "scatter3d": [
           {
            "line": {
             "colorbar": {
              "outlinewidth": 0,
              "ticks": ""
             }
            },
            "marker": {
             "colorbar": {
              "outlinewidth": 0,
              "ticks": ""
             }
            },
            "type": "scatter3d"
           }
          ],
          "scattercarpet": [
           {
            "marker": {
             "colorbar": {
              "outlinewidth": 0,
              "ticks": ""
             }
            },
            "type": "scattercarpet"
           }
          ],
          "scattergeo": [
           {
            "marker": {
             "colorbar": {
              "outlinewidth": 0,
              "ticks": ""
             }
            },
            "type": "scattergeo"
           }
          ],
          "scattergl": [
           {
            "marker": {
             "colorbar": {
              "outlinewidth": 0,
              "ticks": ""
             }
            },
            "type": "scattergl"
           }
          ],
          "scattermap": [
           {
            "marker": {
             "colorbar": {
              "outlinewidth": 0,
              "ticks": ""
             }
            },
            "type": "scattermap"
           }
          ],
          "scattermapbox": [
           {
            "marker": {
             "colorbar": {
              "outlinewidth": 0,
              "ticks": ""
             }
            },
            "type": "scattermapbox"
           }
          ],
          "scatterpolar": [
           {
            "marker": {
             "colorbar": {
              "outlinewidth": 0,
              "ticks": ""
             }
            },
            "type": "scatterpolar"
           }
          ],
          "scatterpolargl": [
           {
            "marker": {
             "colorbar": {
              "outlinewidth": 0,
              "ticks": ""
             }
            },
            "type": "scatterpolargl"
           }
          ],
          "scatterternary": [
           {
            "marker": {
             "colorbar": {
              "outlinewidth": 0,
              "ticks": ""
             }
            },
            "type": "scatterternary"
           }
          ],
          "surface": [
           {
            "colorbar": {
             "outlinewidth": 0,
             "ticks": ""
            },
            "colorscale": [
             [
              0,
              "#0d0887"
             ],
             [
              0.1111111111111111,
              "#46039f"
             ],
             [
              0.2222222222222222,
              "#7201a8"
             ],
             [
              0.3333333333333333,
              "#9c179e"
             ],
             [
              0.4444444444444444,
              "#bd3786"
             ],
             [
              0.5555555555555556,
              "#d8576b"
             ],
             [
              0.6666666666666666,
              "#ed7953"
             ],
             [
              0.7777777777777778,
              "#fb9f3a"
             ],
             [
              0.8888888888888888,
              "#fdca26"
             ],
             [
              1,
              "#f0f921"
             ]
            ],
            "type": "surface"
           }
          ],
          "table": [
           {
            "cells": {
             "fill": {
              "color": "#EBF0F8"
             },
             "line": {
              "color": "white"
             }
            },
            "header": {
             "fill": {
              "color": "#C8D4E3"
             },
             "line": {
              "color": "white"
             }
            },
            "type": "table"
           }
          ]
         },
         "layout": {
          "annotationdefaults": {
           "arrowcolor": "#2a3f5f",
           "arrowhead": 0,
           "arrowwidth": 1
          },
          "autotypenumbers": "strict",
          "coloraxis": {
           "colorbar": {
            "outlinewidth": 0,
            "ticks": ""
           }
          },
          "colorscale": {
           "diverging": [
            [
             0,
             "#8e0152"
            ],
            [
             0.1,
             "#c51b7d"
            ],
            [
             0.2,
             "#de77ae"
            ],
            [
             0.3,
             "#f1b6da"
            ],
            [
             0.4,
             "#fde0ef"
            ],
            [
             0.5,
             "#f7f7f7"
            ],
            [
             0.6,
             "#e6f5d0"
            ],
            [
             0.7,
             "#b8e186"
            ],
            [
             0.8,
             "#7fbc41"
            ],
            [
             0.9,
             "#4d9221"
            ],
            [
             1,
             "#276419"
            ]
           ],
           "sequential": [
            [
             0,
             "#0d0887"
            ],
            [
             0.1111111111111111,
             "#46039f"
            ],
            [
             0.2222222222222222,
             "#7201a8"
            ],
            [
             0.3333333333333333,
             "#9c179e"
            ],
            [
             0.4444444444444444,
             "#bd3786"
            ],
            [
             0.5555555555555556,
             "#d8576b"
            ],
            [
             0.6666666666666666,
             "#ed7953"
            ],
            [
             0.7777777777777778,
             "#fb9f3a"
            ],
            [
             0.8888888888888888,
             "#fdca26"
            ],
            [
             1,
             "#f0f921"
            ]
           ],
           "sequentialminus": [
            [
             0,
             "#0d0887"
            ],
            [
             0.1111111111111111,
             "#46039f"
            ],
            [
             0.2222222222222222,
             "#7201a8"
            ],
            [
             0.3333333333333333,
             "#9c179e"
            ],
            [
             0.4444444444444444,
             "#bd3786"
            ],
            [
             0.5555555555555556,
             "#d8576b"
            ],
            [
             0.6666666666666666,
             "#ed7953"
            ],
            [
             0.7777777777777778,
             "#fb9f3a"
            ],
            [
             0.8888888888888888,
             "#fdca26"
            ],
            [
             1,
             "#f0f921"
            ]
           ]
          },
          "colorway": [
           "#636efa",
           "#EF553B",
           "#00cc96",
           "#ab63fa",
           "#FFA15A",
           "#19d3f3",
           "#FF6692",
           "#B6E880",
           "#FF97FF",
           "#FECB52"
          ],
          "font": {
           "color": "#2a3f5f"
          },
          "geo": {
           "bgcolor": "white",
           "lakecolor": "white",
           "landcolor": "white",
           "showlakes": true,
           "showland": true,
           "subunitcolor": "#C8D4E3"
          },
          "hoverlabel": {
           "align": "left"
          },
          "hovermode": "closest",
          "mapbox": {
           "style": "light"
          },
          "paper_bgcolor": "white",
          "plot_bgcolor": "white",
          "polar": {
           "angularaxis": {
            "gridcolor": "#EBF0F8",
            "linecolor": "#EBF0F8",
            "ticks": ""
           },
           "bgcolor": "white",
           "radialaxis": {
            "gridcolor": "#EBF0F8",
            "linecolor": "#EBF0F8",
            "ticks": ""
           }
          },
          "scene": {
           "xaxis": {
            "backgroundcolor": "white",
            "gridcolor": "#DFE8F3",
            "gridwidth": 2,
            "linecolor": "#EBF0F8",
            "showbackground": true,
            "ticks": "",
            "zerolinecolor": "#EBF0F8"
           },
           "yaxis": {
            "backgroundcolor": "white",
            "gridcolor": "#DFE8F3",
            "gridwidth": 2,
            "linecolor": "#EBF0F8",
            "showbackground": true,
            "ticks": "",
            "zerolinecolor": "#EBF0F8"
           },
           "zaxis": {
            "backgroundcolor": "white",
            "gridcolor": "#DFE8F3",
            "gridwidth": 2,
            "linecolor": "#EBF0F8",
            "showbackground": true,
            "ticks": "",
            "zerolinecolor": "#EBF0F8"
           }
          },
          "shapedefaults": {
           "line": {
            "color": "#2a3f5f"
           }
          },
          "ternary": {
           "aaxis": {
            "gridcolor": "#DFE8F3",
            "linecolor": "#A2B1C6",
            "ticks": ""
           },
           "baxis": {
            "gridcolor": "#DFE8F3",
            "linecolor": "#A2B1C6",
            "ticks": ""
           },
           "bgcolor": "white",
           "caxis": {
            "gridcolor": "#DFE8F3",
            "linecolor": "#A2B1C6",
            "ticks": ""
           }
          },
          "title": {
           "x": 0.05
          },
          "xaxis": {
           "automargin": true,
           "gridcolor": "#EBF0F8",
           "linecolor": "#EBF0F8",
           "ticks": "",
           "title": {
            "standoff": 15
           },
           "zerolinecolor": "#EBF0F8",
           "zerolinewidth": 2
          },
          "yaxis": {
           "automargin": true,
           "gridcolor": "#EBF0F8",
           "linecolor": "#EBF0F8",
           "ticks": "",
           "title": {
            "standoff": 15
           },
           "zerolinecolor": "#EBF0F8",
           "zerolinewidth": 2
          }
         }
        },
        "title": {
         "text": "Matriz de Confusion"
        },
        "xaxis": {
         "dtick": 1,
         "gridcolor": "rgb(0, 0, 0)",
         "side": "top",
         "ticks": "",
         "title": {
          "text": "Etiqueta Predicha"
         }
        },
        "yaxis": {
         "autorange": "reversed",
         "dtick": 1,
         "ticks": "",
         "ticksuffix": "  ",
         "title": {
          "text": "Etiqueta Verdadera"
         }
        }
       }
      }
     },
     "metadata": {},
     "output_type": "display_data"
    }
   ],
   "source": [
    "plot_confusion_matrix(\n",
    "    y_true=y_true,\n",
    "    y_pred=y_pred,\n",
    "    labels=sorted(set(y_true)),\n",
    "    filename=CHECKPOINT.replace(\"/\", \"-\") + \"_confusion_matrix\",\n",
    "    dirpath=FIGURES_DIR / MODEL_NAME,\n",
    "    show_as_percentaje=True\n",
    ")"
   ]
  },
  {
   "cell_type": "code",
   "execution_count": 17,
   "metadata": {},
   "outputs": [
    {
     "data": {
      "application/vnd.plotly.v1+json": {
       "config": {
        "plotlyServerURL": "https://plot.ly"
       },
       "data": [
        {
         "mode": "lines+markers",
         "name": "Pérdida de entrenamiento",
         "type": "scatter",
         "x": {
          "bdata": "AAAAAAAA8D8AAAAAAADwPwAAAAAAAABAAAAAAAAAAEAAAAAAAAAIQAAAAAAAAAhAAAAAAAAAEEAAAAAAAAAQQAAAAAAAABRAAAAAAAAAFEAAAAAAAAAYQAAAAAAAABhAAAAAAAAAHEAAAAAAAAAcQAAAAAAAACBAAAAAAAAAIEAAAAAAAAAiQAAAAAAAACJAAAAAAAAAJEAAAAAAAAAkQAAAAAAAACRA",
          "dtype": "f8"
         },
         "y": {
          "bdata": "4JwRpb3B4z8AAAAAAAD4f6JFtvP91Lg/AAAAAAAA+H8/V1uxv+yuPwAAAAAAAPh/H/RsVn2upj8AAAAAAAD4f4JzRpT2Bp8/AAAAAAAA+H+Ens2qz9WWPwAAAAAAAPh/P1dbsb/sjj8AAAAAAAD4f86I0t7gC4M/AAAAAAAA+H9GJXUCmgh7PwAAAAAAAPh/7Q2+MJkqeD8AAAAAAAD4fwAAAAAAAPh/",
          "dtype": "f8"
         }
        },
        {
         "mode": "lines+markers",
         "name": "Pérdida de evaluación",
         "type": "scatter",
         "x": {
          "bdata": "AAAAAAAA8D8AAAAAAADwPwAAAAAAAABAAAAAAAAAAEAAAAAAAAAIQAAAAAAAAAhAAAAAAAAAEEAAAAAAAAAQQAAAAAAAABRAAAAAAAAAFEAAAAAAAAAYQAAAAAAAABhAAAAAAAAAHEAAAAAAAAAcQAAAAAAAACBAAAAAAAAAIEAAAAAAAAAiQAAAAAAAACJAAAAAAAAAJEAAAAAAAAAkQAAAAAAAACRA",
          "dtype": "f8"
         },
         "y": {
          "bdata": "AAAAAAAA+H/6///fWRS4PwAAAAAAAPh/8///3347qz8AAAAAAAD4f/z//z8e/rI/AAAAAAAA+H/5//9/FGqqPwAAAAAAAPh//v//v3i6qz8AAAAAAAD4f/3//x+tyaY/AAAAAAAA+H/2///fY2CpPwAAAAAAAPh/9f///4sKpz8AAAAAAAD4f/T///+raqM/AAAAAAAA+H/2////X/2kPwAAAAAAAPh/",
          "dtype": "f8"
         }
        }
       ],
       "layout": {
        "legend": {
         "title": {
          "text": "Métrica"
         }
        },
        "template": {
         "data": {
          "bar": [
           {
            "error_x": {
             "color": "#2a3f5f"
            },
            "error_y": {
             "color": "#2a3f5f"
            },
            "marker": {
             "line": {
              "color": "white",
              "width": 0.5
             },
             "pattern": {
              "fillmode": "overlay",
              "size": 10,
              "solidity": 0.2
             }
            },
            "type": "bar"
           }
          ],
          "barpolar": [
           {
            "marker": {
             "line": {
              "color": "white",
              "width": 0.5
             },
             "pattern": {
              "fillmode": "overlay",
              "size": 10,
              "solidity": 0.2
             }
            },
            "type": "barpolar"
           }
          ],
          "carpet": [
           {
            "aaxis": {
             "endlinecolor": "#2a3f5f",
             "gridcolor": "#C8D4E3",
             "linecolor": "#C8D4E3",
             "minorgridcolor": "#C8D4E3",
             "startlinecolor": "#2a3f5f"
            },
            "baxis": {
             "endlinecolor": "#2a3f5f",
             "gridcolor": "#C8D4E3",
             "linecolor": "#C8D4E3",
             "minorgridcolor": "#C8D4E3",
             "startlinecolor": "#2a3f5f"
            },
            "type": "carpet"
           }
          ],
          "choropleth": [
           {
            "colorbar": {
             "outlinewidth": 0,
             "ticks": ""
            },
            "type": "choropleth"
           }
          ],
          "contour": [
           {
            "colorbar": {
             "outlinewidth": 0,
             "ticks": ""
            },
            "colorscale": [
             [
              0,
              "#0d0887"
             ],
             [
              0.1111111111111111,
              "#46039f"
             ],
             [
              0.2222222222222222,
              "#7201a8"
             ],
             [
              0.3333333333333333,
              "#9c179e"
             ],
             [
              0.4444444444444444,
              "#bd3786"
             ],
             [
              0.5555555555555556,
              "#d8576b"
             ],
             [
              0.6666666666666666,
              "#ed7953"
             ],
             [
              0.7777777777777778,
              "#fb9f3a"
             ],
             [
              0.8888888888888888,
              "#fdca26"
             ],
             [
              1,
              "#f0f921"
             ]
            ],
            "type": "contour"
           }
          ],
          "contourcarpet": [
           {
            "colorbar": {
             "outlinewidth": 0,
             "ticks": ""
            },
            "type": "contourcarpet"
           }
          ],
          "heatmap": [
           {
            "colorbar": {
             "outlinewidth": 0,
             "ticks": ""
            },
            "colorscale": [
             [
              0,
              "#0d0887"
             ],
             [
              0.1111111111111111,
              "#46039f"
             ],
             [
              0.2222222222222222,
              "#7201a8"
             ],
             [
              0.3333333333333333,
              "#9c179e"
             ],
             [
              0.4444444444444444,
              "#bd3786"
             ],
             [
              0.5555555555555556,
              "#d8576b"
             ],
             [
              0.6666666666666666,
              "#ed7953"
             ],
             [
              0.7777777777777778,
              "#fb9f3a"
             ],
             [
              0.8888888888888888,
              "#fdca26"
             ],
             [
              1,
              "#f0f921"
             ]
            ],
            "type": "heatmap"
           }
          ],
          "histogram": [
           {
            "marker": {
             "pattern": {
              "fillmode": "overlay",
              "size": 10,
              "solidity": 0.2
             }
            },
            "type": "histogram"
           }
          ],
          "histogram2d": [
           {
            "colorbar": {
             "outlinewidth": 0,
             "ticks": ""
            },
            "colorscale": [
             [
              0,
              "#0d0887"
             ],
             [
              0.1111111111111111,
              "#46039f"
             ],
             [
              0.2222222222222222,
              "#7201a8"
             ],
             [
              0.3333333333333333,
              "#9c179e"
             ],
             [
              0.4444444444444444,
              "#bd3786"
             ],
             [
              0.5555555555555556,
              "#d8576b"
             ],
             [
              0.6666666666666666,
              "#ed7953"
             ],
             [
              0.7777777777777778,
              "#fb9f3a"
             ],
             [
              0.8888888888888888,
              "#fdca26"
             ],
             [
              1,
              "#f0f921"
             ]
            ],
            "type": "histogram2d"
           }
          ],
          "histogram2dcontour": [
           {
            "colorbar": {
             "outlinewidth": 0,
             "ticks": ""
            },
            "colorscale": [
             [
              0,
              "#0d0887"
             ],
             [
              0.1111111111111111,
              "#46039f"
             ],
             [
              0.2222222222222222,
              "#7201a8"
             ],
             [
              0.3333333333333333,
              "#9c179e"
             ],
             [
              0.4444444444444444,
              "#bd3786"
             ],
             [
              0.5555555555555556,
              "#d8576b"
             ],
             [
              0.6666666666666666,
              "#ed7953"
             ],
             [
              0.7777777777777778,
              "#fb9f3a"
             ],
             [
              0.8888888888888888,
              "#fdca26"
             ],
             [
              1,
              "#f0f921"
             ]
            ],
            "type": "histogram2dcontour"
           }
          ],
          "mesh3d": [
           {
            "colorbar": {
             "outlinewidth": 0,
             "ticks": ""
            },
            "type": "mesh3d"
           }
          ],
          "parcoords": [
           {
            "line": {
             "colorbar": {
              "outlinewidth": 0,
              "ticks": ""
             }
            },
            "type": "parcoords"
           }
          ],
          "pie": [
           {
            "automargin": true,
            "type": "pie"
           }
          ],
          "scatter": [
           {
            "fillpattern": {
             "fillmode": "overlay",
             "size": 10,
             "solidity": 0.2
            },
            "type": "scatter"
           }
          ],
          "scatter3d": [
           {
            "line": {
             "colorbar": {
              "outlinewidth": 0,
              "ticks": ""
             }
            },
            "marker": {
             "colorbar": {
              "outlinewidth": 0,
              "ticks": ""
             }
            },
            "type": "scatter3d"
           }
          ],
          "scattercarpet": [
           {
            "marker": {
             "colorbar": {
              "outlinewidth": 0,
              "ticks": ""
             }
            },
            "type": "scattercarpet"
           }
          ],
          "scattergeo": [
           {
            "marker": {
             "colorbar": {
              "outlinewidth": 0,
              "ticks": ""
             }
            },
            "type": "scattergeo"
           }
          ],
          "scattergl": [
           {
            "marker": {
             "colorbar": {
              "outlinewidth": 0,
              "ticks": ""
             }
            },
            "type": "scattergl"
           }
          ],
          "scattermap": [
           {
            "marker": {
             "colorbar": {
              "outlinewidth": 0,
              "ticks": ""
             }
            },
            "type": "scattermap"
           }
          ],
          "scattermapbox": [
           {
            "marker": {
             "colorbar": {
              "outlinewidth": 0,
              "ticks": ""
             }
            },
            "type": "scattermapbox"
           }
          ],
          "scatterpolar": [
           {
            "marker": {
             "colorbar": {
              "outlinewidth": 0,
              "ticks": ""
             }
            },
            "type": "scatterpolar"
           }
          ],
          "scatterpolargl": [
           {
            "marker": {
             "colorbar": {
              "outlinewidth": 0,
              "ticks": ""
             }
            },
            "type": "scatterpolargl"
           }
          ],
          "scatterternary": [
           {
            "marker": {
             "colorbar": {
              "outlinewidth": 0,
              "ticks": ""
             }
            },
            "type": "scatterternary"
           }
          ],
          "surface": [
           {
            "colorbar": {
             "outlinewidth": 0,
             "ticks": ""
            },
            "colorscale": [
             [
              0,
              "#0d0887"
             ],
             [
              0.1111111111111111,
              "#46039f"
             ],
             [
              0.2222222222222222,
              "#7201a8"
             ],
             [
              0.3333333333333333,
              "#9c179e"
             ],
             [
              0.4444444444444444,
              "#bd3786"
             ],
             [
              0.5555555555555556,
              "#d8576b"
             ],
             [
              0.6666666666666666,
              "#ed7953"
             ],
             [
              0.7777777777777778,
              "#fb9f3a"
             ],
             [
              0.8888888888888888,
              "#fdca26"
             ],
             [
              1,
              "#f0f921"
             ]
            ],
            "type": "surface"
           }
          ],
          "table": [
           {
            "cells": {
             "fill": {
              "color": "#EBF0F8"
             },
             "line": {
              "color": "white"
             }
            },
            "header": {
             "fill": {
              "color": "#C8D4E3"
             },
             "line": {
              "color": "white"
             }
            },
            "type": "table"
           }
          ]
         },
         "layout": {
          "annotationdefaults": {
           "arrowcolor": "#2a3f5f",
           "arrowhead": 0,
           "arrowwidth": 1
          },
          "autotypenumbers": "strict",
          "coloraxis": {
           "colorbar": {
            "outlinewidth": 0,
            "ticks": ""
           }
          },
          "colorscale": {
           "diverging": [
            [
             0,
             "#8e0152"
            ],
            [
             0.1,
             "#c51b7d"
            ],
            [
             0.2,
             "#de77ae"
            ],
            [
             0.3,
             "#f1b6da"
            ],
            [
             0.4,
             "#fde0ef"
            ],
            [
             0.5,
             "#f7f7f7"
            ],
            [
             0.6,
             "#e6f5d0"
            ],
            [
             0.7,
             "#b8e186"
            ],
            [
             0.8,
             "#7fbc41"
            ],
            [
             0.9,
             "#4d9221"
            ],
            [
             1,
             "#276419"
            ]
           ],
           "sequential": [
            [
             0,
             "#0d0887"
            ],
            [
             0.1111111111111111,
             "#46039f"
            ],
            [
             0.2222222222222222,
             "#7201a8"
            ],
            [
             0.3333333333333333,
             "#9c179e"
            ],
            [
             0.4444444444444444,
             "#bd3786"
            ],
            [
             0.5555555555555556,
             "#d8576b"
            ],
            [
             0.6666666666666666,
             "#ed7953"
            ],
            [
             0.7777777777777778,
             "#fb9f3a"
            ],
            [
             0.8888888888888888,
             "#fdca26"
            ],
            [
             1,
             "#f0f921"
            ]
           ],
           "sequentialminus": [
            [
             0,
             "#0d0887"
            ],
            [
             0.1111111111111111,
             "#46039f"
            ],
            [
             0.2222222222222222,
             "#7201a8"
            ],
            [
             0.3333333333333333,
             "#9c179e"
            ],
            [
             0.4444444444444444,
             "#bd3786"
            ],
            [
             0.5555555555555556,
             "#d8576b"
            ],
            [
             0.6666666666666666,
             "#ed7953"
            ],
            [
             0.7777777777777778,
             "#fb9f3a"
            ],
            [
             0.8888888888888888,
             "#fdca26"
            ],
            [
             1,
             "#f0f921"
            ]
           ]
          },
          "colorway": [
           "#636efa",
           "#EF553B",
           "#00cc96",
           "#ab63fa",
           "#FFA15A",
           "#19d3f3",
           "#FF6692",
           "#B6E880",
           "#FF97FF",
           "#FECB52"
          ],
          "font": {
           "color": "#2a3f5f"
          },
          "geo": {
           "bgcolor": "white",
           "lakecolor": "white",
           "landcolor": "white",
           "showlakes": true,
           "showland": true,
           "subunitcolor": "#C8D4E3"
          },
          "hoverlabel": {
           "align": "left"
          },
          "hovermode": "closest",
          "mapbox": {
           "style": "light"
          },
          "paper_bgcolor": "white",
          "plot_bgcolor": "white",
          "polar": {
           "angularaxis": {
            "gridcolor": "#EBF0F8",
            "linecolor": "#EBF0F8",
            "ticks": ""
           },
           "bgcolor": "white",
           "radialaxis": {
            "gridcolor": "#EBF0F8",
            "linecolor": "#EBF0F8",
            "ticks": ""
           }
          },
          "scene": {
           "xaxis": {
            "backgroundcolor": "white",
            "gridcolor": "#DFE8F3",
            "gridwidth": 2,
            "linecolor": "#EBF0F8",
            "showbackground": true,
            "ticks": "",
            "zerolinecolor": "#EBF0F8"
           },
           "yaxis": {
            "backgroundcolor": "white",
            "gridcolor": "#DFE8F3",
            "gridwidth": 2,
            "linecolor": "#EBF0F8",
            "showbackground": true,
            "ticks": "",
            "zerolinecolor": "#EBF0F8"
           },
           "zaxis": {
            "backgroundcolor": "white",
            "gridcolor": "#DFE8F3",
            "gridwidth": 2,
            "linecolor": "#EBF0F8",
            "showbackground": true,
            "ticks": "",
            "zerolinecolor": "#EBF0F8"
           }
          },
          "shapedefaults": {
           "line": {
            "color": "#2a3f5f"
           }
          },
          "ternary": {
           "aaxis": {
            "gridcolor": "#DFE8F3",
            "linecolor": "#A2B1C6",
            "ticks": ""
           },
           "baxis": {
            "gridcolor": "#DFE8F3",
            "linecolor": "#A2B1C6",
            "ticks": ""
           },
           "bgcolor": "white",
           "caxis": {
            "gridcolor": "#DFE8F3",
            "linecolor": "#A2B1C6",
            "ticks": ""
           }
          },
          "title": {
           "x": 0.05
          },
          "xaxis": {
           "automargin": true,
           "gridcolor": "#EBF0F8",
           "linecolor": "#EBF0F8",
           "ticks": "",
           "title": {
            "standoff": 15
           },
           "zerolinecolor": "#EBF0F8",
           "zerolinewidth": 2
          },
          "yaxis": {
           "automargin": true,
           "gridcolor": "#EBF0F8",
           "linecolor": "#EBF0F8",
           "ticks": "",
           "title": {
            "standoff": 15
           },
           "zerolinecolor": "#EBF0F8",
           "zerolinewidth": 2
          }
         }
        },
        "title": {
         "text": "Pérdida por época"
        },
        "xaxis": {
         "title": {
          "text": "epoch"
         }
        },
        "yaxis": {
         "title": {
          "text": "Valor"
         }
        }
       }
      }
     },
     "metadata": {},
     "output_type": "display_data"
    },
    {
     "data": {
      "application/vnd.plotly.v1+json": {
       "config": {
        "plotlyServerURL": "https://plot.ly"
       },
       "data": [
        {
         "mode": "lines+markers",
         "name": "Accuracy de evaluación",
         "type": "scatter",
         "x": {
          "bdata": "AAAAAAAA8D8AAAAAAAAAQAAAAAAAAAhAAAAAAAAAEEAAAAAAAAAUQAAAAAAAABhAAAAAAAAAHEAAAAAAAAAgQAAAAAAAACJAAAAAAAAAJEA=",
          "dtype": "f8"
         },
         "y": {
          "bdata": "QL2PtzQH7z+sXWO+bnTvPxhAvY+3NO8/oN7HW5qD7z92d3d3d3fvP5RfLPnFku8/dnd3d3d37z9deUCyzpXvPw2VHaYut+8/8axoJOCb7z8=",
          "dtype": "f8"
         }
        }
       ],
       "layout": {
        "legend": {
         "title": {
          "text": "Métrica"
         }
        },
        "template": {
         "data": {
          "bar": [
           {
            "error_x": {
             "color": "#2a3f5f"
            },
            "error_y": {
             "color": "#2a3f5f"
            },
            "marker": {
             "line": {
              "color": "white",
              "width": 0.5
             },
             "pattern": {
              "fillmode": "overlay",
              "size": 10,
              "solidity": 0.2
             }
            },
            "type": "bar"
           }
          ],
          "barpolar": [
           {
            "marker": {
             "line": {
              "color": "white",
              "width": 0.5
             },
             "pattern": {
              "fillmode": "overlay",
              "size": 10,
              "solidity": 0.2
             }
            },
            "type": "barpolar"
           }
          ],
          "carpet": [
           {
            "aaxis": {
             "endlinecolor": "#2a3f5f",
             "gridcolor": "#C8D4E3",
             "linecolor": "#C8D4E3",
             "minorgridcolor": "#C8D4E3",
             "startlinecolor": "#2a3f5f"
            },
            "baxis": {
             "endlinecolor": "#2a3f5f",
             "gridcolor": "#C8D4E3",
             "linecolor": "#C8D4E3",
             "minorgridcolor": "#C8D4E3",
             "startlinecolor": "#2a3f5f"
            },
            "type": "carpet"
           }
          ],
          "choropleth": [
           {
            "colorbar": {
             "outlinewidth": 0,
             "ticks": ""
            },
            "type": "choropleth"
           }
          ],
          "contour": [
           {
            "colorbar": {
             "outlinewidth": 0,
             "ticks": ""
            },
            "colorscale": [
             [
              0,
              "#0d0887"
             ],
             [
              0.1111111111111111,
              "#46039f"
             ],
             [
              0.2222222222222222,
              "#7201a8"
             ],
             [
              0.3333333333333333,
              "#9c179e"
             ],
             [
              0.4444444444444444,
              "#bd3786"
             ],
             [
              0.5555555555555556,
              "#d8576b"
             ],
             [
              0.6666666666666666,
              "#ed7953"
             ],
             [
              0.7777777777777778,
              "#fb9f3a"
             ],
             [
              0.8888888888888888,
              "#fdca26"
             ],
             [
              1,
              "#f0f921"
             ]
            ],
            "type": "contour"
           }
          ],
          "contourcarpet": [
           {
            "colorbar": {
             "outlinewidth": 0,
             "ticks": ""
            },
            "type": "contourcarpet"
           }
          ],
          "heatmap": [
           {
            "colorbar": {
             "outlinewidth": 0,
             "ticks": ""
            },
            "colorscale": [
             [
              0,
              "#0d0887"
             ],
             [
              0.1111111111111111,
              "#46039f"
             ],
             [
              0.2222222222222222,
              "#7201a8"
             ],
             [
              0.3333333333333333,
              "#9c179e"
             ],
             [
              0.4444444444444444,
              "#bd3786"
             ],
             [
              0.5555555555555556,
              "#d8576b"
             ],
             [
              0.6666666666666666,
              "#ed7953"
             ],
             [
              0.7777777777777778,
              "#fb9f3a"
             ],
             [
              0.8888888888888888,
              "#fdca26"
             ],
             [
              1,
              "#f0f921"
             ]
            ],
            "type": "heatmap"
           }
          ],
          "histogram": [
           {
            "marker": {
             "pattern": {
              "fillmode": "overlay",
              "size": 10,
              "solidity": 0.2
             }
            },
            "type": "histogram"
           }
          ],
          "histogram2d": [
           {
            "colorbar": {
             "outlinewidth": 0,
             "ticks": ""
            },
            "colorscale": [
             [
              0,
              "#0d0887"
             ],
             [
              0.1111111111111111,
              "#46039f"
             ],
             [
              0.2222222222222222,
              "#7201a8"
             ],
             [
              0.3333333333333333,
              "#9c179e"
             ],
             [
              0.4444444444444444,
              "#bd3786"
             ],
             [
              0.5555555555555556,
              "#d8576b"
             ],
             [
              0.6666666666666666,
              "#ed7953"
             ],
             [
              0.7777777777777778,
              "#fb9f3a"
             ],
             [
              0.8888888888888888,
              "#fdca26"
             ],
             [
              1,
              "#f0f921"
             ]
            ],
            "type": "histogram2d"
           }
          ],
          "histogram2dcontour": [
           {
            "colorbar": {
             "outlinewidth": 0,
             "ticks": ""
            },
            "colorscale": [
             [
              0,
              "#0d0887"
             ],
             [
              0.1111111111111111,
              "#46039f"
             ],
             [
              0.2222222222222222,
              "#7201a8"
             ],
             [
              0.3333333333333333,
              "#9c179e"
             ],
             [
              0.4444444444444444,
              "#bd3786"
             ],
             [
              0.5555555555555556,
              "#d8576b"
             ],
             [
              0.6666666666666666,
              "#ed7953"
             ],
             [
              0.7777777777777778,
              "#fb9f3a"
             ],
             [
              0.8888888888888888,
              "#fdca26"
             ],
             [
              1,
              "#f0f921"
             ]
            ],
            "type": "histogram2dcontour"
           }
          ],
          "mesh3d": [
           {
            "colorbar": {
             "outlinewidth": 0,
             "ticks": ""
            },
            "type": "mesh3d"
           }
          ],
          "parcoords": [
           {
            "line": {
             "colorbar": {
              "outlinewidth": 0,
              "ticks": ""
             }
            },
            "type": "parcoords"
           }
          ],
          "pie": [
           {
            "automargin": true,
            "type": "pie"
           }
          ],
          "scatter": [
           {
            "fillpattern": {
             "fillmode": "overlay",
             "size": 10,
             "solidity": 0.2
            },
            "type": "scatter"
           }
          ],
          "scatter3d": [
           {
            "line": {
             "colorbar": {
              "outlinewidth": 0,
              "ticks": ""
             }
            },
            "marker": {
             "colorbar": {
              "outlinewidth": 0,
              "ticks": ""
             }
            },
            "type": "scatter3d"
           }
          ],
          "scattercarpet": [
           {
            "marker": {
             "colorbar": {
              "outlinewidth": 0,
              "ticks": ""
             }
            },
            "type": "scattercarpet"
           }
          ],
          "scattergeo": [
           {
            "marker": {
             "colorbar": {
              "outlinewidth": 0,
              "ticks": ""
             }
            },
            "type": "scattergeo"
           }
          ],
          "scattergl": [
           {
            "marker": {
             "colorbar": {
              "outlinewidth": 0,
              "ticks": ""
             }
            },
            "type": "scattergl"
           }
          ],
          "scattermap": [
           {
            "marker": {
             "colorbar": {
              "outlinewidth": 0,
              "ticks": ""
             }
            },
            "type": "scattermap"
           }
          ],
          "scattermapbox": [
           {
            "marker": {
             "colorbar": {
              "outlinewidth": 0,
              "ticks": ""
             }
            },
            "type": "scattermapbox"
           }
          ],
          "scatterpolar": [
           {
            "marker": {
             "colorbar": {
              "outlinewidth": 0,
              "ticks": ""
             }
            },
            "type": "scatterpolar"
           }
          ],
          "scatterpolargl": [
           {
            "marker": {
             "colorbar": {
              "outlinewidth": 0,
              "ticks": ""
             }
            },
            "type": "scatterpolargl"
           }
          ],
          "scatterternary": [
           {
            "marker": {
             "colorbar": {
              "outlinewidth": 0,
              "ticks": ""
             }
            },
            "type": "scatterternary"
           }
          ],
          "surface": [
           {
            "colorbar": {
             "outlinewidth": 0,
             "ticks": ""
            },
            "colorscale": [
             [
              0,
              "#0d0887"
             ],
             [
              0.1111111111111111,
              "#46039f"
             ],
             [
              0.2222222222222222,
              "#7201a8"
             ],
             [
              0.3333333333333333,
              "#9c179e"
             ],
             [
              0.4444444444444444,
              "#bd3786"
             ],
             [
              0.5555555555555556,
              "#d8576b"
             ],
             [
              0.6666666666666666,
              "#ed7953"
             ],
             [
              0.7777777777777778,
              "#fb9f3a"
             ],
             [
              0.8888888888888888,
              "#fdca26"
             ],
             [
              1,
              "#f0f921"
             ]
            ],
            "type": "surface"
           }
          ],
          "table": [
           {
            "cells": {
             "fill": {
              "color": "#EBF0F8"
             },
             "line": {
              "color": "white"
             }
            },
            "header": {
             "fill": {
              "color": "#C8D4E3"
             },
             "line": {
              "color": "white"
             }
            },
            "type": "table"
           }
          ]
         },
         "layout": {
          "annotationdefaults": {
           "arrowcolor": "#2a3f5f",
           "arrowhead": 0,
           "arrowwidth": 1
          },
          "autotypenumbers": "strict",
          "coloraxis": {
           "colorbar": {
            "outlinewidth": 0,
            "ticks": ""
           }
          },
          "colorscale": {
           "diverging": [
            [
             0,
             "#8e0152"
            ],
            [
             0.1,
             "#c51b7d"
            ],
            [
             0.2,
             "#de77ae"
            ],
            [
             0.3,
             "#f1b6da"
            ],
            [
             0.4,
             "#fde0ef"
            ],
            [
             0.5,
             "#f7f7f7"
            ],
            [
             0.6,
             "#e6f5d0"
            ],
            [
             0.7,
             "#b8e186"
            ],
            [
             0.8,
             "#7fbc41"
            ],
            [
             0.9,
             "#4d9221"
            ],
            [
             1,
             "#276419"
            ]
           ],
           "sequential": [
            [
             0,
             "#0d0887"
            ],
            [
             0.1111111111111111,
             "#46039f"
            ],
            [
             0.2222222222222222,
             "#7201a8"
            ],
            [
             0.3333333333333333,
             "#9c179e"
            ],
            [
             0.4444444444444444,
             "#bd3786"
            ],
            [
             0.5555555555555556,
             "#d8576b"
            ],
            [
             0.6666666666666666,
             "#ed7953"
            ],
            [
             0.7777777777777778,
             "#fb9f3a"
            ],
            [
             0.8888888888888888,
             "#fdca26"
            ],
            [
             1,
             "#f0f921"
            ]
           ],
           "sequentialminus": [
            [
             0,
             "#0d0887"
            ],
            [
             0.1111111111111111,
             "#46039f"
            ],
            [
             0.2222222222222222,
             "#7201a8"
            ],
            [
             0.3333333333333333,
             "#9c179e"
            ],
            [
             0.4444444444444444,
             "#bd3786"
            ],
            [
             0.5555555555555556,
             "#d8576b"
            ],
            [
             0.6666666666666666,
             "#ed7953"
            ],
            [
             0.7777777777777778,
             "#fb9f3a"
            ],
            [
             0.8888888888888888,
             "#fdca26"
            ],
            [
             1,
             "#f0f921"
            ]
           ]
          },
          "colorway": [
           "#636efa",
           "#EF553B",
           "#00cc96",
           "#ab63fa",
           "#FFA15A",
           "#19d3f3",
           "#FF6692",
           "#B6E880",
           "#FF97FF",
           "#FECB52"
          ],
          "font": {
           "color": "#2a3f5f"
          },
          "geo": {
           "bgcolor": "white",
           "lakecolor": "white",
           "landcolor": "white",
           "showlakes": true,
           "showland": true,
           "subunitcolor": "#C8D4E3"
          },
          "hoverlabel": {
           "align": "left"
          },
          "hovermode": "closest",
          "mapbox": {
           "style": "light"
          },
          "paper_bgcolor": "white",
          "plot_bgcolor": "white",
          "polar": {
           "angularaxis": {
            "gridcolor": "#EBF0F8",
            "linecolor": "#EBF0F8",
            "ticks": ""
           },
           "bgcolor": "white",
           "radialaxis": {
            "gridcolor": "#EBF0F8",
            "linecolor": "#EBF0F8",
            "ticks": ""
           }
          },
          "scene": {
           "xaxis": {
            "backgroundcolor": "white",
            "gridcolor": "#DFE8F3",
            "gridwidth": 2,
            "linecolor": "#EBF0F8",
            "showbackground": true,
            "ticks": "",
            "zerolinecolor": "#EBF0F8"
           },
           "yaxis": {
            "backgroundcolor": "white",
            "gridcolor": "#DFE8F3",
            "gridwidth": 2,
            "linecolor": "#EBF0F8",
            "showbackground": true,
            "ticks": "",
            "zerolinecolor": "#EBF0F8"
           },
           "zaxis": {
            "backgroundcolor": "white",
            "gridcolor": "#DFE8F3",
            "gridwidth": 2,
            "linecolor": "#EBF0F8",
            "showbackground": true,
            "ticks": "",
            "zerolinecolor": "#EBF0F8"
           }
          },
          "shapedefaults": {
           "line": {
            "color": "#2a3f5f"
           }
          },
          "ternary": {
           "aaxis": {
            "gridcolor": "#DFE8F3",
            "linecolor": "#A2B1C6",
            "ticks": ""
           },
           "baxis": {
            "gridcolor": "#DFE8F3",
            "linecolor": "#A2B1C6",
            "ticks": ""
           },
           "bgcolor": "white",
           "caxis": {
            "gridcolor": "#DFE8F3",
            "linecolor": "#A2B1C6",
            "ticks": ""
           }
          },
          "title": {
           "x": 0.05
          },
          "xaxis": {
           "automargin": true,
           "gridcolor": "#EBF0F8",
           "linecolor": "#EBF0F8",
           "ticks": "",
           "title": {
            "standoff": 15
           },
           "zerolinecolor": "#EBF0F8",
           "zerolinewidth": 2
          },
          "yaxis": {
           "automargin": true,
           "gridcolor": "#EBF0F8",
           "linecolor": "#EBF0F8",
           "ticks": "",
           "title": {
            "standoff": 15
           },
           "zerolinecolor": "#EBF0F8",
           "zerolinewidth": 2
          }
         }
        },
        "title": {
         "text": "Accuracy por época"
        },
        "xaxis": {
         "title": {
          "text": "epoch"
         }
        },
        "yaxis": {
         "title": {
          "text": "Valor"
         }
        }
       }
      }
     },
     "metadata": {},
     "output_type": "display_data"
    }
   ],
   "source": [
    "# Filtramos solo las filas que tienen datos útiles\n",
    "filtered_history = history.copy()\n",
    "filtered_history = filtered_history[filtered_history[\"epoch\"].notna()]\n",
    "\n",
    "# Plot de pérdidas (loss)\n",
    "plot_metric(\n",
    "    filtered_history,\n",
    "    x_col=\"epoch\",\n",
    "    y_cols=[\"loss\", \"eval_loss\"],\n",
    "    y_labels=[\"Pérdida de entrenamiento\", \"Pérdida de evaluación\"],\n",
    "    title=\"Pérdida por época\",\n",
    "    filename=CHECKPOINT.replace(\"/\", \"-\") + \"_loss_plot\",\n",
    "    dirpath=FIGURES_DIR / MODEL_NAME,\n",
    ")\n",
    "\n",
    "# Plot de accuracy\n",
    "if \"eval_accuracy\" in filtered_history.columns:\n",
    "    plot_metric(\n",
    "        filtered_history[filtered_history[\"eval_accuracy\"].notna()],\n",
    "        x_col=\"epoch\",\n",
    "        y_cols=[\"eval_accuracy\"],\n",
    "        y_labels=[\"Accuracy de evaluación\"],\n",
    "        title=\"Accuracy por época\",\n",
    "        filename=CHECKPOINT.replace(\"/\", \"-\") + \"_accuracy_plot\",\n",
    "        dirpath=FIGURES_DIR / MODEL_NAME,\n",
    "    )"
   ]
  }
 ],
 "metadata": {
  "kernelspec": {
   "display_name": "vision-transformer-py3.13",
   "language": "python",
   "name": "python3"
  },
  "language_info": {
   "codemirror_mode": {
    "name": "ipython",
    "version": 3
   },
   "file_extension": ".py",
   "mimetype": "text/x-python",
   "name": "python",
   "nbconvert_exporter": "python",
   "pygments_lexer": "ipython3",
   "version": "3.13.3"
  }
 },
 "nbformat": 4,
 "nbformat_minor": 2
}
